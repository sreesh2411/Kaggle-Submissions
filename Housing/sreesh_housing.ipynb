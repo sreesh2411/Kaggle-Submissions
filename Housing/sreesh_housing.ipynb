{
 "cells": [
  {
   "cell_type": "markdown",
   "id": "150e05e0",
   "metadata": {
    "_cell_guid": "69d8676d-43f6-4076-be0a-3f741077e31a",
    "_uuid": "1da372b3-c446-42b0-9f46-f8bed0b61fb9",
    "papermill": {
     "duration": 0.029325,
     "end_time": "2021-10-15T20:34:04.128070",
     "exception": false,
     "start_time": "2021-10-15T20:34:04.098745",
     "status": "completed"
    },
    "tags": []
   },
   "source": [
    "**This notebook is an exercise in the [Intermediate Machine Learning](https://www.kaggle.com/learn/intermediate-machine-learning) course.  You can reference the tutorial at [this link](https://www.kaggle.com/alexisbcook/missing-values).**\n",
    "\n",
    "---"
   ]
  },
  {
   "cell_type": "markdown",
   "id": "b686770a",
   "metadata": {
    "_cell_guid": "688c2d2e-cdc9-4a5c-a66c-3310efe02fa5",
    "_uuid": "46ea2372-a8ac-46c9-8b6f-fa8ccc7e0d37",
    "papermill": {
     "duration": 0.026154,
     "end_time": "2021-10-15T20:34:04.182338",
     "exception": false,
     "start_time": "2021-10-15T20:34:04.156184",
     "status": "completed"
    },
    "tags": []
   },
   "source": [
    "Now it's your turn to test your new knowledge of **missing values** handling. You'll probably find it makes a big difference.\n",
    "\n",
    "# Setup\n",
    "\n",
    "The questions will give you feedback on your work. Run the following cell to set up the feedback system."
   ]
  },
  {
   "cell_type": "markdown",
   "id": "7c30fa48",
   "metadata": {
    "_cell_guid": "1e458971-a103-4753-8933-e2a5c1b2c25d",
    "_uuid": "9a0422af-c81b-4f06-96d5-ee85a1049c82",
    "papermill": {
     "duration": 0.025638,
     "end_time": "2021-10-15T20:34:04.235287",
     "exception": false,
     "start_time": "2021-10-15T20:34:04.209649",
     "status": "completed"
    },
    "tags": []
   },
   "source": [
    "In this exercise, you will work with data from the [Housing Prices Competition for Kaggle Learn Users](https://www.kaggle.com/c/home-data-for-ml-course). \n",
    "\n",
    "![Ames Housing dataset image](https://i.imgur.com/lTJVG4e.png)\n",
    "\n",
    "Run the next code cell without changes to load the training and validation sets in `X_train`, `X_valid`, `y_train`, and `y_valid`.  The test set is loaded in `X_test`."
   ]
  },
  {
   "cell_type": "code",
   "execution_count": 1,
   "id": "a8a2bd8c",
   "metadata": {
    "_cell_guid": "7ee23f28-4373-416c-b37e-6866e2eedd10",
    "_uuid": "f41d8eac-4159-4bbe-975d-39fcbc4bd5d3",
    "collapsed": false,
    "execution": {
     "iopub.execute_input": "2021-10-15T20:34:04.303284Z",
     "iopub.status.busy": "2021-10-15T20:34:04.302590Z",
     "iopub.status.idle": "2021-10-15T20:34:05.555749Z",
     "shell.execute_reply": "2021-10-15T20:34:05.556407Z",
     "shell.execute_reply.started": "2021-10-08T21:28:16.731023Z"
    },
    "jupyter": {
     "outputs_hidden": false
    },
    "papermill": {
     "duration": 1.294937,
     "end_time": "2021-10-15T20:34:05.556820",
     "exception": false,
     "start_time": "2021-10-15T20:34:04.261883",
     "status": "completed"
    },
    "tags": []
   },
   "outputs": [],
   "source": [
    "# Importing data\n",
    "import numpy as np\n",
    "import pandas as pd\n",
    "from sklearn.model_selection import train_test_split\n",
    "\n",
    "# Read the data\n",
    "X = pd.read_csv('../input/train.csv', index_col='Id')\n",
    "X_test = pd.read_csv('../input/test.csv', index_col='Id')"
   ]
  },
  {
   "cell_type": "markdown",
   "id": "6ba28427",
   "metadata": {
    "_cell_guid": "602a0f92-6249-4fbc-9794-6c0298c6f6a9",
    "_uuid": "11fc56d6-81b8-496d-a05a-7d7abc7bb327",
    "papermill": {
     "duration": 0.026142,
     "end_time": "2021-10-15T20:34:05.611532",
     "exception": false,
     "start_time": "2021-10-15T20:34:05.585390",
     "status": "completed"
    },
    "tags": []
   },
   "source": [
    "**1.1 - Checking Data:**"
   ]
  },
  {
   "cell_type": "code",
   "execution_count": 2,
   "id": "e2723fac",
   "metadata": {
    "_cell_guid": "d48131d4-8f79-4dbb-b9d3-1a61bb60444f",
    "_uuid": "0de2391a-d771-489c-b110-156b3d961d81",
    "collapsed": false,
    "execution": {
     "iopub.execute_input": "2021-10-15T20:34:05.680114Z",
     "iopub.status.busy": "2021-10-15T20:34:05.679004Z",
     "iopub.status.idle": "2021-10-15T20:34:05.684350Z",
     "shell.execute_reply": "2021-10-15T20:34:05.683760Z",
     "shell.execute_reply.started": "2021-10-15T19:06:11.377555Z"
    },
    "jupyter": {
     "outputs_hidden": false
    },
    "papermill": {
     "duration": 0.04634,
     "end_time": "2021-10-15T20:34:05.684512",
     "exception": false,
     "start_time": "2021-10-15T20:34:05.638172",
     "status": "completed"
    },
    "tags": []
   },
   "outputs": [
    {
     "name": "stdout",
     "output_type": "stream",
     "text": [
      "Shape train dataset (com coluna target ): (1460, 80)\n",
      "Shape test dataset: (1459, 79)\n",
      "Missing rows in target column train: 0\n",
      "Numerical columns: 37\n"
     ]
    }
   ],
   "source": [
    "# Shape train dataset:\n",
    "print(\"Shape train dataset (com coluna target ):\", X.shape)\n",
    "\n",
    "\n",
    "# Shape test dataset:\n",
    "print(\"Shape test dataset:\", X_test.shape)\n",
    "\n",
    "\n",
    "# Missing rows in target column train:\n",
    "print(\"Missing rows in target column train:\", (X.SalePrice.isnull().sum()))\n",
    "\n",
    "\n",
    "# Numeric columns:\n",
    "print(\"Numerical columns:\", X.select_dtypes(include=np.number).shape[1])\n",
    "\n",
    "\n",
    "# Missing rows in numeric columns:\n",
    "#print(\"Numerical columns:\", X[X.select_dtypes(include=np.number).isnull().sum()>0]\n",
    "\n",
    "# Categorical columns:\n",
    "\n",
    "\n",
    "\n",
    "# Missing rows in numeric columns:"
   ]
  },
  {
   "cell_type": "markdown",
   "id": "046bb149",
   "metadata": {
    "_cell_guid": "32d8a66b-9b7a-4dca-b49c-72449c163fa9",
    "_uuid": "811554d9-d5dd-44f6-bcd1-d92def4b6540",
    "papermill": {
     "duration": 0.026311,
     "end_time": "2021-10-15T20:34:05.738059",
     "exception": false,
     "start_time": "2021-10-15T20:34:05.711748",
     "status": "completed"
    },
    "tags": []
   },
   "source": [
    "**1.2 - Data split train/valid:**"
   ]
  },
  {
   "cell_type": "code",
   "execution_count": 3,
   "id": "ddfa9a57",
   "metadata": {
    "_cell_guid": "c4373443-dc4e-47aa-a0f1-4345060293eb",
    "_uuid": "c4f3d943-8c26-42e6-ac4f-73f8ce96e715",
    "collapsed": false,
    "execution": {
     "iopub.execute_input": "2021-10-15T20:34:05.804747Z",
     "iopub.status.busy": "2021-10-15T20:34:05.803979Z",
     "iopub.status.idle": "2021-10-15T20:34:05.811829Z",
     "shell.execute_reply": "2021-10-15T20:34:05.811251Z",
     "shell.execute_reply.started": "2021-10-15T19:06:11.392351Z"
    },
    "jupyter": {
     "outputs_hidden": false
    },
    "papermill": {
     "duration": 0.046843,
     "end_time": "2021-10-15T20:34:05.812004",
     "exception": false,
     "start_time": "2021-10-15T20:34:05.765161",
     "status": "completed"
    },
    "tags": []
   },
   "outputs": [
    {
     "name": "stdout",
     "output_type": "stream",
     "text": [
      "(1460, 79)\n",
      "(1168, 79)\n"
     ]
    }
   ],
   "source": [
    "# separate target from predictors\n",
    "#X.dropna(axis=0, subset=['SalePrice'], inplace=True)\n",
    "y = X.SalePrice\n",
    "X.drop(['SalePrice'], axis=1, inplace=True)\n",
    "print(X.shape)\n",
    "\n",
    "\n",
    "# Break off validation set from training data\n",
    "X_train, X_valid, y_train, y_valid = train_test_split(X, y, train_size=0.8, test_size=0.2,random_state=1)\n",
    "print(X_train.shape)"
   ]
  },
  {
   "cell_type": "markdown",
   "id": "5a52ebcb",
   "metadata": {
    "_cell_guid": "f21dc57a-e8c9-41c3-98e7-e4324f88366c",
    "_uuid": "3108157b-a98e-48af-9eb7-cbcfd419b1eb",
    "papermill": {
     "duration": 0.027072,
     "end_time": "2021-10-15T20:34:05.867832",
     "exception": false,
     "start_time": "2021-10-15T20:34:05.840760",
     "status": "completed"
    },
    "tags": []
   },
   "source": [
    "**1.3 - Separação numerico e categorico:**"
   ]
  },
  {
   "cell_type": "code",
   "execution_count": 4,
   "id": "d7a1a36b",
   "metadata": {
    "_cell_guid": "55c22caa-8c8b-4175-8b2a-289d4e1b9e2a",
    "_uuid": "fed7a381-f125-4413-9b33-5e5e9acdc163",
    "collapsed": false,
    "execution": {
     "iopub.execute_input": "2021-10-15T20:34:05.937542Z",
     "iopub.status.busy": "2021-10-15T20:34:05.936771Z",
     "iopub.status.idle": "2021-10-15T20:34:05.945733Z",
     "shell.execute_reply": "2021-10-15T20:34:05.946238Z",
     "shell.execute_reply.started": "2021-10-15T19:06:11.407294Z"
    },
    "jupyter": {
     "outputs_hidden": false
    },
    "papermill": {
     "duration": 0.050983,
     "end_time": "2021-10-15T20:34:05.946455",
     "exception": false,
     "start_time": "2021-10-15T20:34:05.895472",
     "status": "completed"
    },
    "tags": []
   },
   "outputs": [
    {
     "name": "stdout",
     "output_type": "stream",
     "text": [
      "(1168, 36)\n",
      "(292, 36)\n",
      "(1459, 36)\n",
      "(1168, 43)\n",
      "(292, 43)\n",
      "(1459, 43)\n"
     ]
    }
   ],
   "source": [
    "# Selecionando numericos\n",
    "X_numerical_train = X_train.select_dtypes(exclude=['object'])\n",
    "X_numerical_valid = X_valid.select_dtypes(exclude=['object'])\n",
    "X_numerical_test = X_test.select_dtypes(exclude=['object'])\n",
    "\n",
    "# Selecionando categoricos\n",
    "X_categorical_train = X_train.select_dtypes(exclude=['int64', 'float64'])\n",
    "X_categorical_valid = X_valid.select_dtypes(exclude=['int64', 'float64'])\n",
    "X_categorical_test = X_test.select_dtypes(exclude=['int64', 'float64'])\n",
    "\n",
    "print(X_numerical_train.shape)\n",
    "print(X_numerical_valid.shape)\n",
    "print(X_numerical_test.shape)\n",
    "print(X_categorical_train.shape)\n",
    "print(X_categorical_valid.shape)\n",
    "print(X_categorical_test.shape) #Tudo certo, nenhum dado sumido."
   ]
  },
  {
   "cell_type": "markdown",
   "id": "db4b47b1",
   "metadata": {
    "_cell_guid": "f354cb03-5ca4-4aad-996a-2e5ac27652c4",
    "_uuid": "d55ca487-de1b-4999-8c5b-afa4daf1e913",
    "papermill": {
     "duration": 0.02707,
     "end_time": "2021-10-15T20:34:06.000819",
     "exception": false,
     "start_time": "2021-10-15T20:34:05.973749",
     "status": "completed"
    },
    "tags": []
   },
   "source": [
    "**2.1 - Numericos: checar NAs**"
   ]
  },
  {
   "cell_type": "code",
   "execution_count": 5,
   "id": "02ac5746",
   "metadata": {
    "_cell_guid": "3c7cc8b0-457d-4639-a36b-0aaf68c38386",
    "_uuid": "2cd67ff5-ee1c-47d1-bd95-22680f5ac16e",
    "collapsed": false,
    "execution": {
     "iopub.execute_input": "2021-10-15T20:34:06.069585Z",
     "iopub.status.busy": "2021-10-15T20:34:06.060531Z",
     "iopub.status.idle": "2021-10-15T20:34:06.076613Z",
     "shell.execute_reply": "2021-10-15T20:34:06.075961Z",
     "shell.execute_reply.started": "2021-10-15T19:06:11.423979Z"
    },
    "jupyter": {
     "outputs_hidden": false
    },
    "papermill": {
     "duration": 0.046867,
     "end_time": "2021-10-15T20:34:06.076790",
     "exception": false,
     "start_time": "2021-10-15T20:34:06.029923",
     "status": "completed"
    },
    "tags": []
   },
   "outputs": [
    {
     "name": "stdout",
     "output_type": "stream",
     "text": [
      "Colunas com NA tabela treino: \n",
      " LotFrontage    209\n",
      "MasVnrArea       8\n",
      "GarageYrBlt     61\n",
      "dtype: int64\n",
      "Colunas com NA tabela validation: \n",
      " LotFrontage    50\n",
      "GarageYrBlt    20\n",
      "dtype: int64\n",
      "Colunas com NA tabela teste: \n",
      " LotFrontage     227\n",
      "MasVnrArea       15\n",
      "BsmtFinSF1        1\n",
      "BsmtFinSF2        1\n",
      "BsmtUnfSF         1\n",
      "TotalBsmtSF       1\n",
      "BsmtFullBath      2\n",
      "BsmtHalfBath      2\n",
      "GarageYrBlt      78\n",
      "GarageCars        1\n",
      "GarageArea        1\n",
      "dtype: int64\n"
     ]
    }
   ],
   "source": [
    "# Quais colunas possuem NAs?\n",
    "missing_val_count_by_column = (X_numerical_train.isnull().sum())\n",
    "print(\"Colunas com NA tabela treino: \\n\", missing_val_count_by_column[missing_val_count_by_column > 0])\n",
    "\n",
    "missing_val_count_by_column2 = (X_numerical_valid.isnull().sum())\n",
    "print(\"Colunas com NA tabela validation: \\n\",missing_val_count_by_column2[missing_val_count_by_column2 > 0])\n",
    "\n",
    "\n",
    "missing_val_count_by_column3 = (X_numerical_test.isnull().sum())\n",
    "print(\"Colunas com NA tabela teste: \\n\",missing_val_count_by_column3[missing_val_count_by_column3 > 0])"
   ]
  },
  {
   "cell_type": "markdown",
   "id": "45733cb0",
   "metadata": {
    "_cell_guid": "c795b3ab-75cd-41a5-93fe-b6549e6b6872",
    "_uuid": "61d3a0af-1074-4861-9b40-a95cd4232e78",
    "papermill": {
     "duration": 0.027504,
     "end_time": "2021-10-15T20:34:06.132116",
     "exception": false,
     "start_time": "2021-10-15T20:34:06.104612",
     "status": "completed"
    },
    "tags": []
   },
   "source": [
    "**2.2 - Inputation em colunas com NAs:**"
   ]
  },
  {
   "cell_type": "code",
   "execution_count": 6,
   "id": "4ab16c89",
   "metadata": {
    "_cell_guid": "7483d808-6113-49c0-80c0-8deb96679b91",
    "_uuid": "9e581623-e552-4d11-a52a-d33cf9e27a03",
    "collapsed": false,
    "execution": {
     "iopub.execute_input": "2021-10-15T20:34:06.200557Z",
     "iopub.status.busy": "2021-10-15T20:34:06.199689Z",
     "iopub.status.idle": "2021-10-15T20:34:06.380355Z",
     "shell.execute_reply": "2021-10-15T20:34:06.378900Z",
     "shell.execute_reply.started": "2021-10-15T19:06:11.444053Z"
    },
    "jupyter": {
     "outputs_hidden": false
    },
    "papermill": {
     "duration": 0.220577,
     "end_time": "2021-10-15T20:34:06.380558",
     "exception": false,
     "start_time": "2021-10-15T20:34:06.159981",
     "status": "completed"
    },
    "tags": []
   },
   "outputs": [
    {
     "name": "stderr",
     "output_type": "stream",
     "text": [
      "/opt/conda/lib/python3.7/site-packages/pandas/core/generic.py:5516: SettingWithCopyWarning: \n",
      "A value is trying to be set on a copy of a slice from a DataFrame.\n",
      "Try using .loc[row_indexer,col_indexer] = value instead\n",
      "\n",
      "See the caveats in the documentation: https://pandas.pydata.org/pandas-docs/stable/user_guide/indexing.html#returning-a-view-versus-a-copy\n",
      "  self[name] = value\n"
     ]
    }
   ],
   "source": [
    "# Approach será dividido em 2: \n",
    "    #Os Nas na coluna GarageYrBlt será preenchidos com os respectivos valores da coluna YearBuilt\n",
    "    #Demais valores serão subsituidos pela média\n",
    "    \n",
    "X_numerical_train.GarageYrBlt = X_numerical_train.GarageYrBlt.fillna(X_numerical_train.YearBuilt)\n",
    "X_numerical_valid.GarageYrBlt = X_numerical_valid.GarageYrBlt.fillna(X_numerical_valid.YearBuilt)\n",
    "X_numerical_test.GarageYrBlt = X_numerical_test.GarageYrBlt.fillna(X_numerical_test.YearBuilt)\n",
    "\n",
    "#Testando: \n",
    "    #Funciona - para retestar so colocar o codechunk acima aqui embaixo\n",
    "\n",
    "# Inputando nas outras colunas:\n",
    "from sklearn.impute import SimpleImputer\n",
    "\n",
    "my_imputer = SimpleImputer()\n",
    "X_numerical_train_inp = pd.DataFrame(my_imputer.fit_transform(X_numerical_train))\n",
    "X_numerical_valid_inp = pd.DataFrame(my_imputer.fit_transform(X_numerical_valid))\n",
    "X_numerical_test_inp = pd.DataFrame(my_imputer.fit_transform(X_numerical_test))\n",
    "\n",
    "    #recolocando nome colunas\n",
    "X_numerical_train_inp.columns = X_numerical_train.columns\n",
    "X_numerical_valid_inp.columns = X_numerical_valid.columns\n",
    "X_numerical_test_inp.columns = X_numerical_test.columns"
   ]
  },
  {
   "cell_type": "markdown",
   "id": "809b914e",
   "metadata": {
    "_cell_guid": "4edb51c6-711e-48c0-8474-a6f296864b6c",
    "_uuid": "184f7752-4422-45fe-8931-486d32e87d4a",
    "papermill": {
     "duration": 0.02724,
     "end_time": "2021-10-15T20:34:06.435743",
     "exception": false,
     "start_time": "2021-10-15T20:34:06.408503",
     "status": "completed"
    },
    "tags": []
   },
   "source": [
    "**2.2.1 - Checar:**"
   ]
  },
  {
   "cell_type": "code",
   "execution_count": 7,
   "id": "e4ea8938",
   "metadata": {
    "_cell_guid": "82d91aef-27f8-4998-ad5e-f9f2bbc7f968",
    "_uuid": "2653bb77-2677-4b87-900f-75d565297d14",
    "collapsed": false,
    "execution": {
     "iopub.execute_input": "2021-10-15T20:34:06.509074Z",
     "iopub.status.busy": "2021-10-15T20:34:06.507918Z",
     "iopub.status.idle": "2021-10-15T20:34:06.514563Z",
     "shell.execute_reply": "2021-10-15T20:34:06.513840Z",
     "shell.execute_reply.started": "2021-10-15T19:06:11.589999Z"
    },
    "jupyter": {
     "outputs_hidden": false
    },
    "papermill": {
     "duration": 0.050814,
     "end_time": "2021-10-15T20:34:06.514731",
     "exception": false,
     "start_time": "2021-10-15T20:34:06.463917",
     "status": "completed"
    },
    "tags": []
   },
   "outputs": [
    {
     "name": "stdout",
     "output_type": "stream",
     "text": [
      "Colunas com NA tabela treino: \n",
      " Series([], dtype: int64)\n",
      "Colunas com NA tabela validation: \n",
      " Series([], dtype: int64)\n",
      "Colunas com NA tabela teste: \n",
      " Series([], dtype: int64)\n",
      "MSSubClass       0\n",
      "LotFrontage      0\n",
      "LotArea          0\n",
      "OverallQual      0\n",
      "OverallCond      0\n",
      "YearBuilt        0\n",
      "YearRemodAdd     0\n",
      "MasVnrArea       0\n",
      "BsmtFinSF1       0\n",
      "BsmtFinSF2       0\n",
      "BsmtUnfSF        0\n",
      "TotalBsmtSF      0\n",
      "1stFlrSF         0\n",
      "2ndFlrSF         0\n",
      "LowQualFinSF     0\n",
      "GrLivArea        0\n",
      "BsmtFullBath     0\n",
      "BsmtHalfBath     0\n",
      "FullBath         0\n",
      "HalfBath         0\n",
      "BedroomAbvGr     0\n",
      "KitchenAbvGr     0\n",
      "TotRmsAbvGrd     0\n",
      "Fireplaces       0\n",
      "GarageYrBlt      0\n",
      "GarageCars       0\n",
      "GarageArea       0\n",
      "WoodDeckSF       0\n",
      "OpenPorchSF      0\n",
      "EnclosedPorch    0\n",
      "3SsnPorch        0\n",
      "ScreenPorch      0\n",
      "PoolArea         0\n",
      "MiscVal          0\n",
      "MoSold           0\n",
      "YrSold           0\n",
      "dtype: int64\n"
     ]
    }
   ],
   "source": [
    "# TESTE PRA VER SE AINDA HÁ\n",
    "missing_val_count_by_column = (X_numerical_train_inp.isnull().sum())\n",
    "print(\"Colunas com NA tabela treino: \\n\", missing_val_count_by_column[missing_val_count_by_column > 0])\n",
    "\n",
    "missing_val_count_by_column2 = (X_numerical_valid_inp.isnull().sum())\n",
    "print(\"Colunas com NA tabela validation: \\n\",missing_val_count_by_column2[missing_val_count_by_column2 > 0])\n",
    "\n",
    "\n",
    "missing_val_count_by_column3 = (X_numerical_test_inp.isnull().sum())\n",
    "print(\"Colunas com NA tabela teste: \\n\",missing_val_count_by_column3[missing_val_count_by_column3 > 0])\n",
    "\n",
    "print(X_numerical_train_inp.isnull().sum())\n",
    "\n",
    "#Teste passado!!!"
   ]
  },
  {
   "cell_type": "markdown",
   "id": "b378402d",
   "metadata": {
    "_cell_guid": "d147de38-4a29-47d4-8eca-4eab6e754ff8",
    "_uuid": "cba0ea1c-1331-4556-a626-fc16bcd6298a",
    "papermill": {
     "duration": 0.028365,
     "end_time": "2021-10-15T20:34:06.572690",
     "exception": false,
     "start_time": "2021-10-15T20:34:06.544325",
     "status": "completed"
    },
    "tags": []
   },
   "source": [
    "**3.1 - Categóricos: checar Nas:**"
   ]
  },
  {
   "cell_type": "code",
   "execution_count": 8,
   "id": "398c110a",
   "metadata": {
    "_cell_guid": "d35f7f45-4874-4ff1-abf0-a454e735f7cc",
    "_uuid": "8492fb4f-1e65-441b-966c-8a3bff19efc5",
    "collapsed": false,
    "execution": {
     "iopub.execute_input": "2021-10-15T20:34:06.642806Z",
     "iopub.status.busy": "2021-10-15T20:34:06.642104Z",
     "iopub.status.idle": "2021-10-15T20:34:06.663296Z",
     "shell.execute_reply": "2021-10-15T20:34:06.662658Z",
     "shell.execute_reply.started": "2021-10-15T19:06:11.60659Z"
    },
    "jupyter": {
     "outputs_hidden": false
    },
    "papermill": {
     "duration": 0.062126,
     "end_time": "2021-10-15T20:34:06.663462",
     "exception": false,
     "start_time": "2021-10-15T20:34:06.601336",
     "status": "completed"
    },
    "tags": []
   },
   "outputs": [
    {
     "name": "stdout",
     "output_type": "stream",
     "text": [
      "Colunas com NA tabela treino: \n",
      " Alley           1097\n",
      "MasVnrType         8\n",
      "BsmtQual          30\n",
      "BsmtCond          30\n",
      "BsmtExposure      31\n",
      "BsmtFinType1      30\n",
      "BsmtFinType2      31\n",
      "Electrical         1\n",
      "FireplaceQu      548\n",
      "GarageType        61\n",
      "GarageFinish      61\n",
      "GarageQual        61\n",
      "GarageCond        61\n",
      "PoolQC          1163\n",
      "Fence            954\n",
      "MiscFeature     1124\n",
      "dtype: int64\n",
      "Colunas com NA tabela valid: \n",
      " Alley           272\n",
      "BsmtQual          7\n",
      "BsmtCond          7\n",
      "BsmtExposure      7\n",
      "BsmtFinType1      7\n",
      "BsmtFinType2      7\n",
      "FireplaceQu     142\n",
      "GarageType       20\n",
      "GarageFinish     20\n",
      "GarageQual       20\n",
      "GarageCond       20\n",
      "PoolQC          290\n",
      "Fence           225\n",
      "MiscFeature     282\n",
      "dtype: int64\n",
      "Colunas com NA tabela test: \n",
      " MSZoning           4\n",
      "Alley           1352\n",
      "Utilities          2\n",
      "Exterior1st        1\n",
      "Exterior2nd        1\n",
      "MasVnrType        16\n",
      "BsmtQual          44\n",
      "BsmtCond          45\n",
      "BsmtExposure      44\n",
      "BsmtFinType1      42\n",
      "BsmtFinType2      42\n",
      "KitchenQual        1\n",
      "Functional         2\n",
      "FireplaceQu      730\n",
      "GarageType        76\n",
      "GarageFinish      78\n",
      "GarageQual        78\n",
      "GarageCond        78\n",
      "PoolQC          1456\n",
      "Fence           1169\n",
      "MiscFeature     1408\n",
      "SaleType           1\n",
      "dtype: int64\n"
     ]
    }
   ],
   "source": [
    "missing_val_count_by_column_cat1 = (X_categorical_train.isnull().sum())\n",
    "print(\"Colunas com NA tabela treino: \\n\", missing_val_count_by_column_cat1[missing_val_count_by_column_cat1 > 0]) # 15 colunas\n",
    "\n",
    "missing_val_count_by_column_cat2 = (X_categorical_valid.isnull().sum())\n",
    "print(\"Colunas com NA tabela valid: \\n\", missing_val_count_by_column_cat2[missing_val_count_by_column_cat2 > 0]) # 13 colunas\n",
    "\n",
    "missing_val_count_by_column_cat3 = (X_categorical_test.isnull().sum())\n",
    "print(\"Colunas com NA tabela test: \\n\", missing_val_count_by_column_cat3[missing_val_count_by_column_cat3 > 0]) # 22 colunas"
   ]
  },
  {
   "cell_type": "code",
   "execution_count": 9,
   "id": "a56d7b24",
   "metadata": {
    "_cell_guid": "6aba09ba-cf36-475b-870c-72486cb99ac2",
    "_uuid": "99281509-9bef-4942-8a40-05d3f4c1da78",
    "collapsed": false,
    "execution": {
     "iopub.execute_input": "2021-10-15T20:34:06.734961Z",
     "iopub.status.busy": "2021-10-15T20:34:06.733100Z",
     "iopub.status.idle": "2021-10-15T20:34:06.758050Z",
     "shell.execute_reply": "2021-10-15T20:34:06.757411Z",
     "shell.execute_reply.started": "2021-10-15T19:06:11.628382Z"
    },
    "jupyter": {
     "outputs_hidden": false
    },
    "papermill": {
     "duration": 0.066085,
     "end_time": "2021-10-15T20:34:06.758216",
     "exception": false,
     "start_time": "2021-10-15T20:34:06.692131",
     "status": "completed"
    },
    "tags": []
   },
   "outputs": [
    {
     "data": {
      "text/plain": [
       "[('Street', 2),\n",
       " ('Alley', 2),\n",
       " ('Utilities', 2),\n",
       " ('CentralAir', 2),\n",
       " ('LandSlope', 3),\n",
       " ('GarageFinish', 3),\n",
       " ('PavedDrive', 3),\n",
       " ('PoolQC', 3),\n",
       " ('LotShape', 4),\n",
       " ('LandContour', 4),\n",
       " ('MasVnrType', 4),\n",
       " ('ExterQual', 4),\n",
       " ('BsmtQual', 4),\n",
       " ('BsmtCond', 4),\n",
       " ('BsmtExposure', 4),\n",
       " ('HeatingQC', 4),\n",
       " ('KitchenQual', 4),\n",
       " ('Fence', 4),\n",
       " ('MiscFeature', 4),\n",
       " ('MSZoning', 5),\n",
       " ('LotConfig', 5),\n",
       " ('BldgType', 5),\n",
       " ('ExterCond', 5),\n",
       " ('Electrical', 5),\n",
       " ('FireplaceQu', 5),\n",
       " ('GarageQual', 5),\n",
       " ('GarageCond', 5),\n",
       " ('RoofStyle', 6),\n",
       " ('Foundation', 6),\n",
       " ('BsmtFinType1', 6),\n",
       " ('BsmtFinType2', 6),\n",
       " ('Heating', 6),\n",
       " ('GarageType', 6),\n",
       " ('SaleCondition', 6),\n",
       " ('RoofMatl', 7),\n",
       " ('Functional', 7),\n",
       " ('Condition2', 8),\n",
       " ('HouseStyle', 8),\n",
       " ('Condition1', 9),\n",
       " ('SaleType', 9),\n",
       " ('Exterior1st', 14),\n",
       " ('Exterior2nd', 16),\n",
       " ('Neighborhood', 25)]"
      ]
     },
     "execution_count": 9,
     "metadata": {},
     "output_type": "execute_result"
    }
   ],
   "source": [
    "# Teste para entender possiveis valores de cada uma das colunas\n",
    "\n",
    "# Categorical columns in the training data\n",
    "object_cols = [col for col in X_train.columns if X_train[col].dtype == \"object\"]\n",
    "\n",
    "\n",
    "# Get number of unique entries in each column with categorical data\n",
    "object_nunique = list(map(lambda col: X_categorical_train[col].nunique(), object_cols))\n",
    "d = dict(zip(object_cols, object_nunique))\n",
    "\n",
    "# Print number of unique entries by column, in ascending order\n",
    "sorted(d.items(), key=lambda x: x[1])"
   ]
  },
  {
   "cell_type": "markdown",
   "id": "0f9717c9",
   "metadata": {
    "_cell_guid": "c5f30ecf-feea-4bcb-ab8b-908cf8488c8b",
    "_uuid": "2c333b87-91b1-42c9-b5a0-e59395f83b14",
    "papermill": {
     "duration": 0.029106,
     "end_time": "2021-10-15T20:34:06.816588",
     "exception": false,
     "start_time": "2021-10-15T20:34:06.787482",
     "status": "completed"
    },
    "tags": []
   },
   "source": [
    "**3.2 - Inputation em colunas com NAs:**\n",
    "\n",
    " Para inputar as variaveis, vamos dividir em 2 approachs diferentes. \n",
    "*     Approach 1 - Há colunas que colocam NA quando a observação especifica tem valor 0 (EX: NA em alley é quando nao há alley naquela casa)\n",
    "*     Approach 2 - Apos fazer isso, inputar lidando com dados nao disponiveis (bfill, ou most commom )"
   ]
  },
  {
   "cell_type": "markdown",
   "id": "f967cce3",
   "metadata": {
    "_cell_guid": "82017cdc-1a41-48e5-8885-091461df849c",
    "_uuid": "89962437-11af-4894-8797-3c22911e6f41",
    "papermill": {
     "duration": 0.030097,
     "end_time": "2021-10-15T20:34:06.876205",
     "exception": false,
     "start_time": "2021-10-15T20:34:06.846108",
     "status": "completed"
    },
    "tags": []
   },
   "source": [
    "  Colunas categoricas que tem NA mas que nao é missing value:\n",
    "*     1 -Alley - NA é No alley access\n",
    "*     2 - BsmtQual - NA é no basement\n",
    "*     3 - BsmtExposure - NA é No basement\n",
    "*     4 - BsmtFinType1 - NA é No basement\n",
    "*     5 - BsmtFinType2 - NA é No basement\n",
    "*     6 - FireplaceQu - NA é No fireplace\n",
    "*     7 - GarageType - NA é No Garage\n",
    "*     8 - GarageFinish - NA é No Garage\n",
    "*     9 - GarageQual - NA é No Garage\n",
    "*     10 - GarageCond - NA é No Garage\n",
    "*     11 - PoolQC - NA é No Pool\n",
    "*     12 - Fence - NA é No Fence\n",
    "*     13 - MiscFeature - NA é none\n",
    "*     14 - BsmtCond - NA é No Basement"
   ]
  },
  {
   "cell_type": "code",
   "execution_count": 10,
   "id": "c0c7ad60",
   "metadata": {
    "_cell_guid": "121b0864-9db4-434c-9487-01f3afd4b96f",
    "_uuid": "66caf12d-9fb7-4e57-b527-c8df57c9e490",
    "collapsed": false,
    "execution": {
     "iopub.execute_input": "2021-10-15T20:34:06.952584Z",
     "iopub.status.busy": "2021-10-15T20:34:06.938694Z",
     "iopub.status.idle": "2021-10-15T20:34:07.109227Z",
     "shell.execute_reply": "2021-10-15T20:34:07.108519Z",
     "shell.execute_reply.started": "2021-10-15T19:06:11.656717Z"
    },
    "jupyter": {
     "outputs_hidden": false
    },
    "papermill": {
     "duration": 0.203992,
     "end_time": "2021-10-15T20:34:07.109390",
     "exception": false,
     "start_time": "2021-10-15T20:34:06.905398",
     "status": "completed"
    },
    "tags": []
   },
   "outputs": [
    {
     "name": "stdout",
     "output_type": "stream",
     "text": [
      "Colunas com NA tabela treino: \n",
      " Electrical    1\n",
      "dtype: int64\n",
      "Colunas com NA tabela valid: \n",
      " Series([], dtype: int64)\n",
      "Colunas com NA tabela test: \n",
      " MSZoning       4\n",
      "Utilities      2\n",
      "Exterior1st    1\n",
      "Exterior2nd    1\n",
      "KitchenQual    1\n",
      "Functional     2\n",
      "SaleType       1\n",
      "dtype: int64\n"
     ]
    },
    {
     "name": "stderr",
     "output_type": "stream",
     "text": [
      "/opt/conda/lib/python3.7/site-packages/pandas/core/generic.py:6392: SettingWithCopyWarning: \n",
      "A value is trying to be set on a copy of a slice from a DataFrame\n",
      "\n",
      "See the caveats in the documentation: https://pandas.pydata.org/pandas-docs/stable/user_guide/indexing.html#returning-a-view-versus-a-copy\n",
      "  return self._update_inplace(result)\n"
     ]
    }
   ],
   "source": [
    "# columns where NaN values have meaning e.g. no pool etc.\n",
    "cols_fillna = ['PoolQC','MiscFeature','Alley','Fence','FireplaceQu',\n",
    "               'GarageQual','GarageCond','GarageFinish','MasVnrType','GarageType',\n",
    "               'BsmtExposure','BsmtCond','BsmtQual','BsmtFinType1','BsmtFinType2']\n",
    "\n",
    "# replace 'NaN' with 'None' in these columns\n",
    "\n",
    "#Train\n",
    "for col in cols_fillna:\n",
    "    X_categorical_train[col].fillna('None',inplace=True)\n",
    "    \n",
    "#Valid\n",
    "for col in cols_fillna:\n",
    "    X_categorical_valid[col].fillna('None',inplace=True)\n",
    "\n",
    "#Test\n",
    "for col in cols_fillna:\n",
    "    X_categorical_test[col].fillna('None',inplace=True)\n",
    "    \n",
    "    \n",
    "    \n",
    "\n",
    "# Checando\n",
    "missing_val_count_by_column_cat1 = (X_categorical_train.isnull().sum())\n",
    "print(\"Colunas com NA tabela treino: \\n\", missing_val_count_by_column_cat1[missing_val_count_by_column_cat1 > 0]) \n",
    "\n",
    "missing_val_count_by_column_cat2 = (X_categorical_valid.isnull().sum())\n",
    "print(\"Colunas com NA tabela valid: \\n\", missing_val_count_by_column_cat2[missing_val_count_by_column_cat2 > 0])\n",
    "\n",
    "missing_val_count_by_column_cat3 = (X_categorical_test.isnull().sum())\n",
    "print(\"Colunas com NA tabela test: \\n\", missing_val_count_by_column_cat3[missing_val_count_by_column_cat3 > 0])"
   ]
  },
  {
   "cell_type": "markdown",
   "id": "d9ea5573",
   "metadata": {
    "_cell_guid": "fa2760ac-7f09-430e-845b-b2e7d6074ab8",
    "_uuid": "8dc84c38-91db-43aa-bbae-e8ac354ffe98",
    "papermill": {
     "duration": 0.030191,
     "end_time": "2021-10-15T20:34:07.169267",
     "exception": false,
     "start_time": "2021-10-15T20:34:07.139076",
     "status": "completed"
    },
    "tags": []
   },
   "source": [
    "Fazendo assim, sobram apenas:\n",
    "*  1 coluna (Eletrical) para estimar imputação em treino (1 valor)\n",
    "*  0 coluna para estimar imputação em treino\n",
    "*  7 colunas (MSZoning, Utilities, Exterior1st, Exterior2nd, KitchenQual, Functional, SaleType) para estimar imputação em treino (4,2,1,1,1,2,1 valores respectivamente)"
   ]
  },
  {
   "cell_type": "code",
   "execution_count": 11,
   "id": "07db0def",
   "metadata": {
    "_cell_guid": "90724081-edac-4b67-8e9a-108bc8f75ff3",
    "_uuid": "442e074f-9a33-4c4e-b48f-3be1fae21058",
    "collapsed": false,
    "execution": {
     "iopub.execute_input": "2021-10-15T20:34:07.257349Z",
     "iopub.status.busy": "2021-10-15T20:34:07.246324Z",
     "iopub.status.idle": "2021-10-15T20:34:07.409605Z",
     "shell.execute_reply": "2021-10-15T20:34:07.408981Z",
     "shell.execute_reply.started": "2021-10-15T19:06:11.70241Z"
    },
    "jupyter": {
     "outputs_hidden": false
    },
    "papermill": {
     "duration": 0.210233,
     "end_time": "2021-10-15T20:34:07.409758",
     "exception": false,
     "start_time": "2021-10-15T20:34:07.199525",
     "status": "completed"
    },
    "tags": []
   },
   "outputs": [],
   "source": [
    "# Inputando nas outras colunas:\n",
    "\n",
    "my_imputer = SimpleImputer(strategy='most_frequent')\n",
    "X_categorical_train_inp = pd.DataFrame(my_imputer.fit_transform(X_categorical_train))\n",
    "X_categorical_valid_inp = pd.DataFrame(my_imputer.fit_transform(X_categorical_valid))\n",
    "X_categorical_test_inp = pd.DataFrame(my_imputer.fit_transform(X_categorical_test))\n",
    "\n",
    "    #recolocando nome colunas\n",
    "X_categorical_train_inp.columns = X_categorical_train.columns\n",
    "X_categorical_valid_inp.columns = X_categorical_valid.columns\n",
    "X_categorical_test_inp.columns = X_categorical_test.columns"
   ]
  },
  {
   "cell_type": "code",
   "execution_count": 12,
   "id": "6e3088ad",
   "metadata": {
    "_cell_guid": "6b38e3c1-04d4-46be-9942-25101a643f27",
    "_uuid": "37a0af60-2339-434b-96dc-2c201067261a",
    "collapsed": false,
    "execution": {
     "iopub.execute_input": "2021-10-15T20:34:07.495231Z",
     "iopub.status.busy": "2021-10-15T20:34:07.481408Z",
     "iopub.status.idle": "2021-10-15T20:34:07.502042Z",
     "shell.execute_reply": "2021-10-15T20:34:07.502571Z",
     "shell.execute_reply.started": "2021-10-15T19:06:11.828617Z"
    },
    "jupyter": {
     "outputs_hidden": false
    },
    "papermill": {
     "duration": 0.063494,
     "end_time": "2021-10-15T20:34:07.502754",
     "exception": false,
     "start_time": "2021-10-15T20:34:07.439260",
     "status": "completed"
    },
    "tags": []
   },
   "outputs": [
    {
     "name": "stdout",
     "output_type": "stream",
     "text": [
      "Colunas com NA tabela treino: \n",
      " Series([], dtype: int64)\n",
      "Colunas com NA tabela valid: \n",
      " Series([], dtype: int64)\n",
      "Colunas com NA tabela test: \n",
      " Series([], dtype: int64)\n"
     ]
    }
   ],
   "source": [
    "# Checando\n",
    "missing_val_count_by_column_cat1 = (X_categorical_train_inp.isnull().sum())\n",
    "print(\"Colunas com NA tabela treino: \\n\", missing_val_count_by_column_cat1[missing_val_count_by_column_cat1 > 0]) \n",
    "\n",
    "missing_val_count_by_column_cat2 = (X_categorical_valid_inp.isnull().sum())\n",
    "print(\"Colunas com NA tabela valid: \\n\", missing_val_count_by_column_cat2[missing_val_count_by_column_cat2 > 0])\n",
    "\n",
    "missing_val_count_by_column_cat3 = (X_categorical_test_inp.isnull().sum())\n",
    "print(\"Colunas com NA tabela test: \\n\", missing_val_count_by_column_cat3[missing_val_count_by_column_cat3 > 0])"
   ]
  },
  {
   "cell_type": "markdown",
   "id": "9d0e44cc",
   "metadata": {
    "_cell_guid": "66f8a65a-de84-46ea-86c8-d2bd20bb5ec9",
    "_uuid": "8caa7570-5085-47e6-aad4-6168f04ad0dd",
    "papermill": {
     "duration": 0.02971,
     "end_time": "2021-10-15T20:34:07.562293",
     "exception": false,
     "start_time": "2021-10-15T20:34:07.532583",
     "status": "completed"
    },
    "tags": []
   },
   "source": [
    "**3.3 - Processamento One Hot Encoding:**"
   ]
  },
  {
   "cell_type": "code",
   "execution_count": 13,
   "id": "39a61b1e",
   "metadata": {
    "_cell_guid": "4e63973a-f1ab-4ac3-9787-f90c788caea1",
    "_uuid": "b225b791-8d18-4ab3-8ca8-2c62cf522c74",
    "collapsed": false,
    "execution": {
     "iopub.execute_input": "2021-10-15T20:34:07.669227Z",
     "iopub.status.busy": "2021-10-15T20:34:07.660489Z",
     "iopub.status.idle": "2021-10-15T20:34:07.737363Z",
     "shell.execute_reply": "2021-10-15T20:34:07.736641Z",
     "shell.execute_reply.started": "2021-10-15T19:33:14.338071Z"
    },
    "jupyter": {
     "outputs_hidden": false
    },
    "papermill": {
     "duration": 0.145459,
     "end_time": "2021-10-15T20:34:07.737537",
     "exception": false,
     "start_time": "2021-10-15T20:34:07.592078",
     "status": "completed"
    },
    "tags": []
   },
   "outputs": [
    {
     "name": "stdout",
     "output_type": "stream",
     "text": [
      "(1168, 263)\n",
      "(292, 263)\n",
      "(1459, 263)\n",
      "(1168, 36)\n"
     ]
    }
   ],
   "source": [
    "from sklearn.preprocessing import OneHotEncoder\n",
    "\n",
    "# Use as many lines of code as you need!\n",
    "\n",
    "OH_encoder = OneHotEncoder(handle_unknown='ignore', sparse=False)\n",
    "OH_cols_train = pd.DataFrame(OH_encoder.fit_transform(X_categorical_train_inp))\n",
    "OH_cols_valid = pd.DataFrame(OH_encoder.transform(X_categorical_valid_inp))\n",
    "OH_cols_test = pd.DataFrame(OH_encoder.transform(X_categorical_test_inp))\n",
    "\n",
    "# One-hot encoding removed index; put it back\n",
    "OH_cols_train.index = X_categorical_train_inp.index\n",
    "OH_cols_valid.index = X_categorical_valid_inp.index\n",
    "OH_cols_test.index = X_categorical_test_inp.index\n",
    "\n",
    "print(OH_cols_train.shape)\n",
    "print(OH_cols_valid.shape)\n",
    "print(OH_cols_test.shape) # todos tem mesma quantidade de linhas que a parte numerica\n",
    "\n",
    "print(X_numerical_train_inp.shape)"
   ]
  },
  {
   "cell_type": "markdown",
   "id": "32e86331",
   "metadata": {
    "_cell_guid": "25b64188-b1b4-4595-b1a0-fadddfb4f528",
    "_uuid": "76d66276-8d0b-49e7-9330-769b44a76b07",
    "papermill": {
     "duration": 0.032978,
     "end_time": "2021-10-15T20:34:07.801201",
     "exception": false,
     "start_time": "2021-10-15T20:34:07.768223",
     "status": "completed"
    },
    "tags": []
   },
   "source": [
    "**4 - Juntar tabela categoricos com numericos:**"
   ]
  },
  {
   "cell_type": "code",
   "execution_count": 14,
   "id": "15f8d8a4",
   "metadata": {
    "_cell_guid": "ea8ad02d-a0fd-4a71-babc-0948c99578d4",
    "_uuid": "8b356a35-7350-4af4-b12a-f8fd85a63066",
    "collapsed": false,
    "execution": {
     "iopub.execute_input": "2021-10-15T20:34:07.874003Z",
     "iopub.status.busy": "2021-10-15T20:34:07.873237Z",
     "iopub.status.idle": "2021-10-15T20:34:07.887424Z",
     "shell.execute_reply": "2021-10-15T20:34:07.886689Z",
     "shell.execute_reply.started": "2021-10-15T19:35:23.242312Z"
    },
    "jupyter": {
     "outputs_hidden": false
    },
    "papermill": {
     "duration": 0.05328,
     "end_time": "2021-10-15T20:34:07.887586",
     "exception": false,
     "start_time": "2021-10-15T20:34:07.834306",
     "status": "completed"
    },
    "tags": []
   },
   "outputs": [
    {
     "name": "stdout",
     "output_type": "stream",
     "text": [
      "(1168, 299)\n",
      "(292, 299)\n",
      "(1459, 299)\n"
     ]
    }
   ],
   "source": [
    "# Add one-hot encoded columns to numerical features\n",
    "OH_X_train = pd.concat([X_numerical_train_inp, OH_cols_train], axis=1)\n",
    "OH_X_valid = pd.concat([X_numerical_valid_inp, OH_cols_valid], axis=1)\n",
    "OH_X_test = pd.concat([X_numerical_test_inp, OH_cols_test], axis=1)\n",
    "\n",
    "\n",
    "print(OH_X_train.shape)\n",
    "print(OH_X_valid.shape)\n",
    "print(OH_X_test.shape)"
   ]
  },
  {
   "cell_type": "markdown",
   "id": "deecaee0",
   "metadata": {
    "_cell_guid": "c1ddf2f6-d250-4ed7-92e2-288996fc536a",
    "_uuid": "977e433d-e577-429a-b80c-f53d24de598b",
    "papermill": {
     "duration": 0.030195,
     "end_time": "2021-10-15T20:34:07.948379",
     "exception": false,
     "start_time": "2021-10-15T20:34:07.918184",
     "status": "completed"
    },
    "tags": []
   },
   "source": [
    "**5 - Modegalem:**"
   ]
  },
  {
   "cell_type": "markdown",
   "id": "9bce37bd",
   "metadata": {
    "_cell_guid": "539a9d9e-0893-4cab-aeb3-1a716dd17109",
    "_uuid": "ce5f86f3-e610-4473-ab06-302b48511812",
    "papermill": {
     "duration": 0.030816,
     "end_time": "2021-10-15T20:34:08.009480",
     "exception": false,
     "start_time": "2021-10-15T20:34:07.978664",
     "status": "completed"
    },
    "tags": []
   },
   "source": [
    "5.2 - Definição modelos:"
   ]
  },
  {
   "cell_type": "code",
   "execution_count": 15,
   "id": "ccf9c206",
   "metadata": {
    "_cell_guid": "0df1208f-77c4-4e09-b446-d03a29425355",
    "_uuid": "1f7ca5d6-2f13-4b6a-bac7-0daeed6dd6b5",
    "collapsed": false,
    "execution": {
     "iopub.execute_input": "2021-10-15T20:34:08.082658Z",
     "iopub.status.busy": "2021-10-15T20:34:08.081748Z",
     "iopub.status.idle": "2021-10-15T20:34:58.438287Z",
     "shell.execute_reply": "2021-10-15T20:34:58.438816Z",
     "shell.execute_reply.started": "2021-10-15T20:18:23.254963Z"
    },
    "jupyter": {
     "outputs_hidden": false
    },
    "papermill": {
     "duration": 50.399053,
     "end_time": "2021-10-15T20:34:58.439024",
     "exception": false,
     "start_time": "2021-10-15T20:34:08.039971",
     "status": "completed"
    },
    "tags": []
   },
   "outputs": [
    {
     "name": "stdout",
     "output_type": "stream",
     "text": [
      "Model 1 MAE: 16594\n",
      "Model 2 MAE: 16576\n",
      "Model 3 MAE: 16640\n",
      "Model 4 MAE: 17339\n",
      "Model 5 MAE: 17584\n",
      "Model 6 MAE: 16525\n",
      "Model 7 MAE: 16525\n"
     ]
    }
   ],
   "source": [
    "from sklearn.ensemble import RandomForestRegressor\n",
    "from sklearn.metrics import mean_absolute_error\n",
    "from xgboost import XGBRegressor\n",
    "\n",
    "#Definindo modelos:\n",
    "model_1 = RandomForestRegressor(random_state=1)\n",
    "model_2 = RandomForestRegressor(n_estimators=100, random_state=0)\n",
    "model_3 = RandomForestRegressor(n_estimators=100, criterion='mae', random_state=0)\n",
    "model_4 = RandomForestRegressor(n_estimators=200, min_samples_split=20, random_state=0)\n",
    "model_5 = RandomForestRegressor(n_estimators=100, max_depth=7, random_state=0)\n",
    "model_6 = XGBRegressor(random_state = 1)\n",
    "model_7 = XGBRegressor(random_state = 123,n_jobs=2)\n",
    "\n",
    "models = [model_1, model_2, model_3, model_4, model_5, model_6, model_7]\n",
    "\n",
    "# Função que irá fazer fit, prever e retornar MAE\n",
    "def score_model(model, X_t=OH_X_train, X_v=OH_X_valid, y_t=y_train, y_v=y_valid):\n",
    "    model.fit(X_t, y_t)\n",
    "    preds = model.predict(X_v)\n",
    "    return mean_absolute_error(y_v, preds)\n",
    "\n",
    "for i in range(0, len(models)):\n",
    "    mae = score_model(models[i])\n",
    "    print(\"Model %d MAE: %d\" % (i+1, mae))"
   ]
  },
  {
   "cell_type": "code",
   "execution_count": 16,
   "id": "17f3fc8d",
   "metadata": {
    "_cell_guid": "2c8d1586-8175-4967-be6e-bc6526fb9242",
    "_uuid": "03092ac2-6a02-4ae0-aa06-ca34ca11e6c5",
    "collapsed": false,
    "execution": {
     "iopub.execute_input": "2021-10-15T20:34:58.511333Z",
     "iopub.status.busy": "2021-10-15T20:34:58.510196Z",
     "iopub.status.idle": "2021-10-15T20:34:58.527286Z",
     "shell.execute_reply": "2021-10-15T20:34:58.527780Z",
     "shell.execute_reply.started": "2021-10-15T20:19:43.367153Z"
    },
    "jupyter": {
     "outputs_hidden": false
    },
    "papermill": {
     "duration": 0.054694,
     "end_time": "2021-10-15T20:34:58.527995",
     "exception": false,
     "start_time": "2021-10-15T20:34:58.473301",
     "status": "completed"
    },
    "tags": []
   },
   "outputs": [],
   "source": [
    "# Fill in the line below: get test predictions\n",
    "preds_test = model_6.predict(OH_X_test)"
   ]
  },
  {
   "cell_type": "markdown",
   "id": "282ded7d",
   "metadata": {
    "_cell_guid": "38558780-2eb6-43fc-9b67-017eb2ec191e",
    "_uuid": "c31bc7cd-7445-4130-8398-5efd95ee87c1",
    "papermill": {
     "duration": 0.032276,
     "end_time": "2021-10-15T20:34:58.593462",
     "exception": false,
     "start_time": "2021-10-15T20:34:58.561186",
     "status": "completed"
    },
    "tags": []
   },
   "source": [
    "**6 - Submissão resultados:**"
   ]
  },
  {
   "cell_type": "code",
   "execution_count": 17,
   "id": "018bd622",
   "metadata": {
    "_cell_guid": "b919ffe7-58ec-4b1f-b4dd-d7a41a451311",
    "_uuid": "8ed54c27-81fc-4f55-94d9-a4634f53d64b",
    "collapsed": false,
    "execution": {
     "iopub.execute_input": "2021-10-15T20:34:58.666301Z",
     "iopub.status.busy": "2021-10-15T20:34:58.662603Z",
     "iopub.status.idle": "2021-10-15T20:34:58.676319Z",
     "shell.execute_reply": "2021-10-15T20:34:58.676817Z",
     "shell.execute_reply.started": "2021-10-15T20:21:44.266467Z"
    },
    "jupyter": {
     "outputs_hidden": false
    },
    "papermill": {
     "duration": 0.050771,
     "end_time": "2021-10-15T20:34:58.677054",
     "exception": false,
     "start_time": "2021-10-15T20:34:58.626283",
     "status": "completed"
    },
    "tags": []
   },
   "outputs": [],
   "source": [
    "\n",
    "# Save test predictions to file\n",
    "output = pd.DataFrame({'Id': X_test.index,\n",
    "                       'SalePrice': preds_test})\n",
    "output.to_csv('submission.csv', index=False)"
   ]
  },
  {
   "cell_type": "code",
   "execution_count": null,
   "id": "9efef8ce",
   "metadata": {
    "_cell_guid": "877720ac-55ad-49e9-9be7-a0c16aca0571",
    "_uuid": "57e7295b-e86c-4eb4-bf0d-602073d8b354",
    "collapsed": false,
    "jupyter": {
     "outputs_hidden": false
    },
    "papermill": {
     "duration": 0.032695,
     "end_time": "2021-10-15T20:34:58.744944",
     "exception": false,
     "start_time": "2021-10-15T20:34:58.712249",
     "status": "completed"
    },
    "tags": []
   },
   "outputs": [],
   "source": []
  }
 ],
 "metadata": {
  "kernelspec": {
   "display_name": "Python 3",
   "language": "python",
   "name": "python3"
  },
  "language_info": {
   "codemirror_mode": {
    "name": "ipython",
    "version": 3
   },
   "file_extension": ".py",
   "mimetype": "text/x-python",
   "name": "python",
   "nbconvert_exporter": "python",
   "pygments_lexer": "ipython3",
   "version": "3.7.10"
  },
  "papermill": {
   "default_parameters": {},
   "duration": 66.135432,
   "end_time": "2021-10-15T20:34:59.555112",
   "environment_variables": {},
   "exception": null,
   "input_path": "__notebook__.ipynb",
   "output_path": "__notebook__.ipynb",
   "parameters": {},
   "start_time": "2021-10-15T20:33:53.419680",
   "version": "2.3.3"
  }
 },
 "nbformat": 4,
 "nbformat_minor": 5
}
