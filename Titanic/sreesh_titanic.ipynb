{
 "cells": [
  {
   "cell_type": "markdown",
   "id": "0c55477b",
   "metadata": {
    "papermill": {
     "duration": 0.16333,
     "end_time": "2021-11-05T11:44:47.757465",
     "exception": false,
     "start_time": "2021-11-05T11:44:47.594135",
     "status": "completed"
    },
    "tags": []
   },
   "source": [
    "# Import libraries"
   ]
  },
  {
   "cell_type": "code",
   "execution_count": 1,
   "id": "abbb9f86",
   "metadata": {
    "execution": {
     "iopub.execute_input": "2021-11-05T11:44:47.967049Z",
     "iopub.status.busy": "2021-11-05T11:44:47.965165Z",
     "iopub.status.idle": "2021-11-05T11:44:49.332469Z",
     "shell.execute_reply": "2021-11-05T11:44:49.331757Z",
     "shell.execute_reply.started": "2021-11-05T11:37:51.903115Z"
    },
    "papermill": {
     "duration": 1.472773,
     "end_time": "2021-11-05T11:44:49.332644",
     "exception": false,
     "start_time": "2021-11-05T11:44:47.859871",
     "status": "completed"
    },
    "tags": []
   },
   "outputs": [],
   "source": [
    "import numpy as np\n",
    "import pandas as pd\n",
    "import matplotlib.pyplot as plt\n",
    "import seaborn as sns\n",
    "import missingno as msn\n",
    "import warnings\n",
    "warnings.filterwarnings(\"ignore\")\n",
    "from scipy import stats\n",
    "from sklearn.model_selection import train_test_split\n",
    "from sklearn.linear_model import LogisticRegression\n",
    "import sklearn.metrics as metrics\n",
    "from sklearn.model_selection import cross_validate\n",
    "from sklearn.metrics import roc_curve, precision_recall_curve, auc, make_scorer, recall_score, accuracy_score, precision_score, confusion_matrix\n",
    "from sklearn.ensemble import RandomForestClassifier\n",
    "from sklearn.model_selection import GridSearchCV, StratifiedKFold\n",
    "from sklearn.svm import SVC"
   ]
  },
  {
   "cell_type": "markdown",
   "id": "472bb995",
   "metadata": {
    "papermill": {
     "duration": 0.100369,
     "end_time": "2021-11-05T11:44:49.533243",
     "exception": false,
     "start_time": "2021-11-05T11:44:49.432874",
     "status": "completed"
    },
    "tags": []
   },
   "source": [
    "# Load and Check data"
   ]
  },
  {
   "cell_type": "code",
   "execution_count": 2,
   "id": "5092ee2c",
   "metadata": {
    "execution": {
     "iopub.execute_input": "2021-11-05T11:44:49.740588Z",
     "iopub.status.busy": "2021-11-05T11:44:49.739924Z",
     "iopub.status.idle": "2021-11-05T11:44:49.770056Z",
     "shell.execute_reply": "2021-11-05T11:44:49.769363Z",
     "shell.execute_reply.started": "2021-11-05T11:37:51.955079Z"
    },
    "papermill": {
     "duration": 0.135704,
     "end_time": "2021-11-05T11:44:49.770195",
     "exception": false,
     "start_time": "2021-11-05T11:44:49.634491",
     "status": "completed"
    },
    "tags": []
   },
   "outputs": [],
   "source": [
    "train_df=pd.read_csv(\"/kaggle/input/titanic/train.csv\")\n",
    "test_df=pd.read_csv(\"/kaggle/input/titanic/test.csv\")"
   ]
  },
  {
   "cell_type": "code",
   "execution_count": 3,
   "id": "d7ef58b1",
   "metadata": {
    "execution": {
     "iopub.execute_input": "2021-11-05T11:44:49.974754Z",
     "iopub.status.busy": "2021-11-05T11:44:49.974038Z",
     "iopub.status.idle": "2021-11-05T11:44:49.998059Z",
     "shell.execute_reply": "2021-11-05T11:44:49.998615Z",
     "shell.execute_reply.started": "2021-11-05T11:37:51.977323Z"
    },
    "papermill": {
     "duration": 0.127509,
     "end_time": "2021-11-05T11:44:49.998796",
     "exception": false,
     "start_time": "2021-11-05T11:44:49.871287",
     "status": "completed"
    },
    "tags": []
   },
   "outputs": [
    {
     "data": {
      "text/html": [
       "<div>\n",
       "<style scoped>\n",
       "    .dataframe tbody tr th:only-of-type {\n",
       "        vertical-align: middle;\n",
       "    }\n",
       "\n",
       "    .dataframe tbody tr th {\n",
       "        vertical-align: top;\n",
       "    }\n",
       "\n",
       "    .dataframe thead th {\n",
       "        text-align: right;\n",
       "    }\n",
       "</style>\n",
       "<table border=\"1\" class=\"dataframe\">\n",
       "  <thead>\n",
       "    <tr style=\"text-align: right;\">\n",
       "      <th></th>\n",
       "      <th>PassengerId</th>\n",
       "      <th>Survived</th>\n",
       "      <th>Pclass</th>\n",
       "      <th>Name</th>\n",
       "      <th>Sex</th>\n",
       "      <th>Age</th>\n",
       "      <th>SibSp</th>\n",
       "      <th>Parch</th>\n",
       "      <th>Ticket</th>\n",
       "      <th>Fare</th>\n",
       "      <th>Cabin</th>\n",
       "      <th>Embarked</th>\n",
       "    </tr>\n",
       "  </thead>\n",
       "  <tbody>\n",
       "    <tr>\n",
       "      <th>0</th>\n",
       "      <td>1</td>\n",
       "      <td>0</td>\n",
       "      <td>3</td>\n",
       "      <td>Braund, Mr. Owen Harris</td>\n",
       "      <td>male</td>\n",
       "      <td>22.0</td>\n",
       "      <td>1</td>\n",
       "      <td>0</td>\n",
       "      <td>A/5 21171</td>\n",
       "      <td>7.2500</td>\n",
       "      <td>NaN</td>\n",
       "      <td>S</td>\n",
       "    </tr>\n",
       "    <tr>\n",
       "      <th>1</th>\n",
       "      <td>2</td>\n",
       "      <td>1</td>\n",
       "      <td>1</td>\n",
       "      <td>Cumings, Mrs. John Bradley (Florence Briggs Th...</td>\n",
       "      <td>female</td>\n",
       "      <td>38.0</td>\n",
       "      <td>1</td>\n",
       "      <td>0</td>\n",
       "      <td>PC 17599</td>\n",
       "      <td>71.2833</td>\n",
       "      <td>C85</td>\n",
       "      <td>C</td>\n",
       "    </tr>\n",
       "    <tr>\n",
       "      <th>2</th>\n",
       "      <td>3</td>\n",
       "      <td>1</td>\n",
       "      <td>3</td>\n",
       "      <td>Heikkinen, Miss. Laina</td>\n",
       "      <td>female</td>\n",
       "      <td>26.0</td>\n",
       "      <td>0</td>\n",
       "      <td>0</td>\n",
       "      <td>STON/O2. 3101282</td>\n",
       "      <td>7.9250</td>\n",
       "      <td>NaN</td>\n",
       "      <td>S</td>\n",
       "    </tr>\n",
       "    <tr>\n",
       "      <th>3</th>\n",
       "      <td>4</td>\n",
       "      <td>1</td>\n",
       "      <td>1</td>\n",
       "      <td>Futrelle, Mrs. Jacques Heath (Lily May Peel)</td>\n",
       "      <td>female</td>\n",
       "      <td>35.0</td>\n",
       "      <td>1</td>\n",
       "      <td>0</td>\n",
       "      <td>113803</td>\n",
       "      <td>53.1000</td>\n",
       "      <td>C123</td>\n",
       "      <td>S</td>\n",
       "    </tr>\n",
       "    <tr>\n",
       "      <th>4</th>\n",
       "      <td>5</td>\n",
       "      <td>0</td>\n",
       "      <td>3</td>\n",
       "      <td>Allen, Mr. William Henry</td>\n",
       "      <td>male</td>\n",
       "      <td>35.0</td>\n",
       "      <td>0</td>\n",
       "      <td>0</td>\n",
       "      <td>373450</td>\n",
       "      <td>8.0500</td>\n",
       "      <td>NaN</td>\n",
       "      <td>S</td>\n",
       "    </tr>\n",
       "  </tbody>\n",
       "</table>\n",
       "</div>"
      ],
      "text/plain": [
       "   PassengerId  Survived  Pclass  \\\n",
       "0            1         0       3   \n",
       "1            2         1       1   \n",
       "2            3         1       3   \n",
       "3            4         1       1   \n",
       "4            5         0       3   \n",
       "\n",
       "                                                Name     Sex   Age  SibSp  \\\n",
       "0                            Braund, Mr. Owen Harris    male  22.0      1   \n",
       "1  Cumings, Mrs. John Bradley (Florence Briggs Th...  female  38.0      1   \n",
       "2                             Heikkinen, Miss. Laina  female  26.0      0   \n",
       "3       Futrelle, Mrs. Jacques Heath (Lily May Peel)  female  35.0      1   \n",
       "4                           Allen, Mr. William Henry    male  35.0      0   \n",
       "\n",
       "   Parch            Ticket     Fare Cabin Embarked  \n",
       "0      0         A/5 21171   7.2500   NaN        S  \n",
       "1      0          PC 17599  71.2833   C85        C  \n",
       "2      0  STON/O2. 3101282   7.9250   NaN        S  \n",
       "3      0            113803  53.1000  C123        S  \n",
       "4      0            373450   8.0500   NaN        S  "
      ]
     },
     "execution_count": 3,
     "metadata": {},
     "output_type": "execute_result"
    }
   ],
   "source": [
    "train_df.head()"
   ]
  },
  {
   "cell_type": "code",
   "execution_count": 4,
   "id": "57b4d190",
   "metadata": {
    "execution": {
     "iopub.execute_input": "2021-11-05T11:44:50.205456Z",
     "iopub.status.busy": "2021-11-05T11:44:50.204837Z",
     "iopub.status.idle": "2021-11-05T11:44:50.211806Z",
     "shell.execute_reply": "2021-11-05T11:44:50.211144Z",
     "shell.execute_reply.started": "2021-11-05T11:37:51.996919Z"
    },
    "papermill": {
     "duration": 0.110248,
     "end_time": "2021-11-05T11:44:50.211947",
     "exception": false,
     "start_time": "2021-11-05T11:44:50.101699",
     "status": "completed"
    },
    "tags": []
   },
   "outputs": [
    {
     "data": {
      "text/plain": [
       "(891, 12)"
      ]
     },
     "execution_count": 4,
     "metadata": {},
     "output_type": "execute_result"
    }
   ],
   "source": [
    "train_df.shape"
   ]
  },
  {
   "cell_type": "code",
   "execution_count": 5,
   "id": "60b95c71",
   "metadata": {
    "execution": {
     "iopub.execute_input": "2021-11-05T11:44:50.430072Z",
     "iopub.status.busy": "2021-11-05T11:44:50.429323Z",
     "iopub.status.idle": "2021-11-05T11:44:50.434238Z",
     "shell.execute_reply": "2021-11-05T11:44:50.434878Z",
     "shell.execute_reply.started": "2021-11-05T11:37:52.005017Z"
    },
    "papermill": {
     "duration": 0.12239,
     "end_time": "2021-11-05T11:44:50.435053",
     "exception": false,
     "start_time": "2021-11-05T11:44:50.312663",
     "status": "completed"
    },
    "tags": []
   },
   "outputs": [
    {
     "data": {
      "text/html": [
       "<div>\n",
       "<style scoped>\n",
       "    .dataframe tbody tr th:only-of-type {\n",
       "        vertical-align: middle;\n",
       "    }\n",
       "\n",
       "    .dataframe tbody tr th {\n",
       "        vertical-align: top;\n",
       "    }\n",
       "\n",
       "    .dataframe thead th {\n",
       "        text-align: right;\n",
       "    }\n",
       "</style>\n",
       "<table border=\"1\" class=\"dataframe\">\n",
       "  <thead>\n",
       "    <tr style=\"text-align: right;\">\n",
       "      <th></th>\n",
       "      <th>PassengerId</th>\n",
       "      <th>Pclass</th>\n",
       "      <th>Name</th>\n",
       "      <th>Sex</th>\n",
       "      <th>Age</th>\n",
       "      <th>SibSp</th>\n",
       "      <th>Parch</th>\n",
       "      <th>Ticket</th>\n",
       "      <th>Fare</th>\n",
       "      <th>Cabin</th>\n",
       "      <th>Embarked</th>\n",
       "    </tr>\n",
       "  </thead>\n",
       "  <tbody>\n",
       "    <tr>\n",
       "      <th>0</th>\n",
       "      <td>892</td>\n",
       "      <td>3</td>\n",
       "      <td>Kelly, Mr. James</td>\n",
       "      <td>male</td>\n",
       "      <td>34.5</td>\n",
       "      <td>0</td>\n",
       "      <td>0</td>\n",
       "      <td>330911</td>\n",
       "      <td>7.8292</td>\n",
       "      <td>NaN</td>\n",
       "      <td>Q</td>\n",
       "    </tr>\n",
       "    <tr>\n",
       "      <th>1</th>\n",
       "      <td>893</td>\n",
       "      <td>3</td>\n",
       "      <td>Wilkes, Mrs. James (Ellen Needs)</td>\n",
       "      <td>female</td>\n",
       "      <td>47.0</td>\n",
       "      <td>1</td>\n",
       "      <td>0</td>\n",
       "      <td>363272</td>\n",
       "      <td>7.0000</td>\n",
       "      <td>NaN</td>\n",
       "      <td>S</td>\n",
       "    </tr>\n",
       "    <tr>\n",
       "      <th>2</th>\n",
       "      <td>894</td>\n",
       "      <td>2</td>\n",
       "      <td>Myles, Mr. Thomas Francis</td>\n",
       "      <td>male</td>\n",
       "      <td>62.0</td>\n",
       "      <td>0</td>\n",
       "      <td>0</td>\n",
       "      <td>240276</td>\n",
       "      <td>9.6875</td>\n",
       "      <td>NaN</td>\n",
       "      <td>Q</td>\n",
       "    </tr>\n",
       "    <tr>\n",
       "      <th>3</th>\n",
       "      <td>895</td>\n",
       "      <td>3</td>\n",
       "      <td>Wirz, Mr. Albert</td>\n",
       "      <td>male</td>\n",
       "      <td>27.0</td>\n",
       "      <td>0</td>\n",
       "      <td>0</td>\n",
       "      <td>315154</td>\n",
       "      <td>8.6625</td>\n",
       "      <td>NaN</td>\n",
       "      <td>S</td>\n",
       "    </tr>\n",
       "    <tr>\n",
       "      <th>4</th>\n",
       "      <td>896</td>\n",
       "      <td>3</td>\n",
       "      <td>Hirvonen, Mrs. Alexander (Helga E Lindqvist)</td>\n",
       "      <td>female</td>\n",
       "      <td>22.0</td>\n",
       "      <td>1</td>\n",
       "      <td>1</td>\n",
       "      <td>3101298</td>\n",
       "      <td>12.2875</td>\n",
       "      <td>NaN</td>\n",
       "      <td>S</td>\n",
       "    </tr>\n",
       "  </tbody>\n",
       "</table>\n",
       "</div>"
      ],
      "text/plain": [
       "   PassengerId  Pclass                                          Name     Sex  \\\n",
       "0          892       3                              Kelly, Mr. James    male   \n",
       "1          893       3              Wilkes, Mrs. James (Ellen Needs)  female   \n",
       "2          894       2                     Myles, Mr. Thomas Francis    male   \n",
       "3          895       3                              Wirz, Mr. Albert    male   \n",
       "4          896       3  Hirvonen, Mrs. Alexander (Helga E Lindqvist)  female   \n",
       "\n",
       "    Age  SibSp  Parch   Ticket     Fare Cabin Embarked  \n",
       "0  34.5      0      0   330911   7.8292   NaN        Q  \n",
       "1  47.0      1      0   363272   7.0000   NaN        S  \n",
       "2  62.0      0      0   240276   9.6875   NaN        Q  \n",
       "3  27.0      0      0   315154   8.6625   NaN        S  \n",
       "4  22.0      1      1  3101298  12.2875   NaN        S  "
      ]
     },
     "execution_count": 5,
     "metadata": {},
     "output_type": "execute_result"
    }
   ],
   "source": [
    "test_df.head()"
   ]
  },
  {
   "cell_type": "code",
   "execution_count": 6,
   "id": "6a13831b",
   "metadata": {
    "execution": {
     "iopub.execute_input": "2021-11-05T11:44:50.641727Z",
     "iopub.status.busy": "2021-11-05T11:44:50.641092Z",
     "iopub.status.idle": "2021-11-05T11:44:50.647796Z",
     "shell.execute_reply": "2021-11-05T11:44:50.648390Z",
     "shell.execute_reply.started": "2021-11-05T11:37:52.028863Z"
    },
    "papermill": {
     "duration": 0.111559,
     "end_time": "2021-11-05T11:44:50.648562",
     "exception": false,
     "start_time": "2021-11-05T11:44:50.537003",
     "status": "completed"
    },
    "tags": []
   },
   "outputs": [],
   "source": [
    "test_PassengerId=test_df['PassengerId']"
   ]
  },
  {
   "cell_type": "code",
   "execution_count": 7,
   "id": "1eaeac9a",
   "metadata": {
    "execution": {
     "iopub.execute_input": "2021-11-05T11:44:50.859979Z",
     "iopub.status.busy": "2021-11-05T11:44:50.859293Z",
     "iopub.status.idle": "2021-11-05T11:44:50.863789Z",
     "shell.execute_reply": "2021-11-05T11:44:50.864401Z",
     "shell.execute_reply.started": "2021-11-05T11:37:52.040923Z"
    },
    "papermill": {
     "duration": 0.111578,
     "end_time": "2021-11-05T11:44:50.864572",
     "exception": false,
     "start_time": "2021-11-05T11:44:50.752994",
     "status": "completed"
    },
    "tags": []
   },
   "outputs": [
    {
     "data": {
      "text/plain": [
       "(418, 11)"
      ]
     },
     "execution_count": 7,
     "metadata": {},
     "output_type": "execute_result"
    }
   ],
   "source": [
    "test_df.shape"
   ]
  },
  {
   "cell_type": "code",
   "execution_count": 8,
   "id": "35e041bf",
   "metadata": {
    "execution": {
     "iopub.execute_input": "2021-11-05T11:44:51.072253Z",
     "iopub.status.busy": "2021-11-05T11:44:51.071628Z",
     "iopub.status.idle": "2021-11-05T11:44:51.074848Z",
     "shell.execute_reply": "2021-11-05T11:44:51.075404Z",
     "shell.execute_reply.started": "2021-11-05T11:37:52.053917Z"
    },
    "papermill": {
     "duration": 0.109245,
     "end_time": "2021-11-05T11:44:51.075609",
     "exception": false,
     "start_time": "2021-11-05T11:44:50.966364",
     "status": "completed"
    },
    "tags": []
   },
   "outputs": [],
   "source": [
    "test_PassingerID=test_df['PassengerId']"
   ]
  },
  {
   "cell_type": "code",
   "execution_count": 9,
   "id": "a3e1d638",
   "metadata": {
    "execution": {
     "iopub.execute_input": "2021-11-05T11:44:51.287632Z",
     "iopub.status.busy": "2021-11-05T11:44:51.286935Z",
     "iopub.status.idle": "2021-11-05T11:44:51.292628Z",
     "shell.execute_reply": "2021-11-05T11:44:51.293098Z",
     "shell.execute_reply.started": "2021-11-05T11:37:52.066706Z"
    },
    "papermill": {
     "duration": 0.112909,
     "end_time": "2021-11-05T11:44:51.293263",
     "exception": false,
     "start_time": "2021-11-05T11:44:51.180354",
     "status": "completed"
    },
    "tags": []
   },
   "outputs": [
    {
     "name": "stdout",
     "output_type": "stream",
     "text": [
      "Number of training examples: 891\n",
      "Number of test examples: 418\n"
     ]
    }
   ],
   "source": [
    "print(f'Number of training examples: {train_df.shape[0]}')\n",
    "print(f'Number of test examples: {test_df.shape[0]}')"
   ]
  },
  {
   "cell_type": "code",
   "execution_count": 10,
   "id": "8e5bde92",
   "metadata": {
    "execution": {
     "iopub.execute_input": "2021-11-05T11:44:51.518672Z",
     "iopub.status.busy": "2021-11-05T11:44:51.517989Z",
     "iopub.status.idle": "2021-11-05T11:44:51.520685Z",
     "shell.execute_reply": "2021-11-05T11:44:51.521284Z",
     "shell.execute_reply.started": "2021-11-05T11:37:52.079393Z"
    },
    "papermill": {
     "duration": 0.126199,
     "end_time": "2021-11-05T11:44:51.521478",
     "exception": false,
     "start_time": "2021-11-05T11:44:51.395279",
     "status": "completed"
    },
    "tags": []
   },
   "outputs": [
    {
     "name": "stdout",
     "output_type": "stream",
     "text": [
      "<class 'pandas.core.frame.DataFrame'>\n",
      "RangeIndex: 891 entries, 0 to 890\n",
      "Data columns (total 12 columns):\n",
      " #   Column       Non-Null Count  Dtype  \n",
      "---  ------       --------------  -----  \n",
      " 0   PassengerId  891 non-null    int64  \n",
      " 1   Survived     891 non-null    int64  \n",
      " 2   Pclass       891 non-null    int64  \n",
      " 3   Name         891 non-null    object \n",
      " 4   Sex          891 non-null    object \n",
      " 5   Age          714 non-null    float64\n",
      " 6   SibSp        891 non-null    int64  \n",
      " 7   Parch        891 non-null    int64  \n",
      " 8   Ticket       891 non-null    object \n",
      " 9   Fare         891 non-null    float64\n",
      " 10  Cabin        204 non-null    object \n",
      " 11  Embarked     889 non-null    object \n",
      "dtypes: float64(2), int64(5), object(5)\n",
      "memory usage: 83.7+ KB\n"
     ]
    }
   ],
   "source": [
    "train_df.info()"
   ]
  },
  {
   "cell_type": "code",
   "execution_count": 11,
   "id": "06f06c7c",
   "metadata": {
    "execution": {
     "iopub.execute_input": "2021-11-05T11:44:51.728744Z",
     "iopub.status.busy": "2021-11-05T11:44:51.728130Z",
     "iopub.status.idle": "2021-11-05T11:44:51.739895Z",
     "shell.execute_reply": "2021-11-05T11:44:51.739260Z",
     "shell.execute_reply.started": "2021-11-05T11:37:52.104740Z"
    },
    "papermill": {
     "duration": 0.11678,
     "end_time": "2021-11-05T11:44:51.740041",
     "exception": false,
     "start_time": "2021-11-05T11:44:51.623261",
     "status": "completed"
    },
    "tags": []
   },
   "outputs": [
    {
     "name": "stdout",
     "output_type": "stream",
     "text": [
      "<class 'pandas.core.frame.DataFrame'>\n",
      "RangeIndex: 418 entries, 0 to 417\n",
      "Data columns (total 11 columns):\n",
      " #   Column       Non-Null Count  Dtype  \n",
      "---  ------       --------------  -----  \n",
      " 0   PassengerId  418 non-null    int64  \n",
      " 1   Pclass       418 non-null    int64  \n",
      " 2   Name         418 non-null    object \n",
      " 3   Sex          418 non-null    object \n",
      " 4   Age          332 non-null    float64\n",
      " 5   SibSp        418 non-null    int64  \n",
      " 6   Parch        418 non-null    int64  \n",
      " 7   Ticket       418 non-null    object \n",
      " 8   Fare         417 non-null    float64\n",
      " 9   Cabin        91 non-null     object \n",
      " 10  Embarked     418 non-null    object \n",
      "dtypes: float64(2), int64(4), object(5)\n",
      "memory usage: 36.0+ KB\n"
     ]
    }
   ],
   "source": [
    "test_df.info()"
   ]
  },
  {
   "cell_type": "markdown",
   "id": "9e02a871",
   "metadata": {
    "papermill": {
     "duration": 0.102707,
     "end_time": "2021-11-05T11:44:51.946320",
     "exception": false,
     "start_time": "2021-11-05T11:44:51.843613",
     "status": "completed"
    },
    "tags": []
   },
   "source": [
    "combining training & testing data for preposesing after that we do not write same code for test"
   ]
  },
  {
   "cell_type": "code",
   "execution_count": 12,
   "id": "fe796c02",
   "metadata": {
    "execution": {
     "iopub.execute_input": "2021-11-05T11:44:52.162792Z",
     "iopub.status.busy": "2021-11-05T11:44:52.162122Z",
     "iopub.status.idle": "2021-11-05T11:44:52.165358Z",
     "shell.execute_reply": "2021-11-05T11:44:52.165932Z",
     "shell.execute_reply.started": "2021-11-05T11:37:52.123273Z"
    },
    "papermill": {
     "duration": 0.116834,
     "end_time": "2021-11-05T11:44:52.166116",
     "exception": false,
     "start_time": "2021-11-05T11:44:52.049282",
     "status": "completed"
    },
    "tags": []
   },
   "outputs": [],
   "source": [
    "df=pd.concat([train_df, test_df], axis=0)"
   ]
  },
  {
   "cell_type": "code",
   "execution_count": 13,
   "id": "38475130",
   "metadata": {
    "execution": {
     "iopub.execute_input": "2021-11-05T11:44:52.388212Z",
     "iopub.status.busy": "2021-11-05T11:44:52.387553Z",
     "iopub.status.idle": "2021-11-05T11:44:52.391711Z",
     "shell.execute_reply": "2021-11-05T11:44:52.391197Z",
     "shell.execute_reply.started": "2021-11-05T11:37:52.133876Z"
    },
    "papermill": {
     "duration": 0.122983,
     "end_time": "2021-11-05T11:44:52.391853",
     "exception": false,
     "start_time": "2021-11-05T11:44:52.268870",
     "status": "completed"
    },
    "tags": []
   },
   "outputs": [
    {
     "data": {
      "text/html": [
       "<div>\n",
       "<style scoped>\n",
       "    .dataframe tbody tr th:only-of-type {\n",
       "        vertical-align: middle;\n",
       "    }\n",
       "\n",
       "    .dataframe tbody tr th {\n",
       "        vertical-align: top;\n",
       "    }\n",
       "\n",
       "    .dataframe thead th {\n",
       "        text-align: right;\n",
       "    }\n",
       "</style>\n",
       "<table border=\"1\" class=\"dataframe\">\n",
       "  <thead>\n",
       "    <tr style=\"text-align: right;\">\n",
       "      <th></th>\n",
       "      <th>PassengerId</th>\n",
       "      <th>Survived</th>\n",
       "      <th>Pclass</th>\n",
       "      <th>Name</th>\n",
       "      <th>Sex</th>\n",
       "      <th>Age</th>\n",
       "      <th>SibSp</th>\n",
       "      <th>Parch</th>\n",
       "      <th>Ticket</th>\n",
       "      <th>Fare</th>\n",
       "      <th>Cabin</th>\n",
       "      <th>Embarked</th>\n",
       "    </tr>\n",
       "  </thead>\n",
       "  <tbody>\n",
       "    <tr>\n",
       "      <th>0</th>\n",
       "      <td>1</td>\n",
       "      <td>0.0</td>\n",
       "      <td>3</td>\n",
       "      <td>Braund, Mr. Owen Harris</td>\n",
       "      <td>male</td>\n",
       "      <td>22.0</td>\n",
       "      <td>1</td>\n",
       "      <td>0</td>\n",
       "      <td>A/5 21171</td>\n",
       "      <td>7.2500</td>\n",
       "      <td>NaN</td>\n",
       "      <td>S</td>\n",
       "    </tr>\n",
       "    <tr>\n",
       "      <th>1</th>\n",
       "      <td>2</td>\n",
       "      <td>1.0</td>\n",
       "      <td>1</td>\n",
       "      <td>Cumings, Mrs. John Bradley (Florence Briggs Th...</td>\n",
       "      <td>female</td>\n",
       "      <td>38.0</td>\n",
       "      <td>1</td>\n",
       "      <td>0</td>\n",
       "      <td>PC 17599</td>\n",
       "      <td>71.2833</td>\n",
       "      <td>C85</td>\n",
       "      <td>C</td>\n",
       "    </tr>\n",
       "    <tr>\n",
       "      <th>2</th>\n",
       "      <td>3</td>\n",
       "      <td>1.0</td>\n",
       "      <td>3</td>\n",
       "      <td>Heikkinen, Miss. Laina</td>\n",
       "      <td>female</td>\n",
       "      <td>26.0</td>\n",
       "      <td>0</td>\n",
       "      <td>0</td>\n",
       "      <td>STON/O2. 3101282</td>\n",
       "      <td>7.9250</td>\n",
       "      <td>NaN</td>\n",
       "      <td>S</td>\n",
       "    </tr>\n",
       "    <tr>\n",
       "      <th>3</th>\n",
       "      <td>4</td>\n",
       "      <td>1.0</td>\n",
       "      <td>1</td>\n",
       "      <td>Futrelle, Mrs. Jacques Heath (Lily May Peel)</td>\n",
       "      <td>female</td>\n",
       "      <td>35.0</td>\n",
       "      <td>1</td>\n",
       "      <td>0</td>\n",
       "      <td>113803</td>\n",
       "      <td>53.1000</td>\n",
       "      <td>C123</td>\n",
       "      <td>S</td>\n",
       "    </tr>\n",
       "    <tr>\n",
       "      <th>4</th>\n",
       "      <td>5</td>\n",
       "      <td>0.0</td>\n",
       "      <td>3</td>\n",
       "      <td>Allen, Mr. William Henry</td>\n",
       "      <td>male</td>\n",
       "      <td>35.0</td>\n",
       "      <td>0</td>\n",
       "      <td>0</td>\n",
       "      <td>373450</td>\n",
       "      <td>8.0500</td>\n",
       "      <td>NaN</td>\n",
       "      <td>S</td>\n",
       "    </tr>\n",
       "  </tbody>\n",
       "</table>\n",
       "</div>"
      ],
      "text/plain": [
       "   PassengerId  Survived  Pclass  \\\n",
       "0            1       0.0       3   \n",
       "1            2       1.0       1   \n",
       "2            3       1.0       3   \n",
       "3            4       1.0       1   \n",
       "4            5       0.0       3   \n",
       "\n",
       "                                                Name     Sex   Age  SibSp  \\\n",
       "0                            Braund, Mr. Owen Harris    male  22.0      1   \n",
       "1  Cumings, Mrs. John Bradley (Florence Briggs Th...  female  38.0      1   \n",
       "2                             Heikkinen, Miss. Laina  female  26.0      0   \n",
       "3       Futrelle, Mrs. Jacques Heath (Lily May Peel)  female  35.0      1   \n",
       "4                           Allen, Mr. William Henry    male  35.0      0   \n",
       "\n",
       "   Parch            Ticket     Fare Cabin Embarked  \n",
       "0      0         A/5 21171   7.2500   NaN        S  \n",
       "1      0          PC 17599  71.2833   C85        C  \n",
       "2      0  STON/O2. 3101282   7.9250   NaN        S  \n",
       "3      0            113803  53.1000  C123        S  \n",
       "4      0            373450   8.0500   NaN        S  "
      ]
     },
     "execution_count": 13,
     "metadata": {},
     "output_type": "execute_result"
    }
   ],
   "source": [
    "df.head()"
   ]
  },
  {
   "cell_type": "code",
   "execution_count": 14,
   "id": "74ff9ccf",
   "metadata": {
    "execution": {
     "iopub.execute_input": "2021-11-05T11:44:52.602715Z",
     "iopub.status.busy": "2021-11-05T11:44:52.602068Z",
     "iopub.status.idle": "2021-11-05T11:44:52.607996Z",
     "shell.execute_reply": "2021-11-05T11:44:52.608630Z",
     "shell.execute_reply.started": "2021-11-05T11:37:52.155718Z"
    },
    "papermill": {
     "duration": 0.1122,
     "end_time": "2021-11-05T11:44:52.608801",
     "exception": false,
     "start_time": "2021-11-05T11:44:52.496601",
     "status": "completed"
    },
    "tags": []
   },
   "outputs": [],
   "source": [
    "df.drop(['PassengerId'], axis=1, inplace=True)"
   ]
  },
  {
   "cell_type": "code",
   "execution_count": 15,
   "id": "f9d03b9b",
   "metadata": {
    "execution": {
     "iopub.execute_input": "2021-11-05T11:44:52.820115Z",
     "iopub.status.busy": "2021-11-05T11:44:52.819470Z",
     "iopub.status.idle": "2021-11-05T11:44:52.826082Z",
     "shell.execute_reply": "2021-11-05T11:44:52.826689Z",
     "shell.execute_reply.started": "2021-11-05T11:37:52.163447Z"
    },
    "papermill": {
     "duration": 0.113817,
     "end_time": "2021-11-05T11:44:52.826912",
     "exception": false,
     "start_time": "2021-11-05T11:44:52.713095",
     "status": "completed"
    },
    "tags": []
   },
   "outputs": [
    {
     "data": {
      "text/plain": [
       "3    709\n",
       "1    323\n",
       "2    277\n",
       "Name: Pclass, dtype: int64"
      ]
     },
     "execution_count": 15,
     "metadata": {},
     "output_type": "execute_result"
    }
   ],
   "source": [
    "df['Pclass'].value_counts()"
   ]
  },
  {
   "cell_type": "code",
   "execution_count": 16,
   "id": "7bb7142d",
   "metadata": {
    "execution": {
     "iopub.execute_input": "2021-11-05T11:44:53.038136Z",
     "iopub.status.busy": "2021-11-05T11:44:53.037524Z",
     "iopub.status.idle": "2021-11-05T11:44:53.052266Z",
     "shell.execute_reply": "2021-11-05T11:44:53.052877Z",
     "shell.execute_reply.started": "2021-11-05T11:37:52.176741Z"
    },
    "papermill": {
     "duration": 0.122345,
     "end_time": "2021-11-05T11:44:53.053043",
     "exception": false,
     "start_time": "2021-11-05T11:44:52.930698",
     "status": "completed"
    },
    "tags": []
   },
   "outputs": [
    {
     "data": {
      "text/html": [
       "<div>\n",
       "<style scoped>\n",
       "    .dataframe tbody tr th:only-of-type {\n",
       "        vertical-align: middle;\n",
       "    }\n",
       "\n",
       "    .dataframe tbody tr th {\n",
       "        vertical-align: top;\n",
       "    }\n",
       "\n",
       "    .dataframe thead th {\n",
       "        text-align: right;\n",
       "    }\n",
       "</style>\n",
       "<table border=\"1\" class=\"dataframe\">\n",
       "  <thead>\n",
       "    <tr style=\"text-align: right;\">\n",
       "      <th></th>\n",
       "      <th>Survived</th>\n",
       "      <th>Pclass</th>\n",
       "      <th>Name</th>\n",
       "      <th>Sex</th>\n",
       "      <th>Age</th>\n",
       "      <th>SibSp</th>\n",
       "      <th>Parch</th>\n",
       "      <th>Ticket</th>\n",
       "      <th>Fare</th>\n",
       "      <th>Cabin</th>\n",
       "      <th>Embarked</th>\n",
       "    </tr>\n",
       "  </thead>\n",
       "  <tbody>\n",
       "    <tr>\n",
       "      <th>0</th>\n",
       "      <td>0.0</td>\n",
       "      <td>3</td>\n",
       "      <td>Braund, Mr. Owen Harris</td>\n",
       "      <td>male</td>\n",
       "      <td>22.0</td>\n",
       "      <td>1</td>\n",
       "      <td>0</td>\n",
       "      <td>A/5 21171</td>\n",
       "      <td>7.2500</td>\n",
       "      <td>NaN</td>\n",
       "      <td>S</td>\n",
       "    </tr>\n",
       "    <tr>\n",
       "      <th>1</th>\n",
       "      <td>1.0</td>\n",
       "      <td>1</td>\n",
       "      <td>Cumings, Mrs. John Bradley (Florence Briggs Th...</td>\n",
       "      <td>female</td>\n",
       "      <td>38.0</td>\n",
       "      <td>1</td>\n",
       "      <td>0</td>\n",
       "      <td>PC 17599</td>\n",
       "      <td>71.2833</td>\n",
       "      <td>C85</td>\n",
       "      <td>C</td>\n",
       "    </tr>\n",
       "    <tr>\n",
       "      <th>2</th>\n",
       "      <td>1.0</td>\n",
       "      <td>3</td>\n",
       "      <td>Heikkinen, Miss. Laina</td>\n",
       "      <td>female</td>\n",
       "      <td>26.0</td>\n",
       "      <td>0</td>\n",
       "      <td>0</td>\n",
       "      <td>STON/O2. 3101282</td>\n",
       "      <td>7.9250</td>\n",
       "      <td>NaN</td>\n",
       "      <td>S</td>\n",
       "    </tr>\n",
       "    <tr>\n",
       "      <th>3</th>\n",
       "      <td>1.0</td>\n",
       "      <td>1</td>\n",
       "      <td>Futrelle, Mrs. Jacques Heath (Lily May Peel)</td>\n",
       "      <td>female</td>\n",
       "      <td>35.0</td>\n",
       "      <td>1</td>\n",
       "      <td>0</td>\n",
       "      <td>113803</td>\n",
       "      <td>53.1000</td>\n",
       "      <td>C123</td>\n",
       "      <td>S</td>\n",
       "    </tr>\n",
       "    <tr>\n",
       "      <th>4</th>\n",
       "      <td>0.0</td>\n",
       "      <td>3</td>\n",
       "      <td>Allen, Mr. William Henry</td>\n",
       "      <td>male</td>\n",
       "      <td>35.0</td>\n",
       "      <td>0</td>\n",
       "      <td>0</td>\n",
       "      <td>373450</td>\n",
       "      <td>8.0500</td>\n",
       "      <td>NaN</td>\n",
       "      <td>S</td>\n",
       "    </tr>\n",
       "  </tbody>\n",
       "</table>\n",
       "</div>"
      ],
      "text/plain": [
       "   Survived  Pclass                                               Name  \\\n",
       "0       0.0       3                            Braund, Mr. Owen Harris   \n",
       "1       1.0       1  Cumings, Mrs. John Bradley (Florence Briggs Th...   \n",
       "2       1.0       3                             Heikkinen, Miss. Laina   \n",
       "3       1.0       1       Futrelle, Mrs. Jacques Heath (Lily May Peel)   \n",
       "4       0.0       3                           Allen, Mr. William Henry   \n",
       "\n",
       "      Sex   Age  SibSp  Parch            Ticket     Fare Cabin Embarked  \n",
       "0    male  22.0      1      0         A/5 21171   7.2500   NaN        S  \n",
       "1  female  38.0      1      0          PC 17599  71.2833   C85        C  \n",
       "2  female  26.0      0      0  STON/O2. 3101282   7.9250   NaN        S  \n",
       "3  female  35.0      1      0            113803  53.1000  C123        S  \n",
       "4    male  35.0      0      0            373450   8.0500   NaN        S  "
      ]
     },
     "execution_count": 16,
     "metadata": {},
     "output_type": "execute_result"
    }
   ],
   "source": [
    "df.head()"
   ]
  },
  {
   "cell_type": "code",
   "execution_count": 17,
   "id": "dad6d370",
   "metadata": {
    "execution": {
     "iopub.execute_input": "2021-11-05T11:44:53.265859Z",
     "iopub.status.busy": "2021-11-05T11:44:53.265213Z",
     "iopub.status.idle": "2021-11-05T11:44:53.294818Z",
     "shell.execute_reply": "2021-11-05T11:44:53.295325Z",
     "shell.execute_reply.started": "2021-11-05T11:37:52.201770Z"
    },
    "papermill": {
     "duration": 0.137516,
     "end_time": "2021-11-05T11:44:53.295530",
     "exception": false,
     "start_time": "2021-11-05T11:44:53.158014",
     "status": "completed"
    },
    "tags": []
   },
   "outputs": [
    {
     "data": {
      "text/html": [
       "<div>\n",
       "<style scoped>\n",
       "    .dataframe tbody tr th:only-of-type {\n",
       "        vertical-align: middle;\n",
       "    }\n",
       "\n",
       "    .dataframe tbody tr th {\n",
       "        vertical-align: top;\n",
       "    }\n",
       "\n",
       "    .dataframe thead th {\n",
       "        text-align: right;\n",
       "    }\n",
       "</style>\n",
       "<table border=\"1\" class=\"dataframe\">\n",
       "  <thead>\n",
       "    <tr style=\"text-align: right;\">\n",
       "      <th></th>\n",
       "      <th>count</th>\n",
       "      <th>mean</th>\n",
       "      <th>std</th>\n",
       "      <th>min</th>\n",
       "      <th>25%</th>\n",
       "      <th>50%</th>\n",
       "      <th>75%</th>\n",
       "      <th>max</th>\n",
       "    </tr>\n",
       "  </thead>\n",
       "  <tbody>\n",
       "    <tr>\n",
       "      <th>Survived</th>\n",
       "      <td>891.0</td>\n",
       "      <td>0.383838</td>\n",
       "      <td>0.486592</td>\n",
       "      <td>0.00</td>\n",
       "      <td>0.0000</td>\n",
       "      <td>0.0000</td>\n",
       "      <td>1.000</td>\n",
       "      <td>1.0000</td>\n",
       "    </tr>\n",
       "    <tr>\n",
       "      <th>Pclass</th>\n",
       "      <td>1309.0</td>\n",
       "      <td>2.294882</td>\n",
       "      <td>0.837836</td>\n",
       "      <td>1.00</td>\n",
       "      <td>2.0000</td>\n",
       "      <td>3.0000</td>\n",
       "      <td>3.000</td>\n",
       "      <td>3.0000</td>\n",
       "    </tr>\n",
       "    <tr>\n",
       "      <th>Age</th>\n",
       "      <td>1046.0</td>\n",
       "      <td>29.881138</td>\n",
       "      <td>14.413493</td>\n",
       "      <td>0.17</td>\n",
       "      <td>21.0000</td>\n",
       "      <td>28.0000</td>\n",
       "      <td>39.000</td>\n",
       "      <td>80.0000</td>\n",
       "    </tr>\n",
       "    <tr>\n",
       "      <th>SibSp</th>\n",
       "      <td>1309.0</td>\n",
       "      <td>0.498854</td>\n",
       "      <td>1.041658</td>\n",
       "      <td>0.00</td>\n",
       "      <td>0.0000</td>\n",
       "      <td>0.0000</td>\n",
       "      <td>1.000</td>\n",
       "      <td>8.0000</td>\n",
       "    </tr>\n",
       "    <tr>\n",
       "      <th>Parch</th>\n",
       "      <td>1309.0</td>\n",
       "      <td>0.385027</td>\n",
       "      <td>0.865560</td>\n",
       "      <td>0.00</td>\n",
       "      <td>0.0000</td>\n",
       "      <td>0.0000</td>\n",
       "      <td>0.000</td>\n",
       "      <td>9.0000</td>\n",
       "    </tr>\n",
       "    <tr>\n",
       "      <th>Fare</th>\n",
       "      <td>1308.0</td>\n",
       "      <td>33.295479</td>\n",
       "      <td>51.758668</td>\n",
       "      <td>0.00</td>\n",
       "      <td>7.8958</td>\n",
       "      <td>14.4542</td>\n",
       "      <td>31.275</td>\n",
       "      <td>512.3292</td>\n",
       "    </tr>\n",
       "  </tbody>\n",
       "</table>\n",
       "</div>"
      ],
      "text/plain": [
       "           count       mean        std   min      25%      50%     75%  \\\n",
       "Survived   891.0   0.383838   0.486592  0.00   0.0000   0.0000   1.000   \n",
       "Pclass    1309.0   2.294882   0.837836  1.00   2.0000   3.0000   3.000   \n",
       "Age       1046.0  29.881138  14.413493  0.17  21.0000  28.0000  39.000   \n",
       "SibSp     1309.0   0.498854   1.041658  0.00   0.0000   0.0000   1.000   \n",
       "Parch     1309.0   0.385027   0.865560  0.00   0.0000   0.0000   0.000   \n",
       "Fare      1308.0  33.295479  51.758668  0.00   7.8958  14.4542  31.275   \n",
       "\n",
       "               max  \n",
       "Survived    1.0000  \n",
       "Pclass      3.0000  \n",
       "Age        80.0000  \n",
       "SibSp       8.0000  \n",
       "Parch       9.0000  \n",
       "Fare      512.3292  "
      ]
     },
     "execution_count": 17,
     "metadata": {},
     "output_type": "execute_result"
    }
   ],
   "source": [
    "df.describe().T"
   ]
  },
  {
   "cell_type": "markdown",
   "id": "19accd28",
   "metadata": {
    "papermill": {
     "duration": 0.103864,
     "end_time": "2021-11-05T11:44:53.503922",
     "exception": false,
     "start_time": "2021-11-05T11:44:53.400058",
     "status": "completed"
    },
    "tags": []
   },
   "source": [
    "# Missing Values"
   ]
  },
  {
   "cell_type": "code",
   "execution_count": 18,
   "id": "091163cc",
   "metadata": {
    "execution": {
     "iopub.execute_input": "2021-11-05T11:44:53.721731Z",
     "iopub.status.busy": "2021-11-05T11:44:53.720854Z",
     "iopub.status.idle": "2021-11-05T11:44:53.724075Z",
     "shell.execute_reply": "2021-11-05T11:44:53.724604Z",
     "shell.execute_reply.started": "2021-11-05T11:37:52.235730Z"
    },
    "papermill": {
     "duration": 0.116235,
     "end_time": "2021-11-05T11:44:53.724780",
     "exception": false,
     "start_time": "2021-11-05T11:44:53.608545",
     "status": "completed"
    },
    "tags": []
   },
   "outputs": [
    {
     "data": {
      "text/plain": [
       "Survived     418\n",
       "Pclass         0\n",
       "Name           0\n",
       "Sex            0\n",
       "Age          263\n",
       "SibSp          0\n",
       "Parch          0\n",
       "Ticket         0\n",
       "Fare           1\n",
       "Cabin       1014\n",
       "Embarked       2\n",
       "dtype: int64"
      ]
     },
     "execution_count": 18,
     "metadata": {},
     "output_type": "execute_result"
    }
   ],
   "source": [
    "df.isnull().sum()"
   ]
  },
  {
   "cell_type": "code",
   "execution_count": 19,
   "id": "adcacdfe",
   "metadata": {
    "execution": {
     "iopub.execute_input": "2021-11-05T11:44:53.959805Z",
     "iopub.status.busy": "2021-11-05T11:44:53.952071Z",
     "iopub.status.idle": "2021-11-05T11:44:55.038703Z",
     "shell.execute_reply": "2021-11-05T11:44:55.037998Z",
     "shell.execute_reply.started": "2021-11-05T11:37:52.246901Z"
    },
    "papermill": {
     "duration": 1.208836,
     "end_time": "2021-11-05T11:44:55.038849",
     "exception": false,
     "start_time": "2021-11-05T11:44:53.830013",
     "status": "completed"
    },
    "tags": []
   },
   "outputs": [
    {
     "data": {
      "text/plain": [
       "<AxesSubplot:>"
      ]
     },
     "execution_count": 19,
     "metadata": {},
     "output_type": "execute_result"
    },
    {
     "data": {
      "image/png": "[encoded data removed]",
      "text/plain": [
       "<Figure size 1728x720 with 3 Axes>"
      ]
     },
     "metadata": {
      "needs_background": "light"
     },
     "output_type": "display_data"
    }
   ],
   "source": [
    "msn.bar(df)"
   ]
  },
  {
   "cell_type": "markdown",
   "id": "f9a28e66",
   "metadata": {
    "papermill": {
     "duration": 0.107011,
     "end_time": "2021-11-05T11:44:55.254490",
     "exception": false,
     "start_time": "2021-11-05T11:44:55.147479",
     "status": "completed"
    },
    "tags": []
   },
   "source": [
    "##### Fare"
   ]
  },
  {
   "cell_type": "code",
   "execution_count": 20,
   "id": "0aa9a8ec",
   "metadata": {
    "execution": {
     "iopub.execute_input": "2021-11-05T11:44:55.484262Z",
     "iopub.status.busy": "2021-11-05T11:44:55.483579Z",
     "iopub.status.idle": "2021-11-05T11:44:55.487541Z",
     "shell.execute_reply": "2021-11-05T11:44:55.488038Z",
     "shell.execute_reply.started": "2021-11-05T11:37:53.343026Z"
    },
    "papermill": {
     "duration": 0.126947,
     "end_time": "2021-11-05T11:44:55.488206",
     "exception": false,
     "start_time": "2021-11-05T11:44:55.361259",
     "status": "completed"
    },
    "tags": []
   },
   "outputs": [
    {
     "data": {
      "text/html": [
       "<div>\n",
       "<style scoped>\n",
       "    .dataframe tbody tr th:only-of-type {\n",
       "        vertical-align: middle;\n",
       "    }\n",
       "\n",
       "    .dataframe tbody tr th {\n",
       "        vertical-align: top;\n",
       "    }\n",
       "\n",
       "    .dataframe thead th {\n",
       "        text-align: right;\n",
       "    }\n",
       "</style>\n",
       "<table border=\"1\" class=\"dataframe\">\n",
       "  <thead>\n",
       "    <tr style=\"text-align: right;\">\n",
       "      <th></th>\n",
       "      <th>Survived</th>\n",
       "      <th>Pclass</th>\n",
       "      <th>Name</th>\n",
       "      <th>Sex</th>\n",
       "      <th>Age</th>\n",
       "      <th>SibSp</th>\n",
       "      <th>Parch</th>\n",
       "      <th>Ticket</th>\n",
       "      <th>Fare</th>\n",
       "      <th>Cabin</th>\n",
       "      <th>Embarked</th>\n",
       "    </tr>\n",
       "  </thead>\n",
       "  <tbody>\n",
       "    <tr>\n",
       "      <th>152</th>\n",
       "      <td>NaN</td>\n",
       "      <td>3</td>\n",
       "      <td>Storey, Mr. Thomas</td>\n",
       "      <td>male</td>\n",
       "      <td>60.5</td>\n",
       "      <td>0</td>\n",
       "      <td>0</td>\n",
       "      <td>3701</td>\n",
       "      <td>NaN</td>\n",
       "      <td>NaN</td>\n",
       "      <td>S</td>\n",
       "    </tr>\n",
       "  </tbody>\n",
       "</table>\n",
       "</div>"
      ],
      "text/plain": [
       "     Survived  Pclass                Name   Sex   Age  SibSp  Parch Ticket  \\\n",
       "152       NaN       3  Storey, Mr. Thomas  male  60.5      0      0   3701   \n",
       "\n",
       "     Fare Cabin Embarked  \n",
       "152   NaN   NaN        S  "
      ]
     },
     "execution_count": 20,
     "metadata": {},
     "output_type": "execute_result"
    }
   ],
   "source": [
    "df[df['Fare'].isnull()]"
   ]
  },
  {
   "cell_type": "code",
   "execution_count": 21,
   "id": "d8ba314c",
   "metadata": {
    "execution": {
     "iopub.execute_input": "2021-11-05T11:44:55.708191Z",
     "iopub.status.busy": "2021-11-05T11:44:55.707545Z",
     "iopub.status.idle": "2021-11-05T11:44:55.711305Z",
     "shell.execute_reply": "2021-11-05T11:44:55.710822Z",
     "shell.execute_reply.started": "2021-11-05T11:37:53.360740Z"
    },
    "papermill": {
     "duration": 0.116119,
     "end_time": "2021-11-05T11:44:55.711489",
     "exception": false,
     "start_time": "2021-11-05T11:44:55.595370",
     "status": "completed"
    },
    "tags": []
   },
   "outputs": [
    {
     "name": "stdout",
     "output_type": "stream",
     "text": [
      "33.2954792813456\n",
      "14.4542\n"
     ]
    }
   ],
   "source": [
    "print(df['Fare'].mean())\n",
    "print(df['Fare'].median())"
   ]
  },
  {
   "cell_type": "code",
   "execution_count": 22,
   "id": "52f6b5dd",
   "metadata": {
    "execution": {
     "iopub.execute_input": "2021-11-05T11:44:55.934990Z",
     "iopub.status.busy": "2021-11-05T11:44:55.934310Z",
     "iopub.status.idle": "2021-11-05T11:44:55.936665Z",
     "shell.execute_reply": "2021-11-05T11:44:55.937156Z",
     "shell.execute_reply.started": "2021-11-05T11:37:53.373614Z"
    },
    "papermill": {
     "duration": 0.117628,
     "end_time": "2021-11-05T11:44:55.937322",
     "exception": false,
     "start_time": "2021-11-05T11:44:55.819694",
     "status": "completed"
    },
    "tags": []
   },
   "outputs": [],
   "source": [
    "df['Fare']=df['Fare'].fillna(df['Fare'].mean())"
   ]
  },
  {
   "cell_type": "markdown",
   "id": "f1be42cf",
   "metadata": {
    "papermill": {
     "duration": 0.10824,
     "end_time": "2021-11-05T11:44:56.154800",
     "exception": false,
     "start_time": "2021-11-05T11:44:56.046560",
     "status": "completed"
    },
    "tags": []
   },
   "source": [
    "##### Cabin"
   ]
  },
  {
   "cell_type": "code",
   "execution_count": 23,
   "id": "4f4f56c8",
   "metadata": {
    "execution": {
     "iopub.execute_input": "2021-11-05T11:44:56.396111Z",
     "iopub.status.busy": "2021-11-05T11:44:56.389846Z",
     "iopub.status.idle": "2021-11-05T11:44:56.400283Z",
     "shell.execute_reply": "2021-11-05T11:44:56.399681Z",
     "shell.execute_reply.started": "2021-11-05T11:37:53.384512Z"
    },
    "papermill": {
     "duration": 0.137564,
     "end_time": "2021-11-05T11:44:56.400436",
     "exception": false,
     "start_time": "2021-11-05T11:44:56.262872",
     "status": "completed"
    },
    "tags": []
   },
   "outputs": [
    {
     "data": {
      "text/html": [
       "<div>\n",
       "<style scoped>\n",
       "    .dataframe tbody tr th:only-of-type {\n",
       "        vertical-align: middle;\n",
       "    }\n",
       "\n",
       "    .dataframe tbody tr th {\n",
       "        vertical-align: top;\n",
       "    }\n",
       "\n",
       "    .dataframe thead th {\n",
       "        text-align: right;\n",
       "    }\n",
       "</style>\n",
       "<table border=\"1\" class=\"dataframe\">\n",
       "  <thead>\n",
       "    <tr style=\"text-align: right;\">\n",
       "      <th></th>\n",
       "      <th>Survived</th>\n",
       "      <th>Pclass</th>\n",
       "      <th>Name</th>\n",
       "      <th>Sex</th>\n",
       "      <th>Age</th>\n",
       "      <th>SibSp</th>\n",
       "      <th>Parch</th>\n",
       "      <th>Ticket</th>\n",
       "      <th>Fare</th>\n",
       "      <th>Cabin</th>\n",
       "      <th>Embarked</th>\n",
       "    </tr>\n",
       "  </thead>\n",
       "  <tbody>\n",
       "    <tr>\n",
       "      <th>0</th>\n",
       "      <td>0.0</td>\n",
       "      <td>3</td>\n",
       "      <td>Braund, Mr. Owen Harris</td>\n",
       "      <td>male</td>\n",
       "      <td>22.0</td>\n",
       "      <td>1</td>\n",
       "      <td>0</td>\n",
       "      <td>A/5 21171</td>\n",
       "      <td>7.2500</td>\n",
       "      <td>NaN</td>\n",
       "      <td>S</td>\n",
       "    </tr>\n",
       "    <tr>\n",
       "      <th>2</th>\n",
       "      <td>1.0</td>\n",
       "      <td>3</td>\n",
       "      <td>Heikkinen, Miss. Laina</td>\n",
       "      <td>female</td>\n",
       "      <td>26.0</td>\n",
       "      <td>0</td>\n",
       "      <td>0</td>\n",
       "      <td>STON/O2. 3101282</td>\n",
       "      <td>7.9250</td>\n",
       "      <td>NaN</td>\n",
       "      <td>S</td>\n",
       "    </tr>\n",
       "    <tr>\n",
       "      <th>4</th>\n",
       "      <td>0.0</td>\n",
       "      <td>3</td>\n",
       "      <td>Allen, Mr. William Henry</td>\n",
       "      <td>male</td>\n",
       "      <td>35.0</td>\n",
       "      <td>0</td>\n",
       "      <td>0</td>\n",
       "      <td>373450</td>\n",
       "      <td>8.0500</td>\n",
       "      <td>NaN</td>\n",
       "      <td>S</td>\n",
       "    </tr>\n",
       "    <tr>\n",
       "      <th>5</th>\n",
       "      <td>0.0</td>\n",
       "      <td>3</td>\n",
       "      <td>Moran, Mr. James</td>\n",
       "      <td>male</td>\n",
       "      <td>NaN</td>\n",
       "      <td>0</td>\n",
       "      <td>0</td>\n",
       "      <td>330877</td>\n",
       "      <td>8.4583</td>\n",
       "      <td>NaN</td>\n",
       "      <td>Q</td>\n",
       "    </tr>\n",
       "    <tr>\n",
       "      <th>7</th>\n",
       "      <td>0.0</td>\n",
       "      <td>3</td>\n",
       "      <td>Palsson, Master. Gosta Leonard</td>\n",
       "      <td>male</td>\n",
       "      <td>2.0</td>\n",
       "      <td>3</td>\n",
       "      <td>1</td>\n",
       "      <td>349909</td>\n",
       "      <td>21.0750</td>\n",
       "      <td>NaN</td>\n",
       "      <td>S</td>\n",
       "    </tr>\n",
       "    <tr>\n",
       "      <th>...</th>\n",
       "      <td>...</td>\n",
       "      <td>...</td>\n",
       "      <td>...</td>\n",
       "      <td>...</td>\n",
       "      <td>...</td>\n",
       "      <td>...</td>\n",
       "      <td>...</td>\n",
       "      <td>...</td>\n",
       "      <td>...</td>\n",
       "      <td>...</td>\n",
       "      <td>...</td>\n",
       "    </tr>\n",
       "    <tr>\n",
       "      <th>412</th>\n",
       "      <td>NaN</td>\n",
       "      <td>3</td>\n",
       "      <td>Henriksson, Miss. Jenny Lovisa</td>\n",
       "      <td>female</td>\n",
       "      <td>28.0</td>\n",
       "      <td>0</td>\n",
       "      <td>0</td>\n",
       "      <td>347086</td>\n",
       "      <td>7.7750</td>\n",
       "      <td>NaN</td>\n",
       "      <td>S</td>\n",
       "    </tr>\n",
       "    <tr>\n",
       "      <th>413</th>\n",
       "      <td>NaN</td>\n",
       "      <td>3</td>\n",
       "      <td>Spector, Mr. Woolf</td>\n",
       "      <td>male</td>\n",
       "      <td>NaN</td>\n",
       "      <td>0</td>\n",
       "      <td>0</td>\n",
       "      <td>A.5. 3236</td>\n",
       "      <td>8.0500</td>\n",
       "      <td>NaN</td>\n",
       "      <td>S</td>\n",
       "    </tr>\n",
       "    <tr>\n",
       "      <th>415</th>\n",
       "      <td>NaN</td>\n",
       "      <td>3</td>\n",
       "      <td>Saether, Mr. Simon Sivertsen</td>\n",
       "      <td>male</td>\n",
       "      <td>38.5</td>\n",
       "      <td>0</td>\n",
       "      <td>0</td>\n",
       "      <td>SOTON/O.Q. 3101262</td>\n",
       "      <td>7.2500</td>\n",
       "      <td>NaN</td>\n",
       "      <td>S</td>\n",
       "    </tr>\n",
       "    <tr>\n",
       "      <th>416</th>\n",
       "      <td>NaN</td>\n",
       "      <td>3</td>\n",
       "      <td>Ware, Mr. Frederick</td>\n",
       "      <td>male</td>\n",
       "      <td>NaN</td>\n",
       "      <td>0</td>\n",
       "      <td>0</td>\n",
       "      <td>359309</td>\n",
       "      <td>8.0500</td>\n",
       "      <td>NaN</td>\n",
       "      <td>S</td>\n",
       "    </tr>\n",
       "    <tr>\n",
       "      <th>417</th>\n",
       "      <td>NaN</td>\n",
       "      <td>3</td>\n",
       "      <td>Peter, Master. Michael J</td>\n",
       "      <td>male</td>\n",
       "      <td>NaN</td>\n",
       "      <td>1</td>\n",
       "      <td>1</td>\n",
       "      <td>2668</td>\n",
       "      <td>22.3583</td>\n",
       "      <td>NaN</td>\n",
       "      <td>C</td>\n",
       "    </tr>\n",
       "  </tbody>\n",
       "</table>\n",
       "<p>1014 rows × 11 columns</p>\n",
       "</div>"
      ],
      "text/plain": [
       "     Survived  Pclass                            Name     Sex   Age  SibSp  \\\n",
       "0         0.0       3         Braund, Mr. Owen Harris    male  22.0      1   \n",
       "2         1.0       3          Heikkinen, Miss. Laina  female  26.0      0   \n",
       "4         0.0       3        Allen, Mr. William Henry    male  35.0      0   \n",
       "5         0.0       3                Moran, Mr. James    male   NaN      0   \n",
       "7         0.0       3  Palsson, Master. Gosta Leonard    male   2.0      3   \n",
       "..        ...     ...                             ...     ...   ...    ...   \n",
       "412       NaN       3  Henriksson, Miss. Jenny Lovisa  female  28.0      0   \n",
       "413       NaN       3              Spector, Mr. Woolf    male   NaN      0   \n",
       "415       NaN       3    Saether, Mr. Simon Sivertsen    male  38.5      0   \n",
       "416       NaN       3             Ware, Mr. Frederick    male   NaN      0   \n",
       "417       NaN       3        Peter, Master. Michael J    male   NaN      1   \n",
       "\n",
       "     Parch              Ticket     Fare Cabin Embarked  \n",
       "0        0           A/5 21171   7.2500   NaN        S  \n",
       "2        0    STON/O2. 3101282   7.9250   NaN        S  \n",
       "4        0              373450   8.0500   NaN        S  \n",
       "5        0              330877   8.4583   NaN        Q  \n",
       "7        1              349909  21.0750   NaN        S  \n",
       "..     ...                 ...      ...   ...      ...  \n",
       "412      0              347086   7.7750   NaN        S  \n",
       "413      0           A.5. 3236   8.0500   NaN        S  \n",
       "415      0  SOTON/O.Q. 3101262   7.2500   NaN        S  \n",
       "416      0              359309   8.0500   NaN        S  \n",
       "417      1                2668  22.3583   NaN        C  \n",
       "\n",
       "[1014 rows x 11 columns]"
      ]
     },
     "execution_count": 23,
     "metadata": {},
     "output_type": "execute_result"
    }
   ],
   "source": [
    "df[df['Cabin'].isnull()]"
   ]
  },
  {
   "cell_type": "code",
   "execution_count": 24,
   "id": "08a7ea08",
   "metadata": {
    "execution": {
     "iopub.execute_input": "2021-11-05T11:44:56.627606Z",
     "iopub.status.busy": "2021-11-05T11:44:56.626852Z",
     "iopub.status.idle": "2021-11-05T11:44:56.631216Z",
     "shell.execute_reply": "2021-11-05T11:44:56.630708Z",
     "shell.execute_reply.started": "2021-11-05T11:37:53.416270Z"
    },
    "papermill": {
     "duration": 0.119474,
     "end_time": "2021-11-05T11:44:56.631373",
     "exception": false,
     "start_time": "2021-11-05T11:44:56.511899",
     "status": "completed"
    },
    "tags": []
   },
   "outputs": [
    {
     "name": "stdout",
     "output_type": "stream",
     "text": [
      "0.774637127578304\n"
     ]
    }
   ],
   "source": [
    "print( df['Cabin'].isnull().sum()/df.shape[0] )"
   ]
  },
  {
   "cell_type": "code",
   "execution_count": 25,
   "id": "5eb79b3d",
   "metadata": {
    "execution": {
     "iopub.execute_input": "2021-11-05T11:44:56.855612Z",
     "iopub.status.busy": "2021-11-05T11:44:56.852418Z",
     "iopub.status.idle": "2021-11-05T11:44:56.858234Z",
     "shell.execute_reply": "2021-11-05T11:44:56.857570Z",
     "shell.execute_reply.started": "2021-11-05T11:37:53.425161Z"
    },
    "papermill": {
     "duration": 0.117947,
     "end_time": "2021-11-05T11:44:56.858392",
     "exception": false,
     "start_time": "2021-11-05T11:44:56.740445",
     "status": "completed"
    },
    "tags": []
   },
   "outputs": [],
   "source": [
    "df.drop('Cabin', axis=1, inplace=True)"
   ]
  },
  {
   "cell_type": "markdown",
   "id": "6d24395e",
   "metadata": {
    "papermill": {
     "duration": 0.10989,
     "end_time": "2021-11-05T11:44:57.078532",
     "exception": false,
     "start_time": "2021-11-05T11:44:56.968642",
     "status": "completed"
    },
    "tags": []
   },
   "source": [
    "##### Embarked"
   ]
  },
  {
   "cell_type": "code",
   "execution_count": 26,
   "id": "05abc5eb",
   "metadata": {
    "execution": {
     "iopub.execute_input": "2021-11-05T11:44:57.312756Z",
     "iopub.status.busy": "2021-11-05T11:44:57.300365Z",
     "iopub.status.idle": "2021-11-05T11:44:57.315475Z",
     "shell.execute_reply": "2021-11-05T11:44:57.316020Z",
     "shell.execute_reply.started": "2021-11-05T11:37:53.436394Z"
    },
    "papermill": {
     "duration": 0.127861,
     "end_time": "2021-11-05T11:44:57.316183",
     "exception": false,
     "start_time": "2021-11-05T11:44:57.188322",
     "status": "completed"
    },
    "tags": []
   },
   "outputs": [
    {
     "data": {
      "text/html": [
       "<div>\n",
       "<style scoped>\n",
       "    .dataframe tbody tr th:only-of-type {\n",
       "        vertical-align: middle;\n",
       "    }\n",
       "\n",
       "    .dataframe tbody tr th {\n",
       "        vertical-align: top;\n",
       "    }\n",
       "\n",
       "    .dataframe thead th {\n",
       "        text-align: right;\n",
       "    }\n",
       "</style>\n",
       "<table border=\"1\" class=\"dataframe\">\n",
       "  <thead>\n",
       "    <tr style=\"text-align: right;\">\n",
       "      <th></th>\n",
       "      <th>Survived</th>\n",
       "      <th>Pclass</th>\n",
       "      <th>Name</th>\n",
       "      <th>Sex</th>\n",
       "      <th>Age</th>\n",
       "      <th>SibSp</th>\n",
       "      <th>Parch</th>\n",
       "      <th>Ticket</th>\n",
       "      <th>Fare</th>\n",
       "      <th>Embarked</th>\n",
       "    </tr>\n",
       "  </thead>\n",
       "  <tbody>\n",
       "    <tr>\n",
       "      <th>61</th>\n",
       "      <td>1.0</td>\n",
       "      <td>1</td>\n",
       "      <td>Icard, Miss. Amelie</td>\n",
       "      <td>female</td>\n",
       "      <td>38.0</td>\n",
       "      <td>0</td>\n",
       "      <td>0</td>\n",
       "      <td>113572</td>\n",
       "      <td>80.0</td>\n",
       "      <td>NaN</td>\n",
       "    </tr>\n",
       "    <tr>\n",
       "      <th>829</th>\n",
       "      <td>1.0</td>\n",
       "      <td>1</td>\n",
       "      <td>Stone, Mrs. George Nelson (Martha Evelyn)</td>\n",
       "      <td>female</td>\n",
       "      <td>62.0</td>\n",
       "      <td>0</td>\n",
       "      <td>0</td>\n",
       "      <td>113572</td>\n",
       "      <td>80.0</td>\n",
       "      <td>NaN</td>\n",
       "    </tr>\n",
       "  </tbody>\n",
       "</table>\n",
       "</div>"
      ],
      "text/plain": [
       "     Survived  Pclass                                       Name     Sex  \\\n",
       "61        1.0       1                        Icard, Miss. Amelie  female   \n",
       "829       1.0       1  Stone, Mrs. George Nelson (Martha Evelyn)  female   \n",
       "\n",
       "      Age  SibSp  Parch  Ticket  Fare Embarked  \n",
       "61   38.0      0      0  113572  80.0      NaN  \n",
       "829  62.0      0      0  113572  80.0      NaN  "
      ]
     },
     "execution_count": 26,
     "metadata": {},
     "output_type": "execute_result"
    }
   ],
   "source": [
    "df[df['Embarked'].isnull()]"
   ]
  },
  {
   "cell_type": "code",
   "execution_count": 27,
   "id": "6dc2d8dc",
   "metadata": {
    "execution": {
     "iopub.execute_input": "2021-11-05T11:44:57.542700Z",
     "iopub.status.busy": "2021-11-05T11:44:57.541982Z",
     "iopub.status.idle": "2021-11-05T11:44:57.544639Z",
     "shell.execute_reply": "2021-11-05T11:44:57.545120Z",
     "shell.execute_reply.started": "2021-11-05T11:37:53.465549Z"
    },
    "papermill": {
     "duration": 0.119483,
     "end_time": "2021-11-05T11:44:57.545284",
     "exception": false,
     "start_time": "2021-11-05T11:44:57.425801",
     "status": "completed"
    },
    "tags": []
   },
   "outputs": [
    {
     "data": {
      "text/plain": [
       "S    914\n",
       "C    270\n",
       "Q    123\n",
       "Name: Embarked, dtype: int64"
      ]
     },
     "execution_count": 27,
     "metadata": {},
     "output_type": "execute_result"
    }
   ],
   "source": [
    "df['Embarked'].value_counts()"
   ]
  },
  {
   "cell_type": "code",
   "execution_count": 28,
   "id": "e9645edb",
   "metadata": {
    "execution": {
     "iopub.execute_input": "2021-11-05T11:44:57.768204Z",
     "iopub.status.busy": "2021-11-05T11:44:57.767298Z",
     "iopub.status.idle": "2021-11-05T11:44:57.776267Z",
     "shell.execute_reply": "2021-11-05T11:44:57.776795Z",
     "shell.execute_reply.started": "2021-11-05T11:37:53.474622Z"
    },
    "papermill": {
     "duration": 0.121913,
     "end_time": "2021-11-05T11:44:57.776960",
     "exception": false,
     "start_time": "2021-11-05T11:44:57.655047",
     "status": "completed"
    },
    "tags": []
   },
   "outputs": [
    {
     "data": {
      "text/plain": [
       "C    30\n",
       "S    20\n",
       "Name: Embarked, dtype: int64"
      ]
     },
     "execution_count": 28,
     "metadata": {},
     "output_type": "execute_result"
    }
   ],
   "source": [
    "df[ (df['Sex']=='female') & (df['SibSp']==0) &(df['Parch']==0) & (df['Pclass']==1) ]['Embarked'].value_counts()"
   ]
  },
  {
   "cell_type": "code",
   "execution_count": 29,
   "id": "05ee0daa",
   "metadata": {
    "execution": {
     "iopub.execute_input": "2021-11-05T11:44:58.004505Z",
     "iopub.status.busy": "2021-11-05T11:44:58.003821Z",
     "iopub.status.idle": "2021-11-05T11:44:58.009732Z",
     "shell.execute_reply": "2021-11-05T11:44:58.010216Z",
     "shell.execute_reply.started": "2021-11-05T11:37:53.491104Z"
    },
    "papermill": {
     "duration": 0.123759,
     "end_time": "2021-11-05T11:44:58.010405",
     "exception": false,
     "start_time": "2021-11-05T11:44:57.886646",
     "status": "completed"
    },
    "tags": []
   },
   "outputs": [
    {
     "data": {
      "text/plain": [
       "0    S\n",
       "dtype: object"
      ]
     },
     "execution_count": 29,
     "metadata": {},
     "output_type": "execute_result"
    }
   ],
   "source": [
    "df['Embarked'].mode()"
   ]
  },
  {
   "cell_type": "code",
   "execution_count": 30,
   "id": "8298f43b",
   "metadata": {
    "execution": {
     "iopub.execute_input": "2021-11-05T11:44:58.236392Z",
     "iopub.status.busy": "2021-11-05T11:44:58.235725Z",
     "iopub.status.idle": "2021-11-05T11:44:58.240768Z",
     "shell.execute_reply": "2021-11-05T11:44:58.241363Z",
     "shell.execute_reply.started": "2021-11-05T11:37:53.507839Z"
    },
    "papermill": {
     "duration": 0.119777,
     "end_time": "2021-11-05T11:44:58.241537",
     "exception": false,
     "start_time": "2021-11-05T11:44:58.121760",
     "status": "completed"
    },
    "tags": []
   },
   "outputs": [],
   "source": [
    "df['Embarked']=df['Embarked'].fillna(df['Embarked'].mode()[0])"
   ]
  },
  {
   "cell_type": "markdown",
   "id": "05709ad1",
   "metadata": {
    "papermill": {
     "duration": 0.110482,
     "end_time": "2021-11-05T11:44:58.462134",
     "exception": false,
     "start_time": "2021-11-05T11:44:58.351652",
     "status": "completed"
    },
    "tags": []
   },
   "source": [
    "##### Age"
   ]
  },
  {
   "cell_type": "code",
   "execution_count": 31,
   "id": "39c44a28",
   "metadata": {
    "execution": {
     "iopub.execute_input": "2021-11-05T11:44:58.688091Z",
     "iopub.status.busy": "2021-11-05T11:44:58.687468Z",
     "iopub.status.idle": "2021-11-05T11:44:58.695220Z",
     "shell.execute_reply": "2021-11-05T11:44:58.695709Z",
     "shell.execute_reply.started": "2021-11-05T11:37:53.521328Z"
    },
    "papermill": {
     "duration": 0.120581,
     "end_time": "2021-11-05T11:44:58.695869",
     "exception": false,
     "start_time": "2021-11-05T11:44:58.575288",
     "status": "completed"
    },
    "tags": []
   },
   "outputs": [
    {
     "data": {
      "text/plain": [
       "count    1046.000000\n",
       "mean       29.881138\n",
       "std        14.413493\n",
       "min         0.170000\n",
       "25%        21.000000\n",
       "50%        28.000000\n",
       "75%        39.000000\n",
       "max        80.000000\n",
       "Name: Age, dtype: float64"
      ]
     },
     "execution_count": 31,
     "metadata": {},
     "output_type": "execute_result"
    }
   ],
   "source": [
    "df['Age'].describe().T"
   ]
  },
  {
   "cell_type": "code",
   "execution_count": 32,
   "id": "6baab56b",
   "metadata": {
    "execution": {
     "iopub.execute_input": "2021-11-05T11:44:58.943663Z",
     "iopub.status.busy": "2021-11-05T11:44:58.938097Z",
     "iopub.status.idle": "2021-11-05T11:44:59.197382Z",
     "shell.execute_reply": "2021-11-05T11:44:59.196800Z",
     "shell.execute_reply.started": "2021-11-05T11:37:53.538401Z"
    },
    "papermill": {
     "duration": 0.39167,
     "end_time": "2021-11-05T11:44:59.197523",
     "exception": false,
     "start_time": "2021-11-05T11:44:58.805853",
     "status": "completed"
    },
    "tags": []
   },
   "outputs": [
    {
     "data": {
      "text/plain": [
       "<AxesSubplot:xlabel='Age', ylabel='Density'>"
      ]
     },
     "execution_count": 32,
     "metadata": {},
     "output_type": "execute_result"
    },
    {
     "data": {
      "image/png": "[encoded data removed]",
      "text/plain": [
       "<Figure size 432x288 with 1 Axes>"
      ]
     },
     "metadata": {
      "needs_background": "light"
     },
     "output_type": "display_data"
    }
   ],
   "source": [
    "sns.distplot(df['Age'], fit=stats.norm)"
   ]
  },
  {
   "cell_type": "code",
   "execution_count": 33,
   "id": "64ba0171",
   "metadata": {
    "execution": {
     "iopub.execute_input": "2021-11-05T11:44:59.424992Z",
     "iopub.status.busy": "2021-11-05T11:44:59.423983Z",
     "iopub.status.idle": "2021-11-05T11:44:59.429058Z",
     "shell.execute_reply": "2021-11-05T11:44:59.429556Z",
     "shell.execute_reply.started": "2021-11-05T11:37:53.822787Z"
    },
    "papermill": {
     "duration": 0.120462,
     "end_time": "2021-11-05T11:44:59.429721",
     "exception": false,
     "start_time": "2021-11-05T11:44:59.309259",
     "status": "completed"
    },
    "tags": []
   },
   "outputs": [
    {
     "data": {
      "text/plain": [
       "28.0"
      ]
     },
     "execution_count": 33,
     "metadata": {},
     "output_type": "execute_result"
    }
   ],
   "source": [
    "df['Age'].median()"
   ]
  },
  {
   "cell_type": "code",
   "execution_count": 34,
   "id": "14b18ba1",
   "metadata": {
    "execution": {
     "iopub.execute_input": "2021-11-05T11:44:59.688037Z",
     "iopub.status.busy": "2021-11-05T11:44:59.687091Z",
     "iopub.status.idle": "2021-11-05T11:44:59.690031Z",
     "shell.execute_reply": "2021-11-05T11:44:59.690512Z",
     "shell.execute_reply.started": "2021-11-05T11:37:53.832634Z"
    },
    "papermill": {
     "duration": 0.129507,
     "end_time": "2021-11-05T11:44:59.690682",
     "exception": false,
     "start_time": "2021-11-05T11:44:59.561175",
     "status": "completed"
    },
    "tags": []
   },
   "outputs": [],
   "source": [
    "df['Age']=df['Age'].fillna(df.groupby(['Sex'])['Age'].transform('median'))"
   ]
  },
  {
   "cell_type": "markdown",
   "id": "f292b83e",
   "metadata": {
    "papermill": {
     "duration": 0.112316,
     "end_time": "2021-11-05T11:44:59.916097",
     "exception": false,
     "start_time": "2021-11-05T11:44:59.803781",
     "status": "completed"
    },
    "tags": []
   },
   "source": [
    "### Check null data"
   ]
  },
  {
   "cell_type": "code",
   "execution_count": 35,
   "id": "7e1e6d8f",
   "metadata": {
    "execution": {
     "iopub.execute_input": "2021-11-05T11:45:00.146760Z",
     "iopub.status.busy": "2021-11-05T11:45:00.145811Z",
     "iopub.status.idle": "2021-11-05T11:45:00.154035Z",
     "shell.execute_reply": "2021-11-05T11:45:00.154534Z",
     "shell.execute_reply.started": "2021-11-05T11:37:53.843272Z"
    },
    "papermill": {
     "duration": 0.124708,
     "end_time": "2021-11-05T11:45:00.154697",
     "exception": false,
     "start_time": "2021-11-05T11:45:00.029989",
     "status": "completed"
    },
    "tags": []
   },
   "outputs": [
    {
     "data": {
      "text/plain": [
       "Survived    418\n",
       "Pclass        0\n",
       "Name          0\n",
       "Sex           0\n",
       "Age           0\n",
       "SibSp         0\n",
       "Parch         0\n",
       "Ticket        0\n",
       "Fare          0\n",
       "Embarked      0\n",
       "dtype: int64"
      ]
     },
     "execution_count": 35,
     "metadata": {},
     "output_type": "execute_result"
    }
   ],
   "source": [
    "df.isnull().sum()"
   ]
  },
  {
   "cell_type": "markdown",
   "id": "bb1d37e7",
   "metadata": {
    "papermill": {
     "duration": 0.112045,
     "end_time": "2021-11-05T11:45:00.379767",
     "exception": false,
     "start_time": "2021-11-05T11:45:00.267722",
     "status": "completed"
    },
    "tags": []
   },
   "source": [
    "## Correlation"
   ]
  },
  {
   "cell_type": "code",
   "execution_count": 36,
   "id": "b67881f0",
   "metadata": {
    "execution": {
     "iopub.execute_input": "2021-11-05T11:45:00.609156Z",
     "iopub.status.busy": "2021-11-05T11:45:00.608530Z",
     "iopub.status.idle": "2021-11-05T11:45:00.995376Z",
     "shell.execute_reply": "2021-11-05T11:45:00.995924Z",
     "shell.execute_reply.started": "2021-11-05T11:37:53.857823Z"
    },
    "papermill": {
     "duration": 0.503364,
     "end_time": "2021-11-05T11:45:00.996111",
     "exception": false,
     "start_time": "2021-11-05T11:45:00.492747",
     "status": "completed"
    },
    "tags": []
   },
   "outputs": [
    {
     "data": {
      "image/png": "[encoded data removed]",
      "text/plain": [
       "<Figure size 432x288 with 2 Axes>"
      ]
     },
     "metadata": {
      "needs_background": "light"
     },
     "output_type": "display_data"
    }
   ],
   "source": [
    "sns.heatmap(df.corr(), annot = True, fmt = \".2f\")\n",
    "plt.show()"
   ]
  },
  {
   "cell_type": "markdown",
   "id": "65793ef4",
   "metadata": {
    "papermill": {
     "duration": 0.114163,
     "end_time": "2021-11-05T11:45:01.225744",
     "exception": false,
     "start_time": "2021-11-05T11:45:01.111581",
     "status": "completed"
    },
    "tags": []
   },
   "source": [
    "# Feature Engineering"
   ]
  },
  {
   "cell_type": "code",
   "execution_count": 37,
   "id": "1e0159d4",
   "metadata": {
    "execution": {
     "iopub.execute_input": "2021-11-05T11:45:01.455917Z",
     "iopub.status.busy": "2021-11-05T11:45:01.455270Z",
     "iopub.status.idle": "2021-11-05T11:45:01.469855Z",
     "shell.execute_reply": "2021-11-05T11:45:01.470483Z",
     "shell.execute_reply.started": "2021-11-05T11:37:54.254775Z"
    },
    "papermill": {
     "duration": 0.131343,
     "end_time": "2021-11-05T11:45:01.470658",
     "exception": false,
     "start_time": "2021-11-05T11:45:01.339315",
     "status": "completed"
    },
    "tags": []
   },
   "outputs": [
    {
     "data": {
      "text/html": [
       "<div>\n",
       "<style scoped>\n",
       "    .dataframe tbody tr th:only-of-type {\n",
       "        vertical-align: middle;\n",
       "    }\n",
       "\n",
       "    .dataframe tbody tr th {\n",
       "        vertical-align: top;\n",
       "    }\n",
       "\n",
       "    .dataframe thead th {\n",
       "        text-align: right;\n",
       "    }\n",
       "</style>\n",
       "<table border=\"1\" class=\"dataframe\">\n",
       "  <thead>\n",
       "    <tr style=\"text-align: right;\">\n",
       "      <th></th>\n",
       "      <th>Survived</th>\n",
       "      <th>Pclass</th>\n",
       "      <th>Name</th>\n",
       "      <th>Sex</th>\n",
       "      <th>Age</th>\n",
       "      <th>SibSp</th>\n",
       "      <th>Parch</th>\n",
       "      <th>Ticket</th>\n",
       "      <th>Fare</th>\n",
       "      <th>Embarked</th>\n",
       "    </tr>\n",
       "  </thead>\n",
       "  <tbody>\n",
       "    <tr>\n",
       "      <th>0</th>\n",
       "      <td>0.0</td>\n",
       "      <td>3</td>\n",
       "      <td>Braund, Mr. Owen Harris</td>\n",
       "      <td>male</td>\n",
       "      <td>22.0</td>\n",
       "      <td>1</td>\n",
       "      <td>0</td>\n",
       "      <td>A/5 21171</td>\n",
       "      <td>7.2500</td>\n",
       "      <td>S</td>\n",
       "    </tr>\n",
       "    <tr>\n",
       "      <th>1</th>\n",
       "      <td>1.0</td>\n",
       "      <td>1</td>\n",
       "      <td>Cumings, Mrs. John Bradley (Florence Briggs Th...</td>\n",
       "      <td>female</td>\n",
       "      <td>38.0</td>\n",
       "      <td>1</td>\n",
       "      <td>0</td>\n",
       "      <td>PC 17599</td>\n",
       "      <td>71.2833</td>\n",
       "      <td>C</td>\n",
       "    </tr>\n",
       "    <tr>\n",
       "      <th>2</th>\n",
       "      <td>1.0</td>\n",
       "      <td>3</td>\n",
       "      <td>Heikkinen, Miss. Laina</td>\n",
       "      <td>female</td>\n",
       "      <td>26.0</td>\n",
       "      <td>0</td>\n",
       "      <td>0</td>\n",
       "      <td>STON/O2. 3101282</td>\n",
       "      <td>7.9250</td>\n",
       "      <td>S</td>\n",
       "    </tr>\n",
       "    <tr>\n",
       "      <th>3</th>\n",
       "      <td>1.0</td>\n",
       "      <td>1</td>\n",
       "      <td>Futrelle, Mrs. Jacques Heath (Lily May Peel)</td>\n",
       "      <td>female</td>\n",
       "      <td>35.0</td>\n",
       "      <td>1</td>\n",
       "      <td>0</td>\n",
       "      <td>113803</td>\n",
       "      <td>53.1000</td>\n",
       "      <td>S</td>\n",
       "    </tr>\n",
       "    <tr>\n",
       "      <th>4</th>\n",
       "      <td>0.0</td>\n",
       "      <td>3</td>\n",
       "      <td>Allen, Mr. William Henry</td>\n",
       "      <td>male</td>\n",
       "      <td>35.0</td>\n",
       "      <td>0</td>\n",
       "      <td>0</td>\n",
       "      <td>373450</td>\n",
       "      <td>8.0500</td>\n",
       "      <td>S</td>\n",
       "    </tr>\n",
       "  </tbody>\n",
       "</table>\n",
       "</div>"
      ],
      "text/plain": [
       "   Survived  Pclass                                               Name  \\\n",
       "0       0.0       3                            Braund, Mr. Owen Harris   \n",
       "1       1.0       1  Cumings, Mrs. John Bradley (Florence Briggs Th...   \n",
       "2       1.0       3                             Heikkinen, Miss. Laina   \n",
       "3       1.0       1       Futrelle, Mrs. Jacques Heath (Lily May Peel)   \n",
       "4       0.0       3                           Allen, Mr. William Henry   \n",
       "\n",
       "      Sex   Age  SibSp  Parch            Ticket     Fare Embarked  \n",
       "0    male  22.0      1      0         A/5 21171   7.2500        S  \n",
       "1  female  38.0      1      0          PC 17599  71.2833        C  \n",
       "2  female  26.0      0      0  STON/O2. 3101282   7.9250        S  \n",
       "3  female  35.0      1      0            113803  53.1000        S  \n",
       "4    male  35.0      0      0            373450   8.0500        S  "
      ]
     },
     "execution_count": 37,
     "metadata": {},
     "output_type": "execute_result"
    }
   ],
   "source": [
    "df.head()"
   ]
  },
  {
   "cell_type": "code",
   "execution_count": 38,
   "id": "e2e79dd3",
   "metadata": {
    "execution": {
     "iopub.execute_input": "2021-11-05T11:45:01.702404Z",
     "iopub.status.busy": "2021-11-05T11:45:01.701727Z",
     "iopub.status.idle": "2021-11-05T11:45:02.145264Z",
     "shell.execute_reply": "2021-11-05T11:45:02.144729Z",
     "shell.execute_reply.started": "2021-11-05T11:37:54.274008Z"
    },
    "papermill": {
     "duration": 0.560421,
     "end_time": "2021-11-05T11:45:02.145417",
     "exception": false,
     "start_time": "2021-11-05T11:45:01.584996",
     "status": "completed"
    },
    "tags": []
   },
   "outputs": [
    {
     "data": {
      "image/png": "[encoded data removed]",
      "text/plain": [
       "<Figure size 432x432 with 1 Axes>"
      ]
     },
     "metadata": {
      "needs_background": "light"
     },
     "output_type": "display_data"
    }
   ],
   "source": [
    "sns.factorplot(x = \"SibSp\", y = \"Survived\", data = df, kind = \"bar\", size = 6)\n",
    "plt.ylabel(\"Survived Probability\")\n",
    "plt.show()"
   ]
  },
  {
   "cell_type": "code",
   "execution_count": 39,
   "id": "ad890151",
   "metadata": {
    "execution": {
     "iopub.execute_input": "2021-11-05T11:45:02.381467Z",
     "iopub.status.busy": "2021-11-05T11:45:02.380734Z",
     "iopub.status.idle": "2021-11-05T11:45:02.783209Z",
     "shell.execute_reply": "2021-11-05T11:45:02.783787Z",
     "shell.execute_reply.started": "2021-11-05T11:37:54.808125Z"
    },
    "papermill": {
     "duration": 0.521198,
     "end_time": "2021-11-05T11:45:02.783952",
     "exception": false,
     "start_time": "2021-11-05T11:45:02.262754",
     "status": "completed"
    },
    "tags": []
   },
   "outputs": [
    {
     "data": {
      "image/png": "[encoded data removed]",
      "text/plain": [
       "<Figure size 432x432 with 1 Axes>"
      ]
     },
     "metadata": {
      "needs_background": "light"
     },
     "output_type": "display_data"
    }
   ],
   "source": [
    "sns.factorplot(x = \"Parch\", y = \"Survived\", kind = \"bar\", data = df, size = 6)\n",
    "plt.ylabel(\"Survived Probability\")\n",
    "plt.show()"
   ]
  },
  {
   "cell_type": "code",
   "execution_count": 40,
   "id": "c52d1f7c",
   "metadata": {
    "execution": {
     "iopub.execute_input": "2021-11-05T11:45:03.021821Z",
     "iopub.status.busy": "2021-11-05T11:45:03.021060Z",
     "iopub.status.idle": "2021-11-05T11:45:03.309812Z",
     "shell.execute_reply": "2021-11-05T11:45:03.310350Z",
     "shell.execute_reply.started": "2021-11-05T11:37:55.444921Z"
    },
    "papermill": {
     "duration": 0.409893,
     "end_time": "2021-11-05T11:45:03.310539",
     "exception": false,
     "start_time": "2021-11-05T11:45:02.900646",
     "status": "completed"
    },
    "tags": []
   },
   "outputs": [
    {
     "data": {
      "image/png": "[encoded data removed]",
      "text/plain": [
       "<Figure size 432x432 with 1 Axes>"
      ]
     },
     "metadata": {
      "needs_background": "light"
     },
     "output_type": "display_data"
    }
   ],
   "source": [
    "sns.factorplot(x = \"Pclass\", y = \"Survived\", data = df, kind = \"bar\", size = 6)\n",
    "plt.ylabel(\"Survived Probability\")\n",
    "plt.show()"
   ]
  },
  {
   "cell_type": "code",
   "execution_count": 41,
   "id": "c4c0afd1",
   "metadata": {
    "execution": {
     "iopub.execute_input": "2021-11-05T11:45:03.548611Z",
     "iopub.status.busy": "2021-11-05T11:45:03.547985Z",
     "iopub.status.idle": "2021-11-05T11:45:03.999359Z",
     "shell.execute_reply": "2021-11-05T11:45:03.999844Z",
     "shell.execute_reply.started": "2021-11-05T11:37:55.818892Z"
    },
    "papermill": {
     "duration": 0.570865,
     "end_time": "2021-11-05T11:45:04.000018",
     "exception": false,
     "start_time": "2021-11-05T11:45:03.429153",
     "status": "completed"
    },
    "tags": []
   },
   "outputs": [
    {
     "data": {
      "image/png": "[encoded data removed]",
      "text/plain": [
       "<Figure size 432x216 with 2 Axes>"
      ]
     },
     "metadata": {
      "needs_background": "light"
     },
     "output_type": "display_data"
    }
   ],
   "source": [
    "g = sns.FacetGrid(df, col = \"Survived\")\n",
    "g.map(sns.distplot, \"Age\", bins = 25)\n",
    "plt.show()"
   ]
  },
  {
   "cell_type": "code",
   "execution_count": 42,
   "id": "3da37fe7",
   "metadata": {
    "execution": {
     "iopub.execute_input": "2021-11-05T11:45:04.242777Z",
     "iopub.status.busy": "2021-11-05T11:45:04.242136Z",
     "iopub.status.idle": "2021-11-05T11:45:04.459317Z",
     "shell.execute_reply": "2021-11-05T11:45:04.458791Z",
     "shell.execute_reply.started": "2021-11-05T11:37:56.350029Z"
    },
    "papermill": {
     "duration": 0.337603,
     "end_time": "2021-11-05T11:45:04.459507",
     "exception": false,
     "start_time": "2021-11-05T11:45:04.121904",
     "status": "completed"
    },
    "tags": []
   },
   "outputs": [
    {
     "data": {
      "image/png": "[encoded data removed]",
      "text/plain": [
       "<Figure size 360x360 with 1 Axes>"
      ]
     },
     "metadata": {
      "needs_background": "light"
     },
     "output_type": "display_data"
    }
   ],
   "source": [
    "sns.factorplot(x = \"Sex\", y = \"Age\", data = df, kind = \"box\")\n",
    "plt.show()"
   ]
  },
  {
   "cell_type": "code",
   "execution_count": 43,
   "id": "18b7a12c",
   "metadata": {
    "execution": {
     "iopub.execute_input": "2021-11-05T11:45:04.705479Z",
     "iopub.status.busy": "2021-11-05T11:45:04.704472Z",
     "iopub.status.idle": "2021-11-05T11:45:04.986369Z",
     "shell.execute_reply": "2021-11-05T11:45:04.986921Z",
     "shell.execute_reply.started": "2021-11-05T11:37:56.652265Z"
    },
    "papermill": {
     "duration": 0.406554,
     "end_time": "2021-11-05T11:45:04.987086",
     "exception": false,
     "start_time": "2021-11-05T11:45:04.580532",
     "status": "completed"
    },
    "tags": []
   },
   "outputs": [
    {
     "data": {
      "text/plain": [
       "<AxesSubplot:xlabel='Parch', ylabel='count'>"
      ]
     },
     "execution_count": 43,
     "metadata": {},
     "output_type": "execute_result"
    },
    {
     "data": {
      "image/png": "[encoded data removed]",
      "text/plain": [
       "<Figure size 432x288 with 1 Axes>"
      ]
     },
     "metadata": {
      "needs_background": "light"
     },
     "output_type": "display_data"
    }
   ],
   "source": [
    "sns.countplot(x='Parch', data=df, order=df['Parch'].value_counts().index, hue='Survived')"
   ]
  },
  {
   "cell_type": "markdown",
   "id": "4b070ed8",
   "metadata": {
    "papermill": {
     "duration": 0.118928,
     "end_time": "2021-11-05T11:45:05.227467",
     "exception": false,
     "start_time": "2021-11-05T11:45:05.108539",
     "status": "completed"
    },
    "tags": []
   },
   "source": [
    "##### Ticket"
   ]
  },
  {
   "cell_type": "code",
   "execution_count": 44,
   "id": "38a6a257",
   "metadata": {
    "execution": {
     "iopub.execute_input": "2021-11-05T11:45:05.469780Z",
     "iopub.status.busy": "2021-11-05T11:45:05.469037Z",
     "iopub.status.idle": "2021-11-05T11:45:05.475182Z",
     "shell.execute_reply": "2021-11-05T11:45:05.474650Z",
     "shell.execute_reply.started": "2021-11-05T11:37:56.954424Z"
    },
    "papermill": {
     "duration": 0.128185,
     "end_time": "2021-11-05T11:45:05.475318",
     "exception": false,
     "start_time": "2021-11-05T11:45:05.347133",
     "status": "completed"
    },
    "tags": []
   },
   "outputs": [],
   "source": [
    "df['Ticket']=df.Ticket.apply(lambda x : len(x))"
   ]
  },
  {
   "cell_type": "markdown",
   "id": "bdb52da3",
   "metadata": {
    "papermill": {
     "duration": 0.118482,
     "end_time": "2021-11-05T11:45:05.716112",
     "exception": false,
     "start_time": "2021-11-05T11:45:05.597630",
     "status": "completed"
    },
    "tags": []
   },
   "source": [
    "##### Family size"
   ]
  },
  {
   "cell_type": "code",
   "execution_count": 45,
   "id": "cfde9c60",
   "metadata": {
    "execution": {
     "iopub.execute_input": "2021-11-05T11:45:05.962274Z",
     "iopub.status.busy": "2021-11-05T11:45:05.961608Z",
     "iopub.status.idle": "2021-11-05T11:45:05.964484Z",
     "shell.execute_reply": "2021-11-05T11:45:05.964938Z",
     "shell.execute_reply.started": "2021-11-05T11:37:56.961753Z"
    },
    "papermill": {
     "duration": 0.12967,
     "end_time": "2021-11-05T11:45:05.965128",
     "exception": false,
     "start_time": "2021-11-05T11:45:05.835458",
     "status": "completed"
    },
    "tags": []
   },
   "outputs": [],
   "source": [
    "df['FamilySize']=df.SibSp+df.Parch+1"
   ]
  },
  {
   "cell_type": "code",
   "execution_count": 46,
   "id": "a881f4cf",
   "metadata": {
    "execution": {
     "iopub.execute_input": "2021-11-05T11:45:06.209997Z",
     "iopub.status.busy": "2021-11-05T11:45:06.208839Z",
     "iopub.status.idle": "2021-11-05T11:45:06.770784Z",
     "shell.execute_reply": "2021-11-05T11:45:06.771233Z",
     "shell.execute_reply.started": "2021-11-05T11:37:56.975476Z"
    },
    "papermill": {
     "duration": 0.684824,
     "end_time": "2021-11-05T11:45:06.771421",
     "exception": false,
     "start_time": "2021-11-05T11:45:06.086597",
     "status": "completed"
    },
    "tags": []
   },
   "outputs": [
    {
     "data": {
      "image/png": "[encoded data removed]",
      "text/plain": [
       "<Figure size 360x360 with 1 Axes>"
      ]
     },
     "metadata": {
      "needs_background": "light"
     },
     "output_type": "display_data"
    }
   ],
   "source": [
    "sns.factorplot(x = \"FamilySize\", y = \"Survived\", data =df, kind = \"bar\")\n",
    "plt.ylabel(\"Survival\")\n",
    "plt.show()"
   ]
  },
  {
   "cell_type": "code",
   "execution_count": 47,
   "id": "98164191",
   "metadata": {
    "execution": {
     "iopub.execute_input": "2021-11-05T11:45:07.015231Z",
     "iopub.status.busy": "2021-11-05T11:45:07.014195Z",
     "iopub.status.idle": "2021-11-05T11:45:07.018490Z",
     "shell.execute_reply": "2021-11-05T11:45:07.019098Z",
     "shell.execute_reply.started": "2021-11-05T11:37:57.560616Z"
    },
    "papermill": {
     "duration": 0.128301,
     "end_time": "2021-11-05T11:45:07.019266",
     "exception": false,
     "start_time": "2021-11-05T11:45:06.890965",
     "status": "completed"
    },
    "tags": []
   },
   "outputs": [],
   "source": [
    "family={1: 'Alone', 2: 'Small', 3: 'Small', 4: 'Small', 5: 'Medium', 6: 'Medium', 7: 'Large', 8: 'Large', 11: 'Large'}"
   ]
  },
  {
   "cell_type": "code",
   "execution_count": 48,
   "id": "d2d4cd78",
   "metadata": {
    "execution": {
     "iopub.execute_input": "2021-11-05T11:45:07.262080Z",
     "iopub.status.busy": "2021-11-05T11:45:07.261458Z",
     "iopub.status.idle": "2021-11-05T11:45:07.266449Z",
     "shell.execute_reply": "2021-11-05T11:45:07.267012Z",
     "shell.execute_reply.started": "2021-11-05T11:37:57.567076Z"
    },
    "papermill": {
     "duration": 0.127966,
     "end_time": "2021-11-05T11:45:07.267178",
     "exception": false,
     "start_time": "2021-11-05T11:45:07.139212",
     "status": "completed"
    },
    "tags": []
   },
   "outputs": [],
   "source": [
    "df['Family_Size_Grouped']=df['FamilySize'].map(family)"
   ]
  },
  {
   "cell_type": "code",
   "execution_count": 49,
   "id": "f592705e",
   "metadata": {
    "execution": {
     "iopub.execute_input": "2021-11-05T11:45:07.509093Z",
     "iopub.status.busy": "2021-11-05T11:45:07.508470Z",
     "iopub.status.idle": "2021-11-05T11:45:07.835734Z",
     "shell.execute_reply": "2021-11-05T11:45:07.836235Z",
     "shell.execute_reply.started": "2021-11-05T11:37:57.581784Z"
    },
    "papermill": {
     "duration": 0.449731,
     "end_time": "2021-11-05T11:45:07.836424",
     "exception": false,
     "start_time": "2021-11-05T11:45:07.386693",
     "status": "completed"
    },
    "tags": []
   },
   "outputs": [
    {
     "data": {
      "image/png": "[encoded data removed]",
      "text/plain": [
       "<Figure size 432x288 with 1 Axes>"
      ]
     },
     "metadata": {
      "needs_background": "light"
     },
     "output_type": "display_data"
    }
   ],
   "source": [
    "sns.countplot(x = \"Family_Size_Grouped\", data = df)\n",
    "plt.show()"
   ]
  },
  {
   "cell_type": "code",
   "execution_count": 50,
   "id": "3faa104f",
   "metadata": {
    "execution": {
     "iopub.execute_input": "2021-11-05T11:45:08.088745Z",
     "iopub.status.busy": "2021-11-05T11:45:08.087721Z",
     "iopub.status.idle": "2021-11-05T11:45:08.476005Z",
     "shell.execute_reply": "2021-11-05T11:45:08.476567Z",
     "shell.execute_reply.started": "2021-11-05T11:37:57.793890Z"
    },
    "papermill": {
     "duration": 0.518853,
     "end_time": "2021-11-05T11:45:08.476749",
     "exception": false,
     "start_time": "2021-11-05T11:45:07.957896",
     "status": "completed"
    },
    "tags": []
   },
   "outputs": [
    {
     "data": {
      "image/png": "[encoded data removed]",
      "text/plain": [
       "<Figure size 360x360 with 1 Axes>"
      ]
     },
     "metadata": {
      "needs_background": "light"
     },
     "output_type": "display_data"
    }
   ],
   "source": [
    "sns.factorplot(x = \"Family_Size_Grouped\", y = \"Survived\", data = df, kind = \"bar\")\n",
    "plt.ylabel(\"Survival\")\n",
    "plt.show()"
   ]
  },
  {
   "cell_type": "markdown",
   "id": "4df88d5c",
   "metadata": {
    "papermill": {
     "duration": 0.119636,
     "end_time": "2021-11-05T11:45:08.716159",
     "exception": false,
     "start_time": "2021-11-05T11:45:08.596523",
     "status": "completed"
    },
    "tags": []
   },
   "source": [
    "##### Title"
   ]
  },
  {
   "cell_type": "code",
   "execution_count": 51,
   "id": "3881c5c6",
   "metadata": {
    "execution": {
     "iopub.execute_input": "2021-11-05T11:45:08.960631Z",
     "iopub.status.busy": "2021-11-05T11:45:08.959637Z",
     "iopub.status.idle": "2021-11-05T11:45:08.966751Z",
     "shell.execute_reply": "2021-11-05T11:45:08.967199Z",
     "shell.execute_reply.started": "2021-11-05T11:37:58.236423Z"
    },
    "papermill": {
     "duration": 0.131137,
     "end_time": "2021-11-05T11:45:08.967402",
     "exception": false,
     "start_time": "2021-11-05T11:45:08.836265",
     "status": "completed"
    },
    "tags": []
   },
   "outputs": [
    {
     "data": {
      "text/plain": [
       "0                                Braund, Mr. Owen Harris\n",
       "1      Cumings, Mrs. John Bradley (Florence Briggs Th...\n",
       "2                                 Heikkinen, Miss. Laina\n",
       "3           Futrelle, Mrs. Jacques Heath (Lily May Peel)\n",
       "4                               Allen, Mr. William Henry\n",
       "                             ...                        \n",
       "413                                   Spector, Mr. Woolf\n",
       "414                         Oliva y Ocana, Dona. Fermina\n",
       "415                         Saether, Mr. Simon Sivertsen\n",
       "416                                  Ware, Mr. Frederick\n",
       "417                             Peter, Master. Michael J\n",
       "Name: Name, Length: 1309, dtype: object"
      ]
     },
     "execution_count": 51,
     "metadata": {},
     "output_type": "execute_result"
    }
   ],
   "source": [
    "df['Name']"
   ]
  },
  {
   "cell_type": "code",
   "execution_count": 52,
   "id": "a0c60acd",
   "metadata": {
    "execution": {
     "iopub.execute_input": "2021-11-05T11:45:09.213984Z",
     "iopub.status.busy": "2021-11-05T11:45:09.212994Z",
     "iopub.status.idle": "2021-11-05T11:45:09.222150Z",
     "shell.execute_reply": "2021-11-05T11:45:09.222628Z",
     "shell.execute_reply.started": "2021-11-05T11:37:58.247352Z"
    },
    "papermill": {
     "duration": 0.133357,
     "end_time": "2021-11-05T11:45:09.222804",
     "exception": false,
     "start_time": "2021-11-05T11:45:09.089447",
     "status": "completed"
    },
    "tags": []
   },
   "outputs": [
    {
     "data": {
      "text/plain": [
       "0          Mr\n",
       "1         Mrs\n",
       "2        Miss\n",
       "3         Mrs\n",
       "4          Mr\n",
       "        ...  \n",
       "413        Mr\n",
       "414      Dona\n",
       "415        Mr\n",
       "416        Mr\n",
       "417    Master\n",
       "Name: Name, Length: 1309, dtype: object"
      ]
     },
     "execution_count": 52,
     "metadata": {},
     "output_type": "execute_result"
    }
   ],
   "source": [
    "df['Name'].apply( lambda x: x.split(', ')[1].split('.')[0] )"
   ]
  },
  {
   "cell_type": "code",
   "execution_count": 53,
   "id": "7806aeb9",
   "metadata": {
    "execution": {
     "iopub.execute_input": "2021-11-05T11:45:09.471813Z",
     "iopub.status.busy": "2021-11-05T11:45:09.470812Z",
     "iopub.status.idle": "2021-11-05T11:45:09.477248Z",
     "shell.execute_reply": "2021-11-05T11:45:09.477815Z",
     "shell.execute_reply.started": "2021-11-05T11:37:58.266178Z"
    },
    "papermill": {
     "duration": 0.131053,
     "end_time": "2021-11-05T11:45:09.478000",
     "exception": false,
     "start_time": "2021-11-05T11:45:09.346947",
     "status": "completed"
    },
    "tags": []
   },
   "outputs": [],
   "source": [
    "#df.Name.apply(lambda x: x.split('.')[0].split(',')[1].strip())\n",
    "df['Title']=df['Name'].apply( lambda x: x.split(', ')[1].split('.')[0] )"
   ]
  },
  {
   "cell_type": "code",
   "execution_count": 54,
   "id": "108044de",
   "metadata": {
    "execution": {
     "iopub.execute_input": "2021-11-05T11:45:09.730911Z",
     "iopub.status.busy": "2021-11-05T11:45:09.730155Z",
     "iopub.status.idle": "2021-11-05T11:45:09.732850Z",
     "shell.execute_reply": "2021-11-05T11:45:09.733350Z",
     "shell.execute_reply.started": "2021-11-05T11:37:58.276574Z"
    },
    "papermill": {
     "duration": 0.132025,
     "end_time": "2021-11-05T11:45:09.733524",
     "exception": false,
     "start_time": "2021-11-05T11:45:09.601499",
     "status": "completed"
    },
    "tags": []
   },
   "outputs": [
    {
     "data": {
      "text/plain": [
       "Mr              757\n",
       "Miss            260\n",
       "Mrs             197\n",
       "Master           61\n",
       "Rev               8\n",
       "Dr                8\n",
       "Col               4\n",
       "Mlle              2\n",
       "Major             2\n",
       "Ms                2\n",
       "Lady              1\n",
       "Sir               1\n",
       "Mme               1\n",
       "Don               1\n",
       "Capt              1\n",
       "the Countess      1\n",
       "Jonkheer          1\n",
       "Dona              1\n",
       "Name: Title, dtype: int64"
      ]
     },
     "execution_count": 54,
     "metadata": {},
     "output_type": "execute_result"
    }
   ],
   "source": [
    "df['Title'].value_counts()"
   ]
  },
  {
   "cell_type": "code",
   "execution_count": 55,
   "id": "4ddee87d",
   "metadata": {
    "execution": {
     "iopub.execute_input": "2021-11-05T11:45:09.980161Z",
     "iopub.status.busy": "2021-11-05T11:45:09.979540Z",
     "iopub.status.idle": "2021-11-05T11:45:09.983562Z",
     "shell.execute_reply": "2021-11-05T11:45:09.983019Z",
     "shell.execute_reply.started": "2021-11-05T11:37:58.292885Z"
    },
    "papermill": {
     "duration": 0.128328,
     "end_time": "2021-11-05T11:45:09.983719",
     "exception": false,
     "start_time": "2021-11-05T11:45:09.855391",
     "status": "completed"
    },
    "tags": []
   },
   "outputs": [],
   "source": [
    "titles=['Mr', 'Miss', 'Mrs', 'Master']"
   ]
  },
  {
   "cell_type": "code",
   "execution_count": 56,
   "id": "9e76997c",
   "metadata": {
    "execution": {
     "iopub.execute_input": "2021-11-05T11:45:10.234734Z",
     "iopub.status.busy": "2021-11-05T11:45:10.233846Z",
     "iopub.status.idle": "2021-11-05T11:45:10.236817Z",
     "shell.execute_reply": "2021-11-05T11:45:10.236134Z",
     "shell.execute_reply.started": "2021-11-05T11:37:58.301658Z"
    },
    "papermill": {
     "duration": 0.130551,
     "end_time": "2021-11-05T11:45:10.237048",
     "exception": false,
     "start_time": "2021-11-05T11:45:10.106497",
     "status": "completed"
    },
    "tags": []
   },
   "outputs": [],
   "source": [
    "df['Title']=df['Title'].apply(lambda x: x if x in titles else 'Other')"
   ]
  },
  {
   "cell_type": "code",
   "execution_count": 57,
   "id": "e81e88a8",
   "metadata": {
    "execution": {
     "iopub.execute_input": "2021-11-05T11:45:10.489632Z",
     "iopub.status.busy": "2021-11-05T11:45:10.488538Z",
     "iopub.status.idle": "2021-11-05T11:45:10.495068Z",
     "shell.execute_reply": "2021-11-05T11:45:10.496118Z",
     "shell.execute_reply.started": "2021-11-05T11:37:58.315117Z"
    },
    "papermill": {
     "duration": 0.136587,
     "end_time": "2021-11-05T11:45:10.496383",
     "exception": false,
     "start_time": "2021-11-05T11:45:10.359796",
     "status": "completed"
    },
    "tags": []
   },
   "outputs": [
    {
     "data": {
      "text/plain": [
       "Mr        757\n",
       "Miss      260\n",
       "Mrs       197\n",
       "Master     61\n",
       "Other      34\n",
       "Name: Title, dtype: int64"
      ]
     },
     "execution_count": 57,
     "metadata": {},
     "output_type": "execute_result"
    }
   ],
   "source": [
    "df['Title'].value_counts()"
   ]
  },
  {
   "cell_type": "code",
   "execution_count": 58,
   "id": "8462545b",
   "metadata": {
    "execution": {
     "iopub.execute_input": "2021-11-05T11:45:10.772403Z",
     "iopub.status.busy": "2021-11-05T11:45:10.771738Z",
     "iopub.status.idle": "2021-11-05T11:45:10.961716Z",
     "shell.execute_reply": "2021-11-05T11:45:10.960884Z",
     "shell.execute_reply.started": "2021-11-05T11:37:58.334548Z"
    },
    "papermill": {
     "duration": 0.318272,
     "end_time": "2021-11-05T11:45:10.961872",
     "exception": false,
     "start_time": "2021-11-05T11:45:10.643600",
     "status": "completed"
    },
    "tags": []
   },
   "outputs": [
    {
     "data": {
      "image/png": "[encoded data removed]",
      "text/plain": [
       "<Figure size 432x288 with 1 Axes>"
      ]
     },
     "metadata": {
      "needs_background": "light"
     },
     "output_type": "display_data"
    }
   ],
   "source": [
    "sns.countplot(x=\"Title\", data = df)\n",
    "plt.xticks(rotation = 60)\n",
    "plt.show()"
   ]
  },
  {
   "cell_type": "code",
   "execution_count": 59,
   "id": "cb8b5b80",
   "metadata": {
    "execution": {
     "iopub.execute_input": "2021-11-05T11:45:11.219205Z",
     "iopub.status.busy": "2021-11-05T11:45:11.218535Z",
     "iopub.status.idle": "2021-11-05T11:45:11.437533Z",
     "shell.execute_reply": "2021-11-05T11:45:11.436961Z",
     "shell.execute_reply.started": "2021-11-05T11:37:58.544058Z"
    },
    "papermill": {
     "duration": 0.350104,
     "end_time": "2021-11-05T11:45:11.437686",
     "exception": false,
     "start_time": "2021-11-05T11:45:11.087582",
     "status": "completed"
    },
    "tags": []
   },
   "outputs": [
    {
     "data": {
      "image/png": "[encoded data removed]",
      "text/plain": [
       "<Figure size 432x288 with 1 Axes>"
      ]
     },
     "metadata": {
      "needs_background": "light"
     },
     "output_type": "display_data"
    }
   ],
   "source": [
    "sns.countplot(x=\"Title\", data = df, hue='Survived')\n",
    "plt.xticks(rotation = 60)\n",
    "plt.show()"
   ]
  },
  {
   "cell_type": "markdown",
   "id": "9a6dd730",
   "metadata": {
    "papermill": {
     "duration": 0.123095,
     "end_time": "2021-11-05T11:45:11.685854",
     "exception": false,
     "start_time": "2021-11-05T11:45:11.562759",
     "status": "completed"
    },
    "tags": []
   },
   "source": [
    "##### Last name"
   ]
  },
  {
   "cell_type": "code",
   "execution_count": 60,
   "id": "7cab0afb",
   "metadata": {
    "execution": {
     "iopub.execute_input": "2021-11-05T11:45:11.941896Z",
     "iopub.status.busy": "2021-11-05T11:45:11.941193Z",
     "iopub.status.idle": "2021-11-05T11:45:11.943043Z",
     "shell.execute_reply": "2021-11-05T11:45:11.943662Z",
     "shell.execute_reply.started": "2021-11-05T11:37:58.778018Z"
    },
    "papermill": {
     "duration": 0.133787,
     "end_time": "2021-11-05T11:45:11.943835",
     "exception": false,
     "start_time": "2021-11-05T11:45:11.810048",
     "status": "completed"
    },
    "tags": []
   },
   "outputs": [],
   "source": [
    "df['Last_Name']=df.Name.apply(lambda x: x.split(',')[0].strip())"
   ]
  },
  {
   "cell_type": "markdown",
   "id": "b9151257",
   "metadata": {
    "papermill": {
     "duration": 0.143021,
     "end_time": "2021-11-05T11:45:12.222588",
     "exception": false,
     "start_time": "2021-11-05T11:45:12.079567",
     "status": "completed"
    },
    "tags": []
   },
   "source": [
    "##### Married"
   ]
  },
  {
   "cell_type": "code",
   "execution_count": 61,
   "id": "e8a0ef1e",
   "metadata": {
    "execution": {
     "iopub.execute_input": "2021-11-05T11:45:12.499734Z",
     "iopub.status.busy": "2021-11-05T11:45:12.498807Z",
     "iopub.status.idle": "2021-11-05T11:45:12.501151Z",
     "shell.execute_reply": "2021-11-05T11:45:12.501777Z",
     "shell.execute_reply.started": "2021-11-05T11:37:58.788968Z"
    },
    "papermill": {
     "duration": 0.137657,
     "end_time": "2021-11-05T11:45:12.501948",
     "exception": false,
     "start_time": "2021-11-05T11:45:12.364291",
     "status": "completed"
    },
    "tags": []
   },
   "outputs": [],
   "source": [
    "df['IsMarried']=df['Title'].apply(lambda x: 1 if x=='Mrs' else 0)"
   ]
  },
  {
   "cell_type": "code",
   "execution_count": 62,
   "id": "8b18a29b",
   "metadata": {
    "execution": {
     "iopub.execute_input": "2021-11-05T11:45:12.755923Z",
     "iopub.status.busy": "2021-11-05T11:45:12.754927Z",
     "iopub.status.idle": "2021-11-05T11:45:12.917299Z",
     "shell.execute_reply": "2021-11-05T11:45:12.917944Z",
     "shell.execute_reply.started": "2021-11-05T11:37:58.804997Z"
    },
    "papermill": {
     "duration": 0.291822,
     "end_time": "2021-11-05T11:45:12.918127",
     "exception": false,
     "start_time": "2021-11-05T11:45:12.626305",
     "status": "completed"
    },
    "tags": []
   },
   "outputs": [
    {
     "data": {
      "image/png": "[encoded data removed]",
      "text/plain": [
       "<Figure size 432x288 with 1 Axes>"
      ]
     },
     "metadata": {
      "needs_background": "light"
     },
     "output_type": "display_data"
    }
   ],
   "source": [
    "sns.countplot(x=\"IsMarried\", data = df)\n",
    "plt.xticks(rotation = 60)\n",
    "plt.show()"
   ]
  },
  {
   "cell_type": "code",
   "execution_count": 63,
   "id": "6a9bdc87",
   "metadata": {
    "execution": {
     "iopub.execute_input": "2021-11-05T11:45:13.176149Z",
     "iopub.status.busy": "2021-11-05T11:45:13.175117Z",
     "iopub.status.idle": "2021-11-05T11:45:13.362785Z",
     "shell.execute_reply": "2021-11-05T11:45:13.362175Z",
     "shell.execute_reply.started": "2021-11-05T11:37:58.977960Z"
    },
    "papermill": {
     "duration": 0.319959,
     "end_time": "2021-11-05T11:45:13.362930",
     "exception": false,
     "start_time": "2021-11-05T11:45:13.042971",
     "status": "completed"
    },
    "tags": []
   },
   "outputs": [
    {
     "data": {
      "image/png": "[encoded data removed]",
      "text/plain": [
       "<Figure size 432x288 with 1 Axes>"
      ]
     },
     "metadata": {
      "needs_background": "light"
     },
     "output_type": "display_data"
    }
   ],
   "source": [
    "sns.countplot(x=\"IsMarried\", data = df, hue='Survived')\n",
    "plt.xticks(rotation = 60)\n",
    "plt.show()"
   ]
  },
  {
   "cell_type": "markdown",
   "id": "356a7eef",
   "metadata": {
    "papermill": {
     "duration": 0.124658,
     "end_time": "2021-11-05T11:45:13.612980",
     "exception": false,
     "start_time": "2021-11-05T11:45:13.488322",
     "status": "completed"
    },
    "tags": []
   },
   "source": [
    "##### Alone"
   ]
  },
  {
   "cell_type": "code",
   "execution_count": 64,
   "id": "9c46b7d8",
   "metadata": {
    "execution": {
     "iopub.execute_input": "2021-11-05T11:45:13.867597Z",
     "iopub.status.busy": "2021-11-05T11:45:13.866357Z",
     "iopub.status.idle": "2021-11-05T11:45:13.873103Z",
     "shell.execute_reply": "2021-11-05T11:45:13.873685Z",
     "shell.execute_reply.started": "2021-11-05T11:37:59.182161Z"
    },
    "papermill": {
     "duration": 0.135764,
     "end_time": "2021-11-05T11:45:13.873859",
     "exception": false,
     "start_time": "2021-11-05T11:45:13.738095",
     "status": "completed"
    },
    "tags": []
   },
   "outputs": [],
   "source": [
    "df['IsAlone']=df['FamilySize'].apply(lambda x: 1 if x==1 else 0)"
   ]
  },
  {
   "cell_type": "code",
   "execution_count": 65,
   "id": "135292fb",
   "metadata": {
    "execution": {
     "iopub.execute_input": "2021-11-05T11:45:14.131019Z",
     "iopub.status.busy": "2021-11-05T11:45:14.130028Z",
     "iopub.status.idle": "2021-11-05T11:45:14.301042Z",
     "shell.execute_reply": "2021-11-05T11:45:14.301658Z",
     "shell.execute_reply.started": "2021-11-05T11:37:59.190687Z"
    },
    "papermill": {
     "duration": 0.302796,
     "end_time": "2021-11-05T11:45:14.301855",
     "exception": false,
     "start_time": "2021-11-05T11:45:13.999059",
     "status": "completed"
    },
    "tags": []
   },
   "outputs": [
    {
     "data": {
      "image/png": "[encoded data removed]",
      "text/plain": [
       "<Figure size 432x288 with 1 Axes>"
      ]
     },
     "metadata": {
      "needs_background": "light"
     },
     "output_type": "display_data"
    }
   ],
   "source": [
    "sns.countplot(x=\"IsAlone\", data = df)\n",
    "plt.xticks(rotation = 60)\n",
    "plt.show()"
   ]
  },
  {
   "cell_type": "code",
   "execution_count": 66,
   "id": "69eed96e",
   "metadata": {
    "execution": {
     "iopub.execute_input": "2021-11-05T11:45:14.558277Z",
     "iopub.status.busy": "2021-11-05T11:45:14.557302Z",
     "iopub.status.idle": "2021-11-05T11:45:14.757696Z",
     "shell.execute_reply": "2021-11-05T11:45:14.757115Z",
     "shell.execute_reply.started": "2021-11-05T11:37:59.383796Z"
    },
    "papermill": {
     "duration": 0.330256,
     "end_time": "2021-11-05T11:45:14.757842",
     "exception": false,
     "start_time": "2021-11-05T11:45:14.427586",
     "status": "completed"
    },
    "tags": []
   },
   "outputs": [
    {
     "data": {
      "image/png": "[encoded data removed]",
      "text/plain": [
       "<Figure size 432x288 with 1 Axes>"
      ]
     },
     "metadata": {
      "needs_background": "light"
     },
     "output_type": "display_data"
    }
   ],
   "source": [
    "sns.countplot(x=\"IsAlone\", data = df, hue='Survived')\n",
    "plt.xticks(rotation = 60)\n",
    "plt.show()"
   ]
  },
  {
   "cell_type": "markdown",
   "id": "148eb908",
   "metadata": {
    "papermill": {
     "duration": 0.125998,
     "end_time": "2021-11-05T11:45:15.012274",
     "exception": false,
     "start_time": "2021-11-05T11:45:14.886276",
     "status": "completed"
    },
    "tags": []
   },
   "source": [
    "##### Woman or boy"
   ]
  },
  {
   "cell_type": "markdown",
   "id": "2bc0901a",
   "metadata": {
    "papermill": {
     "duration": 0.125503,
     "end_time": "2021-11-05T11:45:15.264212",
     "exception": false,
     "start_time": "2021-11-05T11:45:15.138709",
     "status": "completed"
    },
    "tags": []
   },
   "source": [
    "Master is a title for an underage male. If a person is under 18, master would be used.\n",
    "Once a person turns 18 and enters adulthood, mister would be used."
   ]
  },
  {
   "cell_type": "code",
   "execution_count": 67,
   "id": "5d638877",
   "metadata": {
    "execution": {
     "iopub.execute_input": "2021-11-05T11:45:15.524620Z",
     "iopub.status.busy": "2021-11-05T11:45:15.523680Z",
     "iopub.status.idle": "2021-11-05T11:45:15.526001Z",
     "shell.execute_reply": "2021-11-05T11:45:15.526621Z",
     "shell.execute_reply.started": "2021-11-05T11:37:59.596532Z"
    },
    "papermill": {
     "duration": 0.13599,
     "end_time": "2021-11-05T11:45:15.526786",
     "exception": false,
     "start_time": "2021-11-05T11:45:15.390796",
     "status": "completed"
    },
    "tags": []
   },
   "outputs": [],
   "source": [
    "df['Woman_or_Boy'] = np.where( (df['Title']=='Master') | (df['Sex']=='female'), 1, 0 )"
   ]
  },
  {
   "cell_type": "code",
   "execution_count": 68,
   "id": "c51bff5d",
   "metadata": {
    "execution": {
     "iopub.execute_input": "2021-11-05T11:45:15.784002Z",
     "iopub.status.busy": "2021-11-05T11:45:15.782951Z",
     "iopub.status.idle": "2021-11-05T11:45:15.956789Z",
     "shell.execute_reply": "2021-11-05T11:45:15.957234Z",
     "shell.execute_reply.started": "2021-11-05T11:37:59.607116Z"
    },
    "papermill": {
     "duration": 0.303759,
     "end_time": "2021-11-05T11:45:15.957419",
     "exception": false,
     "start_time": "2021-11-05T11:45:15.653660",
     "status": "completed"
    },
    "tags": []
   },
   "outputs": [
    {
     "data": {
      "image/png": "[encoded data removed]",
      "text/plain": [
       "<Figure size 432x288 with 1 Axes>"
      ]
     },
     "metadata": {
      "needs_background": "light"
     },
     "output_type": "display_data"
    }
   ],
   "source": [
    "sns.countplot(x=\"Woman_or_Boy\", data = df)\n",
    "plt.xticks(rotation = 60)\n",
    "plt.show()"
   ]
  },
  {
   "cell_type": "code",
   "execution_count": 69,
   "id": "403a86f4",
   "metadata": {
    "execution": {
     "iopub.execute_input": "2021-11-05T11:45:16.217431Z",
     "iopub.status.busy": "2021-11-05T11:45:16.216448Z",
     "iopub.status.idle": "2021-11-05T11:45:16.401181Z",
     "shell.execute_reply": "2021-11-05T11:45:16.400525Z",
     "shell.execute_reply.started": "2021-11-05T11:37:59.808303Z"
    },
    "papermill": {
     "duration": 0.314645,
     "end_time": "2021-11-05T11:45:16.401319",
     "exception": false,
     "start_time": "2021-11-05T11:45:16.086674",
     "status": "completed"
    },
    "tags": []
   },
   "outputs": [
    {
     "data": {
      "image/png": "[encoded data removed]",
      "text/plain": [
       "<Figure size 432x288 with 1 Axes>"
      ]
     },
     "metadata": {
      "needs_background": "light"
     },
     "output_type": "display_data"
    }
   ],
   "source": [
    "sns.countplot(x=\"Woman_or_Boy\", data = df, hue='Survived')\n",
    "plt.xticks(rotation = 60)\n",
    "plt.show()"
   ]
  },
  {
   "cell_type": "markdown",
   "id": "0d65ec56",
   "metadata": {
    "papermill": {
     "duration": 0.127305,
     "end_time": "2021-11-05T11:45:16.661421",
     "exception": false,
     "start_time": "2021-11-05T11:45:16.534116",
     "status": "completed"
    },
    "tags": []
   },
   "source": [
    "##### Fare bins"
   ]
  },
  {
   "cell_type": "code",
   "execution_count": 70,
   "id": "ce3934e2",
   "metadata": {
    "execution": {
     "iopub.execute_input": "2021-11-05T11:45:16.926517Z",
     "iopub.status.busy": "2021-11-05T11:45:16.923462Z",
     "iopub.status.idle": "2021-11-05T11:45:16.929168Z",
     "shell.execute_reply": "2021-11-05T11:45:16.929680Z",
     "shell.execute_reply.started": "2021-11-05T11:38:00.012124Z"
    },
    "papermill": {
     "duration": 0.141178,
     "end_time": "2021-11-05T11:45:16.929852",
     "exception": false,
     "start_time": "2021-11-05T11:45:16.788674",
     "status": "completed"
    },
    "tags": []
   },
   "outputs": [
    {
     "data": {
      "text/plain": [
       "count    1309.000000\n",
       "mean       33.295479\n",
       "std        51.738879\n",
       "min         0.000000\n",
       "25%         7.895800\n",
       "50%        14.454200\n",
       "75%        31.275000\n",
       "max       512.329200\n",
       "Name: Fare, dtype: float64"
      ]
     },
     "execution_count": 70,
     "metadata": {},
     "output_type": "execute_result"
    }
   ],
   "source": [
    "df['Fare'].describe().T"
   ]
  },
  {
   "cell_type": "code",
   "execution_count": 71,
   "id": "8efe9f4b",
   "metadata": {
    "execution": {
     "iopub.execute_input": "2021-11-05T11:45:17.191976Z",
     "iopub.status.busy": "2021-11-05T11:45:17.191322Z",
     "iopub.status.idle": "2021-11-05T11:45:17.423603Z",
     "shell.execute_reply": "2021-11-05T11:45:17.422946Z",
     "shell.execute_reply.started": "2021-11-05T11:38:00.024176Z"
    },
    "papermill": {
     "duration": 0.363659,
     "end_time": "2021-11-05T11:45:17.423745",
     "exception": false,
     "start_time": "2021-11-05T11:45:17.060086",
     "status": "completed"
    },
    "tags": []
   },
   "outputs": [
    {
     "data": {
      "text/plain": [
       "<AxesSubplot:>"
      ]
     },
     "execution_count": 71,
     "metadata": {},
     "output_type": "execute_result"
    },
    {
     "data": {
      "image/png": "[encoded data removed]",
      "text/plain": [
       "<Figure size 432x288 with 1 Axes>"
      ]
     },
     "metadata": {
      "needs_background": "light"
     },
     "output_type": "display_data"
    }
   ],
   "source": [
    "df[\"Fare\"].hist(bins=13, color='#34495e', alpha=0.9)"
   ]
  },
  {
   "cell_type": "code",
   "execution_count": 72,
   "id": "5ffa99ea",
   "metadata": {
    "execution": {
     "iopub.execute_input": "2021-11-05T11:45:17.687863Z",
     "iopub.status.busy": "2021-11-05T11:45:17.686457Z",
     "iopub.status.idle": "2021-11-05T11:45:17.701674Z",
     "shell.execute_reply": "2021-11-05T11:45:17.700972Z",
     "shell.execute_reply.started": "2021-11-05T11:38:00.278316Z"
    },
    "papermill": {
     "duration": 0.148418,
     "end_time": "2021-11-05T11:45:17.701822",
     "exception": false,
     "start_time": "2021-11-05T11:45:17.553404",
     "status": "completed"
    },
    "tags": []
   },
   "outputs": [],
   "source": [
    "df['FareBin'] = pd.qcut(df['Fare'], 13)"
   ]
  },
  {
   "cell_type": "code",
   "execution_count": 73,
   "id": "8ff67004",
   "metadata": {
    "execution": {
     "iopub.execute_input": "2021-11-05T11:45:17.967630Z",
     "iopub.status.busy": "2021-11-05T11:45:17.966870Z",
     "iopub.status.idle": "2021-11-05T11:45:18.255813Z",
     "shell.execute_reply": "2021-11-05T11:45:18.256269Z",
     "shell.execute_reply.started": "2021-11-05T11:38:00.294569Z"
    },
    "papermill": {
     "duration": 0.425589,
     "end_time": "2021-11-05T11:45:18.256463",
     "exception": false,
     "start_time": "2021-11-05T11:45:17.830874",
     "status": "completed"
    },
    "tags": []
   },
   "outputs": [
    {
     "data": {
      "text/plain": [
       "<AxesSubplot:xlabel='FareBin', ylabel='count'>"
      ]
     },
     "execution_count": 73,
     "metadata": {},
     "output_type": "execute_result"
    },
    {
     "data": {
      "image/png": "[encoded data removed]",
      "text/plain": [
       "<Figure size 432x288 with 1 Axes>"
      ]
     },
     "metadata": {
      "needs_background": "light"
     },
     "output_type": "display_data"
    }
   ],
   "source": [
    "sns.countplot(x='FareBin', data=df)"
   ]
  },
  {
   "cell_type": "code",
   "execution_count": 74,
   "id": "50e03582",
   "metadata": {
    "execution": {
     "iopub.execute_input": "2021-11-05T11:45:18.524699Z",
     "iopub.status.busy": "2021-11-05T11:45:18.523722Z",
     "iopub.status.idle": "2021-11-05T11:45:18.905913Z",
     "shell.execute_reply": "2021-11-05T11:45:18.906454Z",
     "shell.execute_reply.started": "2021-11-05T11:38:00.611766Z"
    },
    "papermill": {
     "duration": 0.517048,
     "end_time": "2021-11-05T11:45:18.906639",
     "exception": false,
     "start_time": "2021-11-05T11:45:18.389591",
     "status": "completed"
    },
    "tags": []
   },
   "outputs": [
    {
     "data": {
      "text/plain": [
       "<AxesSubplot:xlabel='FareBin', ylabel='count'>"
      ]
     },
     "execution_count": 74,
     "metadata": {},
     "output_type": "execute_result"
    },
    {
     "data": {
      "image/png": "[encoded data removed]",
      "text/plain": [
       "<Figure size 432x288 with 1 Axes>"
      ]
     },
     "metadata": {
      "needs_background": "light"
     },
     "output_type": "display_data"
    }
   ],
   "source": [
    "sns.countplot(x='FareBin', data=df, hue='Survived')"
   ]
  },
  {
   "cell_type": "markdown",
   "id": "33ac556d",
   "metadata": {
    "papermill": {
     "duration": 0.130897,
     "end_time": "2021-11-05T11:45:19.170200",
     "exception": false,
     "start_time": "2021-11-05T11:45:19.039303",
     "status": "completed"
    },
    "tags": []
   },
   "source": [
    "##### Age bins"
   ]
  },
  {
   "cell_type": "code",
   "execution_count": 75,
   "id": "dddbceaa",
   "metadata": {
    "execution": {
     "iopub.execute_input": "2021-11-05T11:45:19.437815Z",
     "iopub.status.busy": "2021-11-05T11:45:19.436835Z",
     "iopub.status.idle": "2021-11-05T11:45:19.678381Z",
     "shell.execute_reply": "2021-11-05T11:45:19.678923Z",
     "shell.execute_reply.started": "2021-11-05T11:38:01.019015Z"
    },
    "papermill": {
     "duration": 0.377655,
     "end_time": "2021-11-05T11:45:19.679091",
     "exception": false,
     "start_time": "2021-11-05T11:45:19.301436",
     "status": "completed"
    },
    "tags": []
   },
   "outputs": [
    {
     "data": {
      "text/plain": [
       "<AxesSubplot:>"
      ]
     },
     "execution_count": 75,
     "metadata": {},
     "output_type": "execute_result"
    },
    {
     "data": {
      "image/png": "[encoded data removed]",
      "text/plain": [
       "<Figure size 432x288 with 1 Axes>"
      ]
     },
     "metadata": {
      "needs_background": "light"
     },
     "output_type": "display_data"
    }
   ],
   "source": [
    "df[\"Age\"].hist(bins=10, color='#34495e', alpha=0.9)"
   ]
  },
  {
   "cell_type": "code",
   "execution_count": 76,
   "id": "feaddda2",
   "metadata": {
    "execution": {
     "iopub.execute_input": "2021-11-05T11:45:19.946711Z",
     "iopub.status.busy": "2021-11-05T11:45:19.946079Z",
     "iopub.status.idle": "2021-11-05T11:45:19.953152Z",
     "shell.execute_reply": "2021-11-05T11:45:19.953682Z",
     "shell.execute_reply.started": "2021-11-05T11:38:01.465774Z"
    },
    "papermill": {
     "duration": 0.142861,
     "end_time": "2021-11-05T11:45:19.953849",
     "exception": false,
     "start_time": "2021-11-05T11:45:19.810988",
     "status": "completed"
    },
    "tags": []
   },
   "outputs": [],
   "source": [
    "df['AgeBin'] = pd.cut(df['Age'].astype(int), 10)"
   ]
  },
  {
   "cell_type": "code",
   "execution_count": 77,
   "id": "ecc83dbf",
   "metadata": {
    "execution": {
     "iopub.execute_input": "2021-11-05T11:45:20.220591Z",
     "iopub.status.busy": "2021-11-05T11:45:20.219957Z",
     "iopub.status.idle": "2021-11-05T11:45:20.474759Z",
     "shell.execute_reply": "2021-11-05T11:45:20.475296Z",
     "shell.execute_reply.started": "2021-11-05T11:38:01.475507Z"
    },
    "papermill": {
     "duration": 0.389687,
     "end_time": "2021-11-05T11:45:20.475492",
     "exception": false,
     "start_time": "2021-11-05T11:45:20.085805",
     "status": "completed"
    },
    "tags": []
   },
   "outputs": [
    {
     "data": {
      "text/plain": [
       "<AxesSubplot:xlabel='AgeBin', ylabel='count'>"
      ]
     },
     "execution_count": 77,
     "metadata": {},
     "output_type": "execute_result"
    },
    {
     "data": {
      "image/png": "[encoded data removed]",
      "text/plain": [
       "<Figure size 432x288 with 1 Axes>"
      ]
     },
     "metadata": {
      "needs_background": "light"
     },
     "output_type": "display_data"
    }
   ],
   "source": [
    "sns.countplot(x='AgeBin', data=df)"
   ]
  },
  {
   "cell_type": "code",
   "execution_count": 78,
   "id": "b38ab9cd",
   "metadata": {
    "execution": {
     "iopub.execute_input": "2021-11-05T11:45:20.747648Z",
     "iopub.status.busy": "2021-11-05T11:45:20.746534Z",
     "iopub.status.idle": "2021-11-05T11:45:21.071591Z",
     "shell.execute_reply": "2021-11-05T11:45:21.072066Z",
     "shell.execute_reply.started": "2021-11-05T11:38:01.749226Z"
    },
    "papermill": {
     "duration": 0.463202,
     "end_time": "2021-11-05T11:45:21.072237",
     "exception": false,
     "start_time": "2021-11-05T11:45:20.609035",
     "status": "completed"
    },
    "tags": []
   },
   "outputs": [
    {
     "data": {
      "text/plain": [
       "<AxesSubplot:xlabel='AgeBin', ylabel='count'>"
      ]
     },
     "execution_count": 78,
     "metadata": {},
     "output_type": "execute_result"
    },
    {
     "data": {
      "image/png": "[encoded data removed]",
      "text/plain": [
       "<Figure size 432x288 with 1 Axes>"
      ]
     },
     "metadata": {
      "needs_background": "light"
     },
     "output_type": "display_data"
    }
   ],
   "source": [
    "sns.countplot(x='AgeBin', data=df, hue='Survived')"
   ]
  },
  {
   "cell_type": "code",
   "execution_count": 79,
   "id": "7a736d1e",
   "metadata": {
    "execution": {
     "iopub.execute_input": "2021-11-05T11:45:21.345052Z",
     "iopub.status.busy": "2021-11-05T11:45:21.344439Z",
     "iopub.status.idle": "2021-11-05T11:45:21.350128Z",
     "shell.execute_reply": "2021-11-05T11:45:21.350709Z",
     "shell.execute_reply.started": "2021-11-05T11:38:02.096521Z"
    },
    "papermill": {
     "duration": 0.142655,
     "end_time": "2021-11-05T11:45:21.350892",
     "exception": false,
     "start_time": "2021-11-05T11:45:21.208237",
     "status": "completed"
    },
    "tags": []
   },
   "outputs": [],
   "source": [
    "df.drop(['Name',],axis=1,inplace=True)"
   ]
  },
  {
   "cell_type": "markdown",
   "id": "3f12619f",
   "metadata": {
    "papermill": {
     "duration": 0.157852,
     "end_time": "2021-11-05T11:45:21.645756",
     "exception": false,
     "start_time": "2021-11-05T11:45:21.487904",
     "status": "completed"
    },
    "tags": []
   },
   "source": [
    "### Check data"
   ]
  },
  {
   "cell_type": "code",
   "execution_count": 80,
   "id": "ed7974dc",
   "metadata": {
    "execution": {
     "iopub.execute_input": "2021-11-05T11:45:21.946516Z",
     "iopub.status.busy": "2021-11-05T11:45:21.930035Z",
     "iopub.status.idle": "2021-11-05T11:45:21.949647Z",
     "shell.execute_reply": "2021-11-05T11:45:21.950202Z",
     "shell.execute_reply.started": "2021-11-05T11:38:02.104480Z"
    },
    "papermill": {
     "duration": 0.160355,
     "end_time": "2021-11-05T11:45:21.950386",
     "exception": false,
     "start_time": "2021-11-05T11:45:21.790031",
     "status": "completed"
    },
    "tags": []
   },
   "outputs": [
    {
     "data": {
      "text/html": [
       "<div>\n",
       "<style scoped>\n",
       "    .dataframe tbody tr th:only-of-type {\n",
       "        vertical-align: middle;\n",
       "    }\n",
       "\n",
       "    .dataframe tbody tr th {\n",
       "        vertical-align: top;\n",
       "    }\n",
       "\n",
       "    .dataframe thead th {\n",
       "        text-align: right;\n",
       "    }\n",
       "</style>\n",
       "<table border=\"1\" class=\"dataframe\">\n",
       "  <thead>\n",
       "    <tr style=\"text-align: right;\">\n",
       "      <th></th>\n",
       "      <th>Survived</th>\n",
       "      <th>Pclass</th>\n",
       "      <th>Sex</th>\n",
       "      <th>Age</th>\n",
       "      <th>SibSp</th>\n",
       "      <th>Parch</th>\n",
       "      <th>Ticket</th>\n",
       "      <th>Fare</th>\n",
       "      <th>Embarked</th>\n",
       "      <th>FamilySize</th>\n",
       "      <th>Family_Size_Grouped</th>\n",
       "      <th>Title</th>\n",
       "      <th>Last_Name</th>\n",
       "      <th>IsMarried</th>\n",
       "      <th>IsAlone</th>\n",
       "      <th>Woman_or_Boy</th>\n",
       "      <th>FareBin</th>\n",
       "      <th>AgeBin</th>\n",
       "    </tr>\n",
       "  </thead>\n",
       "  <tbody>\n",
       "    <tr>\n",
       "      <th>0</th>\n",
       "      <td>0.0</td>\n",
       "      <td>3</td>\n",
       "      <td>male</td>\n",
       "      <td>22.0</td>\n",
       "      <td>1</td>\n",
       "      <td>0</td>\n",
       "      <td>9</td>\n",
       "      <td>7.2500</td>\n",
       "      <td>S</td>\n",
       "      <td>2</td>\n",
       "      <td>Small</td>\n",
       "      <td>Mr</td>\n",
       "      <td>Braund</td>\n",
       "      <td>0</td>\n",
       "      <td>0</td>\n",
       "      <td>0</td>\n",
       "      <td>(-0.001, 7.25]</td>\n",
       "      <td>(16.0, 24.0]</td>\n",
       "    </tr>\n",
       "    <tr>\n",
       "      <th>1</th>\n",
       "      <td>1.0</td>\n",
       "      <td>1</td>\n",
       "      <td>female</td>\n",
       "      <td>38.0</td>\n",
       "      <td>1</td>\n",
       "      <td>0</td>\n",
       "      <td>8</td>\n",
       "      <td>71.2833</td>\n",
       "      <td>C</td>\n",
       "      <td>2</td>\n",
       "      <td>Small</td>\n",
       "      <td>Mrs</td>\n",
       "      <td>Cumings</td>\n",
       "      <td>1</td>\n",
       "      <td>0</td>\n",
       "      <td>1</td>\n",
       "      <td>(56.496, 83.475]</td>\n",
       "      <td>(32.0, 40.0]</td>\n",
       "    </tr>\n",
       "    <tr>\n",
       "      <th>2</th>\n",
       "      <td>1.0</td>\n",
       "      <td>3</td>\n",
       "      <td>female</td>\n",
       "      <td>26.0</td>\n",
       "      <td>0</td>\n",
       "      <td>0</td>\n",
       "      <td>16</td>\n",
       "      <td>7.9250</td>\n",
       "      <td>S</td>\n",
       "      <td>1</td>\n",
       "      <td>Alone</td>\n",
       "      <td>Miss</td>\n",
       "      <td>Heikkinen</td>\n",
       "      <td>0</td>\n",
       "      <td>1</td>\n",
       "      <td>1</td>\n",
       "      <td>(7.896, 8.05]</td>\n",
       "      <td>(24.0, 32.0]</td>\n",
       "    </tr>\n",
       "    <tr>\n",
       "      <th>3</th>\n",
       "      <td>1.0</td>\n",
       "      <td>1</td>\n",
       "      <td>female</td>\n",
       "      <td>35.0</td>\n",
       "      <td>1</td>\n",
       "      <td>0</td>\n",
       "      <td>6</td>\n",
       "      <td>53.1000</td>\n",
       "      <td>S</td>\n",
       "      <td>2</td>\n",
       "      <td>Small</td>\n",
       "      <td>Mrs</td>\n",
       "      <td>Futrelle</td>\n",
       "      <td>1</td>\n",
       "      <td>0</td>\n",
       "      <td>1</td>\n",
       "      <td>(34.075, 56.496]</td>\n",
       "      <td>(32.0, 40.0]</td>\n",
       "    </tr>\n",
       "    <tr>\n",
       "      <th>4</th>\n",
       "      <td>0.0</td>\n",
       "      <td>3</td>\n",
       "      <td>male</td>\n",
       "      <td>35.0</td>\n",
       "      <td>0</td>\n",
       "      <td>0</td>\n",
       "      <td>6</td>\n",
       "      <td>8.0500</td>\n",
       "      <td>S</td>\n",
       "      <td>1</td>\n",
       "      <td>Alone</td>\n",
       "      <td>Mr</td>\n",
       "      <td>Allen</td>\n",
       "      <td>0</td>\n",
       "      <td>1</td>\n",
       "      <td>0</td>\n",
       "      <td>(7.896, 8.05]</td>\n",
       "      <td>(32.0, 40.0]</td>\n",
       "    </tr>\n",
       "  </tbody>\n",
       "</table>\n",
       "</div>"
      ],
      "text/plain": [
       "   Survived  Pclass     Sex   Age  SibSp  Parch  Ticket     Fare Embarked  \\\n",
       "0       0.0       3    male  22.0      1      0       9   7.2500        S   \n",
       "1       1.0       1  female  38.0      1      0       8  71.2833        C   \n",
       "2       1.0       3  female  26.0      0      0      16   7.9250        S   \n",
       "3       1.0       1  female  35.0      1      0       6  53.1000        S   \n",
       "4       0.0       3    male  35.0      0      0       6   8.0500        S   \n",
       "\n",
       "   FamilySize Family_Size_Grouped Title  Last_Name  IsMarried  IsAlone  \\\n",
       "0           2               Small    Mr     Braund          0        0   \n",
       "1           2               Small   Mrs    Cumings          1        0   \n",
       "2           1               Alone  Miss  Heikkinen          0        1   \n",
       "3           2               Small   Mrs   Futrelle          1        0   \n",
       "4           1               Alone    Mr      Allen          0        1   \n",
       "\n",
       "   Woman_or_Boy           FareBin        AgeBin  \n",
       "0             0    (-0.001, 7.25]  (16.0, 24.0]  \n",
       "1             1  (56.496, 83.475]  (32.0, 40.0]  \n",
       "2             1     (7.896, 8.05]  (24.0, 32.0]  \n",
       "3             1  (34.075, 56.496]  (32.0, 40.0]  \n",
       "4             0     (7.896, 8.05]  (32.0, 40.0]  "
      ]
     },
     "execution_count": 80,
     "metadata": {},
     "output_type": "execute_result"
    }
   ],
   "source": [
    "df.head()"
   ]
  },
  {
   "cell_type": "code",
   "execution_count": 81,
   "id": "936764c2",
   "metadata": {
    "execution": {
     "iopub.execute_input": "2021-11-05T11:45:22.225940Z",
     "iopub.status.busy": "2021-11-05T11:45:22.224975Z",
     "iopub.status.idle": "2021-11-05T11:45:22.240240Z",
     "shell.execute_reply": "2021-11-05T11:45:22.240974Z",
     "shell.execute_reply.started": "2021-11-05T11:38:02.134803Z"
    },
    "papermill": {
     "duration": 0.154698,
     "end_time": "2021-11-05T11:45:22.241215",
     "exception": false,
     "start_time": "2021-11-05T11:45:22.086517",
     "status": "completed"
    },
    "tags": []
   },
   "outputs": [
    {
     "name": "stdout",
     "output_type": "stream",
     "text": [
      "<class 'pandas.core.frame.DataFrame'>\n",
      "Int64Index: 1309 entries, 0 to 417\n",
      "Data columns (total 18 columns):\n",
      " #   Column               Non-Null Count  Dtype   \n",
      "---  ------               --------------  -----   \n",
      " 0   Survived             891 non-null    float64 \n",
      " 1   Pclass               1309 non-null   int64   \n",
      " 2   Sex                  1309 non-null   object  \n",
      " 3   Age                  1309 non-null   float64 \n",
      " 4   SibSp                1309 non-null   int64   \n",
      " 5   Parch                1309 non-null   int64   \n",
      " 6   Ticket               1309 non-null   int64   \n",
      " 7   Fare                 1309 non-null   float64 \n",
      " 8   Embarked             1309 non-null   object  \n",
      " 9   FamilySize           1309 non-null   int64   \n",
      " 10  Family_Size_Grouped  1309 non-null   object  \n",
      " 11  Title                1309 non-null   object  \n",
      " 12  Last_Name            1309 non-null   object  \n",
      " 13  IsMarried            1309 non-null   int64   \n",
      " 14  IsAlone              1309 non-null   int64   \n",
      " 15  Woman_or_Boy         1309 non-null   int64   \n",
      " 16  FareBin              1309 non-null   category\n",
      " 17  AgeBin               1309 non-null   category\n",
      "dtypes: category(2), float64(3), int64(8), object(5)\n",
      "memory usage: 209.9+ KB\n"
     ]
    }
   ],
   "source": [
    "df.info()"
   ]
  },
  {
   "cell_type": "markdown",
   "id": "9b4feab4",
   "metadata": {
    "papermill": {
     "duration": 0.135409,
     "end_time": "2021-11-05T11:45:22.513881",
     "exception": false,
     "start_time": "2021-11-05T11:45:22.378472",
     "status": "completed"
    },
    "tags": []
   },
   "source": [
    "# EDA"
   ]
  },
  {
   "cell_type": "markdown",
   "id": "d19b255f",
   "metadata": {
    "papermill": {
     "duration": 0.1351,
     "end_time": "2021-11-05T11:45:22.784155",
     "exception": false,
     "start_time": "2021-11-05T11:45:22.649055",
     "status": "completed"
    },
    "tags": []
   },
   "source": [
    "## Univariate Variable Analysis"
   ]
  },
  {
   "cell_type": "code",
   "execution_count": 82,
   "id": "3ed69bbd",
   "metadata": {
    "execution": {
     "iopub.execute_input": "2021-11-05T11:45:23.061418Z",
     "iopub.status.busy": "2021-11-05T11:45:23.060761Z",
     "iopub.status.idle": "2021-11-05T11:45:23.063122Z",
     "shell.execute_reply": "2021-11-05T11:45:23.063639Z",
     "shell.execute_reply.started": "2021-11-05T11:38:02.159191Z"
    },
    "papermill": {
     "duration": 0.144029,
     "end_time": "2021-11-05T11:45:23.063802",
     "exception": false,
     "start_time": "2021-11-05T11:45:22.919773",
     "status": "completed"
    },
    "tags": []
   },
   "outputs": [
    {
     "name": "stdout",
     "output_type": "stream",
     "text": [
      "Numeric variables: ['Survived', 'Pclass', 'Age', 'SibSp', 'Parch', 'Ticket', 'Fare', 'FamilySize', 'IsMarried', 'IsAlone', 'Woman_or_Boy']\n"
     ]
    }
   ],
   "source": [
    "num_vars=list(df._get_numeric_data().columns)\n",
    "\n",
    "print(f'Numeric variables: {num_vars}')"
   ]
  },
  {
   "cell_type": "code",
   "execution_count": 83,
   "id": "0af4b694",
   "metadata": {
    "execution": {
     "iopub.execute_input": "2021-11-05T11:45:23.341676Z",
     "iopub.status.busy": "2021-11-05T11:45:23.341017Z",
     "iopub.status.idle": "2021-11-05T11:45:23.345093Z",
     "shell.execute_reply": "2021-11-05T11:45:23.344603Z",
     "shell.execute_reply.started": "2021-11-05T11:38:02.172216Z"
    },
    "papermill": {
     "duration": 0.144441,
     "end_time": "2021-11-05T11:45:23.345230",
     "exception": false,
     "start_time": "2021-11-05T11:45:23.200789",
     "status": "completed"
    },
    "tags": []
   },
   "outputs": [
    {
     "name": "stdout",
     "output_type": "stream",
     "text": [
      "Categoric variable: ['AgeBin', 'Sex', 'Last_Name', 'Title', 'FareBin', 'Embarked', 'Family_Size_Grouped']\n"
     ]
    }
   ],
   "source": [
    "cat_vars=list(set(df.columns)-set(num_vars))\n",
    "\n",
    "print(f'Categoric variable: {cat_vars}')"
   ]
  },
  {
   "cell_type": "markdown",
   "id": "b1bab854",
   "metadata": {
    "papermill": {
     "duration": 0.138609,
     "end_time": "2021-11-05T11:45:23.621658",
     "exception": false,
     "start_time": "2021-11-05T11:45:23.483049",
     "status": "completed"
    },
    "tags": []
   },
   "source": [
    "## Categorical Variable Analysis"
   ]
  },
  {
   "cell_type": "code",
   "execution_count": 84,
   "id": "e30dbc74",
   "metadata": {
    "execution": {
     "iopub.execute_input": "2021-11-05T11:45:23.900545Z",
     "iopub.status.busy": "2021-11-05T11:45:23.899731Z",
     "iopub.status.idle": "2021-11-05T11:45:23.901246Z",
     "shell.execute_reply": "2021-11-05T11:45:23.901884Z",
     "shell.execute_reply.started": "2021-11-05T11:38:02.182171Z"
    },
    "papermill": {
     "duration": 0.144498,
     "end_time": "2021-11-05T11:45:23.902053",
     "exception": false,
     "start_time": "2021-11-05T11:45:23.757555",
     "status": "completed"
    },
    "tags": []
   },
   "outputs": [],
   "source": [
    "def count_plot(df, cat_cols):\n",
    "    for i, col in enumerate(cat_cols):\n",
    "        plt.figure(num=i, figsize=[8, 8])\n",
    "        sns.countplot(x=col, data=df, order=df[col].value_counts().index, hue='Survived')\n",
    "        plt.tight_layout()"
   ]
  },
  {
   "cell_type": "code",
   "execution_count": 85,
   "id": "cc80b9ac",
   "metadata": {
    "execution": {
     "iopub.execute_input": "2021-11-05T11:45:24.181653Z",
     "iopub.status.busy": "2021-11-05T11:45:24.180965Z",
     "iopub.status.idle": "2021-11-05T11:45:46.591554Z",
     "shell.execute_reply": "2021-11-05T11:45:46.592072Z",
     "shell.execute_reply.started": "2021-11-05T11:38:02.194578Z"
    },
    "papermill": {
     "duration": 22.551854,
     "end_time": "2021-11-05T11:45:46.592252",
     "exception": false,
     "start_time": "2021-11-05T11:45:24.040398",
     "status": "completed"
    },
    "tags": []
   },
   "outputs": [
    {
     "data": {
      "image/png": "[encoded data removed]",
      "text/plain": [
       "<Figure size 576x576 with 1 Axes>"
      ]
     },
     "metadata": {
      "needs_background": "light"
     },
     "output_type": "display_data"
    },
    {
     "data": {
      "image/png": "[encoded data removed]",
      "text/plain": [
       "<Figure size 576x576 with 1 Axes>"
      ]
     },
     "metadata": {
      "needs_background": "light"
     },
     "output_type": "display_data"
    },
    {
     "data": {
      "image/png": "[encoded data removed]",
      "text/plain": [
       "<Figure size 576x576 with 1 Axes>"
      ]
     },
     "metadata": {
      "needs_background": "light"
     },
     "output_type": "display_data"
    },
    {
     "data": {
      "image/png": "[encoded data removed]",
      "text/plain": [
       "<Figure size 576x576 with 1 Axes>"
      ]
     },
     "metadata": {
      "needs_background": "light"
     },
     "output_type": "display_data"
    },
    {
     "data": {
      "image/png": "[encoded data removed]",
      "text/plain": [
       "<Figure size 576x576 with 1 Axes>"
      ]
     },
     "metadata": {
      "needs_background": "light"
     },
     "output_type": "display_data"
    },
    {
     "data": {
      "image/png": "[encoded data removed]",
      "text/plain": [
       "<Figure size 576x576 with 1 Axes>"
      ]
     },
     "metadata": {
      "needs_background": "light"
     },
     "output_type": "display_data"
    },
    {
     "data": {
      "image/png": "[encoded data removed]",
      "text/plain": [
       "<Figure size 576x576 with 1 Axes>"
      ]
     },
     "metadata": {
      "needs_background": "light"
     },
     "output_type": "display_data"
    }
   ],
   "source": [
    "count_plot(df, cat_vars)"
   ]
  },
  {
   "cell_type": "markdown",
   "id": "c985bea9",
   "metadata": {
    "papermill": {
     "duration": 0.144198,
     "end_time": "2021-11-05T11:45:46.879189",
     "exception": false,
     "start_time": "2021-11-05T11:45:46.734991",
     "status": "completed"
    },
    "tags": []
   },
   "source": [
    "## Numerical Variable Analysis"
   ]
  },
  {
   "cell_type": "code",
   "execution_count": 86,
   "id": "de199409",
   "metadata": {
    "execution": {
     "iopub.execute_input": "2021-11-05T11:45:47.167516Z",
     "iopub.status.busy": "2021-11-05T11:45:47.166508Z",
     "iopub.status.idle": "2021-11-05T11:45:47.171625Z",
     "shell.execute_reply": "2021-11-05T11:45:47.172169Z",
     "shell.execute_reply.started": "2021-11-05T11:38:24.891081Z"
    },
    "papermill": {
     "duration": 0.150806,
     "end_time": "2021-11-05T11:45:47.172347",
     "exception": false,
     "start_time": "2021-11-05T11:45:47.021541",
     "status": "completed"
    },
    "tags": []
   },
   "outputs": [],
   "source": [
    "def hist_plot(df, variable):\n",
    "    plt.figure(figsize=(9, 3))\n",
    "    plt.hist(df[variable], bins=50)\n",
    "    plt.xlabel(variable)\n",
    "    plt.ylabel('Frequency')\n",
    "    plt.title(f\"{variable} distribution with hist\")\n",
    "    plt.show()"
   ]
  },
  {
   "cell_type": "code",
   "execution_count": 87,
   "id": "ec3d3b0b",
   "metadata": {
    "execution": {
     "iopub.execute_input": "2021-11-05T11:45:47.461595Z",
     "iopub.status.busy": "2021-11-05T11:45:47.459734Z",
     "iopub.status.idle": "2021-11-05T11:45:47.467332Z",
     "shell.execute_reply": "2021-11-05T11:45:47.467969Z",
     "shell.execute_reply.started": "2021-11-05T11:38:24.898761Z"
    },
    "papermill": {
     "duration": 0.154603,
     "end_time": "2021-11-05T11:45:47.468133",
     "exception": false,
     "start_time": "2021-11-05T11:45:47.313530",
     "status": "completed"
    },
    "tags": []
   },
   "outputs": [
    {
     "data": {
      "text/plain": [
       "0      0\n",
       "1      1\n",
       "2      1\n",
       "3      1\n",
       "4      0\n",
       "      ..\n",
       "413    0\n",
       "414    1\n",
       "415    0\n",
       "416    0\n",
       "417    1\n",
       "Name: Woman_or_Boy, Length: 1309, dtype: int64"
      ]
     },
     "execution_count": 87,
     "metadata": {},
     "output_type": "execute_result"
    }
   ],
   "source": [
    "df['Woman_or_Boy']"
   ]
  },
  {
   "cell_type": "code",
   "execution_count": 88,
   "id": "63df0940",
   "metadata": {
    "execution": {
     "iopub.execute_input": "2021-11-05T11:45:47.756216Z",
     "iopub.status.busy": "2021-11-05T11:45:47.755198Z",
     "iopub.status.idle": "2021-11-05T11:45:50.894527Z",
     "shell.execute_reply": "2021-11-05T11:45:50.894991Z",
     "shell.execute_reply.started": "2021-11-05T11:38:24.915329Z"
    },
    "papermill": {
     "duration": 3.284652,
     "end_time": "2021-11-05T11:45:50.895167",
     "exception": false,
     "start_time": "2021-11-05T11:45:47.610515",
     "status": "completed"
    },
    "tags": []
   },
   "outputs": [
    {
     "name": "stdout",
     "output_type": "stream",
     "text": [
      "Survived\n"
     ]
    },
    {
     "data": {
      "image/png": "[encoded data removed]",
      "text/plain": [
       "<Figure size 648x216 with 1 Axes>"
      ]
     },
     "metadata": {
      "needs_background": "light"
     },
     "output_type": "display_data"
    },
    {
     "name": "stdout",
     "output_type": "stream",
     "text": [
      "Pclass\n"
     ]
    },
    {
     "data": {
      "image/png": "[encoded data removed]",
      "text/plain": [
       "<Figure size 648x216 with 1 Axes>"
      ]
     },
     "metadata": {
      "needs_background": "light"
     },
     "output_type": "display_data"
    },
    {
     "name": "stdout",
     "output_type": "stream",
     "text": [
      "Age\n"
     ]
    },
    {
     "data": {
      "image/png": "[encoded data removed]",
      "text/plain": [
       "<Figure size 648x216 with 1 Axes>"
      ]
     },
     "metadata": {
      "needs_background": "light"
     },
     "output_type": "display_data"
    },
    {
     "name": "stdout",
     "output_type": "stream",
     "text": [
      "SibSp\n"
     ]
    },
    {
     "data": {
      "image/png": "[encoded data removed]",
      "text/plain": [
       "<Figure size 648x216 with 1 Axes>"
      ]
     },
     "metadata": {
      "needs_background": "light"
     },
     "output_type": "display_data"
    },
    {
     "name": "stdout",
     "output_type": "stream",
     "text": [
      "Parch\n"
     ]
    },
    {
     "data": {
      "image/png": "[encoded data removed]",
      "text/plain": [
       "<Figure size 648x216 with 1 Axes>"
      ]
     },
     "metadata": {
      "needs_background": "light"
     },
     "output_type": "display_data"
    },
    {
     "name": "stdout",
     "output_type": "stream",
     "text": [
      "Ticket\n"
     ]
    },
    {
     "data": {
      "image/png": "[encoded data removed]",
      "text/plain": [
       "<Figure size 648x216 with 1 Axes>"
      ]
     },
     "metadata": {
      "needs_background": "light"
     },
     "output_type": "display_data"
    },
    {
     "name": "stdout",
     "output_type": "stream",
     "text": [
      "Fare\n"
     ]
    },
    {
     "data": {
      "image/png": "[encoded data removed]",
      "text/plain": [
       "<Figure size 648x216 with 1 Axes>"
      ]
     },
     "metadata": {
      "needs_background": "light"
     },
     "output_type": "display_data"
    },
    {
     "name": "stdout",
     "output_type": "stream",
     "text": [
      "FamilySize\n"
     ]
    },
    {
     "data": {
      "image/png": "[encoded data removed]",
      "text/plain": [
       "<Figure size 648x216 with 1 Axes>"
      ]
     },
     "metadata": {
      "needs_background": "light"
     },
     "output_type": "display_data"
    },
    {
     "name": "stdout",
     "output_type": "stream",
     "text": [
      "IsMarried\n"
     ]
    },
    {
     "data": {
      "image/png": "[encoded data removed]",
      "text/plain": [
       "<Figure size 648x216 with 1 Axes>"
      ]
     },
     "metadata": {
      "needs_background": "light"
     },
     "output_type": "display_data"
    },
    {
     "name": "stdout",
     "output_type": "stream",
     "text": [
      "IsAlone\n"
     ]
    },
    {
     "data": {
      "image/png": "[encoded data removed]",
      "text/plain": [
       "<Figure size 648x216 with 1 Axes>"
      ]
     },
     "metadata": {
      "needs_background": "light"
     },
     "output_type": "display_data"
    },
    {
     "name": "stdout",
     "output_type": "stream",
     "text": [
      "Woman_or_Boy\n"
     ]
    },
    {
     "data": {
      "image/png": "[encoded data removed]",
      "text/plain": [
       "<Figure size 648x216 with 1 Axes>"
      ]
     },
     "metadata": {
      "needs_background": "light"
     },
     "output_type": "display_data"
    }
   ],
   "source": [
    "for num in num_vars:\n",
    "    print(num)\n",
    "    hist_plot(df, num)"
   ]
  },
  {
   "cell_type": "markdown",
   "id": "ff3225ed",
   "metadata": {
    "papermill": {
     "duration": 0.153495,
     "end_time": "2021-11-05T11:45:51.202664",
     "exception": false,
     "start_time": "2021-11-05T11:45:51.049169",
     "status": "completed"
    },
    "tags": []
   },
   "source": [
    "### Check data"
   ]
  },
  {
   "cell_type": "code",
   "execution_count": 89,
   "id": "e7801984",
   "metadata": {
    "execution": {
     "iopub.execute_input": "2021-11-05T11:45:51.515758Z",
     "iopub.status.busy": "2021-11-05T11:45:51.514790Z",
     "iopub.status.idle": "2021-11-05T11:45:51.536904Z",
     "shell.execute_reply": "2021-11-05T11:45:51.536271Z",
     "shell.execute_reply.started": "2021-11-05T11:38:28.492921Z"
    },
    "papermill": {
     "duration": 0.180619,
     "end_time": "2021-11-05T11:45:51.537046",
     "exception": false,
     "start_time": "2021-11-05T11:45:51.356427",
     "status": "completed"
    },
    "tags": []
   },
   "outputs": [
    {
     "data": {
      "text/html": [
       "<div>\n",
       "<style scoped>\n",
       "    .dataframe tbody tr th:only-of-type {\n",
       "        vertical-align: middle;\n",
       "    }\n",
       "\n",
       "    .dataframe tbody tr th {\n",
       "        vertical-align: top;\n",
       "    }\n",
       "\n",
       "    .dataframe thead th {\n",
       "        text-align: right;\n",
       "    }\n",
       "</style>\n",
       "<table border=\"1\" class=\"dataframe\">\n",
       "  <thead>\n",
       "    <tr style=\"text-align: right;\">\n",
       "      <th></th>\n",
       "      <th>Survived</th>\n",
       "      <th>Pclass</th>\n",
       "      <th>Sex</th>\n",
       "      <th>Age</th>\n",
       "      <th>SibSp</th>\n",
       "      <th>Parch</th>\n",
       "      <th>Ticket</th>\n",
       "      <th>Fare</th>\n",
       "      <th>Embarked</th>\n",
       "      <th>FamilySize</th>\n",
       "      <th>Family_Size_Grouped</th>\n",
       "      <th>Title</th>\n",
       "      <th>Last_Name</th>\n",
       "      <th>IsMarried</th>\n",
       "      <th>IsAlone</th>\n",
       "      <th>Woman_or_Boy</th>\n",
       "      <th>FareBin</th>\n",
       "      <th>AgeBin</th>\n",
       "    </tr>\n",
       "  </thead>\n",
       "  <tbody>\n",
       "    <tr>\n",
       "      <th>0</th>\n",
       "      <td>0.0</td>\n",
       "      <td>3</td>\n",
       "      <td>male</td>\n",
       "      <td>22.0</td>\n",
       "      <td>1</td>\n",
       "      <td>0</td>\n",
       "      <td>9</td>\n",
       "      <td>7.2500</td>\n",
       "      <td>S</td>\n",
       "      <td>2</td>\n",
       "      <td>Small</td>\n",
       "      <td>Mr</td>\n",
       "      <td>Braund</td>\n",
       "      <td>0</td>\n",
       "      <td>0</td>\n",
       "      <td>0</td>\n",
       "      <td>(-0.001, 7.25]</td>\n",
       "      <td>(16.0, 24.0]</td>\n",
       "    </tr>\n",
       "    <tr>\n",
       "      <th>1</th>\n",
       "      <td>1.0</td>\n",
       "      <td>1</td>\n",
       "      <td>female</td>\n",
       "      <td>38.0</td>\n",
       "      <td>1</td>\n",
       "      <td>0</td>\n",
       "      <td>8</td>\n",
       "      <td>71.2833</td>\n",
       "      <td>C</td>\n",
       "      <td>2</td>\n",
       "      <td>Small</td>\n",
       "      <td>Mrs</td>\n",
       "      <td>Cumings</td>\n",
       "      <td>1</td>\n",
       "      <td>0</td>\n",
       "      <td>1</td>\n",
       "      <td>(56.496, 83.475]</td>\n",
       "      <td>(32.0, 40.0]</td>\n",
       "    </tr>\n",
       "    <tr>\n",
       "      <th>2</th>\n",
       "      <td>1.0</td>\n",
       "      <td>3</td>\n",
       "      <td>female</td>\n",
       "      <td>26.0</td>\n",
       "      <td>0</td>\n",
       "      <td>0</td>\n",
       "      <td>16</td>\n",
       "      <td>7.9250</td>\n",
       "      <td>S</td>\n",
       "      <td>1</td>\n",
       "      <td>Alone</td>\n",
       "      <td>Miss</td>\n",
       "      <td>Heikkinen</td>\n",
       "      <td>0</td>\n",
       "      <td>1</td>\n",
       "      <td>1</td>\n",
       "      <td>(7.896, 8.05]</td>\n",
       "      <td>(24.0, 32.0]</td>\n",
       "    </tr>\n",
       "    <tr>\n",
       "      <th>3</th>\n",
       "      <td>1.0</td>\n",
       "      <td>1</td>\n",
       "      <td>female</td>\n",
       "      <td>35.0</td>\n",
       "      <td>1</td>\n",
       "      <td>0</td>\n",
       "      <td>6</td>\n",
       "      <td>53.1000</td>\n",
       "      <td>S</td>\n",
       "      <td>2</td>\n",
       "      <td>Small</td>\n",
       "      <td>Mrs</td>\n",
       "      <td>Futrelle</td>\n",
       "      <td>1</td>\n",
       "      <td>0</td>\n",
       "      <td>1</td>\n",
       "      <td>(34.075, 56.496]</td>\n",
       "      <td>(32.0, 40.0]</td>\n",
       "    </tr>\n",
       "    <tr>\n",
       "      <th>4</th>\n",
       "      <td>0.0</td>\n",
       "      <td>3</td>\n",
       "      <td>male</td>\n",
       "      <td>35.0</td>\n",
       "      <td>0</td>\n",
       "      <td>0</td>\n",
       "      <td>6</td>\n",
       "      <td>8.0500</td>\n",
       "      <td>S</td>\n",
       "      <td>1</td>\n",
       "      <td>Alone</td>\n",
       "      <td>Mr</td>\n",
       "      <td>Allen</td>\n",
       "      <td>0</td>\n",
       "      <td>1</td>\n",
       "      <td>0</td>\n",
       "      <td>(7.896, 8.05]</td>\n",
       "      <td>(32.0, 40.0]</td>\n",
       "    </tr>\n",
       "  </tbody>\n",
       "</table>\n",
       "</div>"
      ],
      "text/plain": [
       "   Survived  Pclass     Sex   Age  SibSp  Parch  Ticket     Fare Embarked  \\\n",
       "0       0.0       3    male  22.0      1      0       9   7.2500        S   \n",
       "1       1.0       1  female  38.0      1      0       8  71.2833        C   \n",
       "2       1.0       3  female  26.0      0      0      16   7.9250        S   \n",
       "3       1.0       1  female  35.0      1      0       6  53.1000        S   \n",
       "4       0.0       3    male  35.0      0      0       6   8.0500        S   \n",
       "\n",
       "   FamilySize Family_Size_Grouped Title  Last_Name  IsMarried  IsAlone  \\\n",
       "0           2               Small    Mr     Braund          0        0   \n",
       "1           2               Small   Mrs    Cumings          1        0   \n",
       "2           1               Alone  Miss  Heikkinen          0        1   \n",
       "3           2               Small   Mrs   Futrelle          1        0   \n",
       "4           1               Alone    Mr      Allen          0        1   \n",
       "\n",
       "   Woman_or_Boy           FareBin        AgeBin  \n",
       "0             0    (-0.001, 7.25]  (16.0, 24.0]  \n",
       "1             1  (56.496, 83.475]  (32.0, 40.0]  \n",
       "2             1     (7.896, 8.05]  (24.0, 32.0]  \n",
       "3             1  (34.075, 56.496]  (32.0, 40.0]  \n",
       "4             0     (7.896, 8.05]  (32.0, 40.0]  "
      ]
     },
     "execution_count": 89,
     "metadata": {},
     "output_type": "execute_result"
    }
   ],
   "source": [
    "df.head()"
   ]
  },
  {
   "cell_type": "code",
   "execution_count": 90,
   "id": "e33eac94",
   "metadata": {
    "execution": {
     "iopub.execute_input": "2021-11-05T11:45:51.851927Z",
     "iopub.status.busy": "2021-11-05T11:45:51.851207Z",
     "iopub.status.idle": "2021-11-05T11:45:51.854510Z",
     "shell.execute_reply": "2021-11-05T11:45:51.855497Z",
     "shell.execute_reply.started": "2021-11-05T11:38:28.520379Z"
    },
    "papermill": {
     "duration": 0.164714,
     "end_time": "2021-11-05T11:45:51.855736",
     "exception": false,
     "start_time": "2021-11-05T11:45:51.691022",
     "status": "completed"
    },
    "tags": []
   },
   "outputs": [
    {
     "name": "stdout",
     "output_type": "stream",
     "text": [
      "['Survived', 'Pclass', 'Age', 'SibSp', 'Parch', 'Ticket', 'Fare', 'FamilySize', 'IsMarried', 'IsAlone', 'Woman_or_Boy']\n",
      "['AgeBin', 'Sex', 'Last_Name', 'Title', 'FareBin', 'Embarked', 'Family_Size_Grouped']\n"
     ]
    }
   ],
   "source": [
    "print(num_vars)\n",
    "print(cat_vars)"
   ]
  },
  {
   "cell_type": "markdown",
   "id": "65b78872",
   "metadata": {
    "papermill": {
     "duration": 0.155109,
     "end_time": "2021-11-05T11:45:52.168554",
     "exception": false,
     "start_time": "2021-11-05T11:45:52.013445",
     "status": "completed"
    },
    "tags": []
   },
   "source": [
    "## Encoder"
   ]
  },
  {
   "cell_type": "code",
   "execution_count": 91,
   "id": "550b98ba",
   "metadata": {
    "execution": {
     "iopub.execute_input": "2021-11-05T11:45:52.485798Z",
     "iopub.status.busy": "2021-11-05T11:45:52.485046Z",
     "iopub.status.idle": "2021-11-05T11:45:52.501464Z",
     "shell.execute_reply": "2021-11-05T11:45:52.502113Z",
     "shell.execute_reply.started": "2021-11-05T11:38:28.528389Z"
    },
    "papermill": {
     "duration": 0.180035,
     "end_time": "2021-11-05T11:45:52.502282",
     "exception": false,
     "start_time": "2021-11-05T11:45:52.322247",
     "status": "completed"
    },
    "tags": []
   },
   "outputs": [
    {
     "data": {
      "text/html": [
       "<div>\n",
       "<style scoped>\n",
       "    .dataframe tbody tr th:only-of-type {\n",
       "        vertical-align: middle;\n",
       "    }\n",
       "\n",
       "    .dataframe tbody tr th {\n",
       "        vertical-align: top;\n",
       "    }\n",
       "\n",
       "    .dataframe thead th {\n",
       "        text-align: right;\n",
       "    }\n",
       "</style>\n",
       "<table border=\"1\" class=\"dataframe\">\n",
       "  <thead>\n",
       "    <tr style=\"text-align: right;\">\n",
       "      <th></th>\n",
       "      <th>Survived</th>\n",
       "      <th>Pclass</th>\n",
       "      <th>Sex</th>\n",
       "      <th>Age</th>\n",
       "      <th>SibSp</th>\n",
       "      <th>Parch</th>\n",
       "      <th>Ticket</th>\n",
       "      <th>Fare</th>\n",
       "      <th>Embarked</th>\n",
       "      <th>FamilySize</th>\n",
       "      <th>Family_Size_Grouped</th>\n",
       "      <th>Title</th>\n",
       "      <th>Last_Name</th>\n",
       "      <th>IsMarried</th>\n",
       "      <th>IsAlone</th>\n",
       "      <th>Woman_or_Boy</th>\n",
       "      <th>FareBin</th>\n",
       "      <th>AgeBin</th>\n",
       "    </tr>\n",
       "  </thead>\n",
       "  <tbody>\n",
       "    <tr>\n",
       "      <th>0</th>\n",
       "      <td>0.0</td>\n",
       "      <td>3</td>\n",
       "      <td>male</td>\n",
       "      <td>22.0</td>\n",
       "      <td>1</td>\n",
       "      <td>0</td>\n",
       "      <td>9</td>\n",
       "      <td>7.2500</td>\n",
       "      <td>S</td>\n",
       "      <td>2</td>\n",
       "      <td>Small</td>\n",
       "      <td>Mr</td>\n",
       "      <td>Braund</td>\n",
       "      <td>0</td>\n",
       "      <td>0</td>\n",
       "      <td>0</td>\n",
       "      <td>(-0.001, 7.25]</td>\n",
       "      <td>(16.0, 24.0]</td>\n",
       "    </tr>\n",
       "    <tr>\n",
       "      <th>1</th>\n",
       "      <td>1.0</td>\n",
       "      <td>1</td>\n",
       "      <td>female</td>\n",
       "      <td>38.0</td>\n",
       "      <td>1</td>\n",
       "      <td>0</td>\n",
       "      <td>8</td>\n",
       "      <td>71.2833</td>\n",
       "      <td>C</td>\n",
       "      <td>2</td>\n",
       "      <td>Small</td>\n",
       "      <td>Mrs</td>\n",
       "      <td>Cumings</td>\n",
       "      <td>1</td>\n",
       "      <td>0</td>\n",
       "      <td>1</td>\n",
       "      <td>(56.496, 83.475]</td>\n",
       "      <td>(32.0, 40.0]</td>\n",
       "    </tr>\n",
       "    <tr>\n",
       "      <th>2</th>\n",
       "      <td>1.0</td>\n",
       "      <td>3</td>\n",
       "      <td>female</td>\n",
       "      <td>26.0</td>\n",
       "      <td>0</td>\n",
       "      <td>0</td>\n",
       "      <td>16</td>\n",
       "      <td>7.9250</td>\n",
       "      <td>S</td>\n",
       "      <td>1</td>\n",
       "      <td>Alone</td>\n",
       "      <td>Miss</td>\n",
       "      <td>Heikkinen</td>\n",
       "      <td>0</td>\n",
       "      <td>1</td>\n",
       "      <td>1</td>\n",
       "      <td>(7.896, 8.05]</td>\n",
       "      <td>(24.0, 32.0]</td>\n",
       "    </tr>\n",
       "    <tr>\n",
       "      <th>3</th>\n",
       "      <td>1.0</td>\n",
       "      <td>1</td>\n",
       "      <td>female</td>\n",
       "      <td>35.0</td>\n",
       "      <td>1</td>\n",
       "      <td>0</td>\n",
       "      <td>6</td>\n",
       "      <td>53.1000</td>\n",
       "      <td>S</td>\n",
       "      <td>2</td>\n",
       "      <td>Small</td>\n",
       "      <td>Mrs</td>\n",
       "      <td>Futrelle</td>\n",
       "      <td>1</td>\n",
       "      <td>0</td>\n",
       "      <td>1</td>\n",
       "      <td>(34.075, 56.496]</td>\n",
       "      <td>(32.0, 40.0]</td>\n",
       "    </tr>\n",
       "    <tr>\n",
       "      <th>4</th>\n",
       "      <td>0.0</td>\n",
       "      <td>3</td>\n",
       "      <td>male</td>\n",
       "      <td>35.0</td>\n",
       "      <td>0</td>\n",
       "      <td>0</td>\n",
       "      <td>6</td>\n",
       "      <td>8.0500</td>\n",
       "      <td>S</td>\n",
       "      <td>1</td>\n",
       "      <td>Alone</td>\n",
       "      <td>Mr</td>\n",
       "      <td>Allen</td>\n",
       "      <td>0</td>\n",
       "      <td>1</td>\n",
       "      <td>0</td>\n",
       "      <td>(7.896, 8.05]</td>\n",
       "      <td>(32.0, 40.0]</td>\n",
       "    </tr>\n",
       "  </tbody>\n",
       "</table>\n",
       "</div>"
      ],
      "text/plain": [
       "   Survived  Pclass     Sex   Age  SibSp  Parch  Ticket     Fare Embarked  \\\n",
       "0       0.0       3    male  22.0      1      0       9   7.2500        S   \n",
       "1       1.0       1  female  38.0      1      0       8  71.2833        C   \n",
       "2       1.0       3  female  26.0      0      0      16   7.9250        S   \n",
       "3       1.0       1  female  35.0      1      0       6  53.1000        S   \n",
       "4       0.0       3    male  35.0      0      0       6   8.0500        S   \n",
       "\n",
       "   FamilySize Family_Size_Grouped Title  Last_Name  IsMarried  IsAlone  \\\n",
       "0           2               Small    Mr     Braund          0        0   \n",
       "1           2               Small   Mrs    Cumings          1        0   \n",
       "2           1               Alone  Miss  Heikkinen          0        1   \n",
       "3           2               Small   Mrs   Futrelle          1        0   \n",
       "4           1               Alone    Mr      Allen          0        1   \n",
       "\n",
       "   Woman_or_Boy           FareBin        AgeBin  \n",
       "0             0    (-0.001, 7.25]  (16.0, 24.0]  \n",
       "1             1  (56.496, 83.475]  (32.0, 40.0]  \n",
       "2             1     (7.896, 8.05]  (24.0, 32.0]  \n",
       "3             1  (34.075, 56.496]  (32.0, 40.0]  \n",
       "4             0     (7.896, 8.05]  (32.0, 40.0]  "
      ]
     },
     "execution_count": 91,
     "metadata": {},
     "output_type": "execute_result"
    }
   ],
   "source": [
    "df.head()"
   ]
  },
  {
   "cell_type": "code",
   "execution_count": 92,
   "id": "01d6ffe8",
   "metadata": {
    "execution": {
     "iopub.execute_input": "2021-11-05T11:45:52.816810Z",
     "iopub.status.busy": "2021-11-05T11:45:52.816122Z",
     "iopub.status.idle": "2021-11-05T11:45:52.837855Z",
     "shell.execute_reply": "2021-11-05T11:45:52.838436Z",
     "shell.execute_reply.started": "2021-11-05T11:38:28.559310Z"
    },
    "papermill": {
     "duration": 0.181912,
     "end_time": "2021-11-05T11:45:52.838621",
     "exception": false,
     "start_time": "2021-11-05T11:45:52.656709",
     "status": "completed"
    },
    "tags": []
   },
   "outputs": [],
   "source": [
    "df=pd.get_dummies(df, drop_first=True)"
   ]
  },
  {
   "cell_type": "code",
   "execution_count": 93,
   "id": "006cd567",
   "metadata": {
    "execution": {
     "iopub.execute_input": "2021-11-05T11:45:53.154157Z",
     "iopub.status.busy": "2021-11-05T11:45:53.153540Z",
     "iopub.status.idle": "2021-11-05T11:45:53.172997Z",
     "shell.execute_reply": "2021-11-05T11:45:53.173545Z",
     "shell.execute_reply.started": "2021-11-05T11:38:28.589701Z"
    },
    "papermill": {
     "duration": 0.179124,
     "end_time": "2021-11-05T11:45:53.173722",
     "exception": false,
     "start_time": "2021-11-05T11:45:52.994598",
     "status": "completed"
    },
    "tags": []
   },
   "outputs": [
    {
     "data": {
      "text/html": [
       "<div>\n",
       "<style scoped>\n",
       "    .dataframe tbody tr th:only-of-type {\n",
       "        vertical-align: middle;\n",
       "    }\n",
       "\n",
       "    .dataframe tbody tr th {\n",
       "        vertical-align: top;\n",
       "    }\n",
       "\n",
       "    .dataframe thead th {\n",
       "        text-align: right;\n",
       "    }\n",
       "</style>\n",
       "<table border=\"1\" class=\"dataframe\">\n",
       "  <thead>\n",
       "    <tr style=\"text-align: right;\">\n",
       "      <th></th>\n",
       "      <th>Survived</th>\n",
       "      <th>Pclass</th>\n",
       "      <th>Age</th>\n",
       "      <th>SibSp</th>\n",
       "      <th>Parch</th>\n",
       "      <th>Ticket</th>\n",
       "      <th>Fare</th>\n",
       "      <th>FamilySize</th>\n",
       "      <th>IsMarried</th>\n",
       "      <th>IsAlone</th>\n",
       "      <th>...</th>\n",
       "      <th>FareBin_(83.475, 512.329]</th>\n",
       "      <th>AgeBin_(8.0, 16.0]</th>\n",
       "      <th>AgeBin_(16.0, 24.0]</th>\n",
       "      <th>AgeBin_(24.0, 32.0]</th>\n",
       "      <th>AgeBin_(32.0, 40.0]</th>\n",
       "      <th>AgeBin_(40.0, 48.0]</th>\n",
       "      <th>AgeBin_(48.0, 56.0]</th>\n",
       "      <th>AgeBin_(56.0, 64.0]</th>\n",
       "      <th>AgeBin_(64.0, 72.0]</th>\n",
       "      <th>AgeBin_(72.0, 80.0]</th>\n",
       "    </tr>\n",
       "  </thead>\n",
       "  <tbody>\n",
       "    <tr>\n",
       "      <th>0</th>\n",
       "      <td>0.0</td>\n",
       "      <td>3</td>\n",
       "      <td>22.0</td>\n",
       "      <td>1</td>\n",
       "      <td>0</td>\n",
       "      <td>9</td>\n",
       "      <td>7.2500</td>\n",
       "      <td>2</td>\n",
       "      <td>0</td>\n",
       "      <td>0</td>\n",
       "      <td>...</td>\n",
       "      <td>0</td>\n",
       "      <td>0</td>\n",
       "      <td>1</td>\n",
       "      <td>0</td>\n",
       "      <td>0</td>\n",
       "      <td>0</td>\n",
       "      <td>0</td>\n",
       "      <td>0</td>\n",
       "      <td>0</td>\n",
       "      <td>0</td>\n",
       "    </tr>\n",
       "    <tr>\n",
       "      <th>1</th>\n",
       "      <td>1.0</td>\n",
       "      <td>1</td>\n",
       "      <td>38.0</td>\n",
       "      <td>1</td>\n",
       "      <td>0</td>\n",
       "      <td>8</td>\n",
       "      <td>71.2833</td>\n",
       "      <td>2</td>\n",
       "      <td>1</td>\n",
       "      <td>0</td>\n",
       "      <td>...</td>\n",
       "      <td>0</td>\n",
       "      <td>0</td>\n",
       "      <td>0</td>\n",
       "      <td>0</td>\n",
       "      <td>1</td>\n",
       "      <td>0</td>\n",
       "      <td>0</td>\n",
       "      <td>0</td>\n",
       "      <td>0</td>\n",
       "      <td>0</td>\n",
       "    </tr>\n",
       "    <tr>\n",
       "      <th>2</th>\n",
       "      <td>1.0</td>\n",
       "      <td>3</td>\n",
       "      <td>26.0</td>\n",
       "      <td>0</td>\n",
       "      <td>0</td>\n",
       "      <td>16</td>\n",
       "      <td>7.9250</td>\n",
       "      <td>1</td>\n",
       "      <td>0</td>\n",
       "      <td>1</td>\n",
       "      <td>...</td>\n",
       "      <td>0</td>\n",
       "      <td>0</td>\n",
       "      <td>0</td>\n",
       "      <td>1</td>\n",
       "      <td>0</td>\n",
       "      <td>0</td>\n",
       "      <td>0</td>\n",
       "      <td>0</td>\n",
       "      <td>0</td>\n",
       "      <td>0</td>\n",
       "    </tr>\n",
       "    <tr>\n",
       "      <th>3</th>\n",
       "      <td>1.0</td>\n",
       "      <td>1</td>\n",
       "      <td>35.0</td>\n",
       "      <td>1</td>\n",
       "      <td>0</td>\n",
       "      <td>6</td>\n",
       "      <td>53.1000</td>\n",
       "      <td>2</td>\n",
       "      <td>1</td>\n",
       "      <td>0</td>\n",
       "      <td>...</td>\n",
       "      <td>0</td>\n",
       "      <td>0</td>\n",
       "      <td>0</td>\n",
       "      <td>0</td>\n",
       "      <td>1</td>\n",
       "      <td>0</td>\n",
       "      <td>0</td>\n",
       "      <td>0</td>\n",
       "      <td>0</td>\n",
       "      <td>0</td>\n",
       "    </tr>\n",
       "    <tr>\n",
       "      <th>4</th>\n",
       "      <td>0.0</td>\n",
       "      <td>3</td>\n",
       "      <td>35.0</td>\n",
       "      <td>0</td>\n",
       "      <td>0</td>\n",
       "      <td>6</td>\n",
       "      <td>8.0500</td>\n",
       "      <td>1</td>\n",
       "      <td>0</td>\n",
       "      <td>1</td>\n",
       "      <td>...</td>\n",
       "      <td>0</td>\n",
       "      <td>0</td>\n",
       "      <td>0</td>\n",
       "      <td>0</td>\n",
       "      <td>1</td>\n",
       "      <td>0</td>\n",
       "      <td>0</td>\n",
       "      <td>0</td>\n",
       "      <td>0</td>\n",
       "      <td>0</td>\n",
       "    </tr>\n",
       "  </tbody>\n",
       "</table>\n",
       "<p>5 rows × 916 columns</p>\n",
       "</div>"
      ],
      "text/plain": [
       "   Survived  Pclass   Age  SibSp  Parch  Ticket     Fare  FamilySize  \\\n",
       "0       0.0       3  22.0      1      0       9   7.2500           2   \n",
       "1       1.0       1  38.0      1      0       8  71.2833           2   \n",
       "2       1.0       3  26.0      0      0      16   7.9250           1   \n",
       "3       1.0       1  35.0      1      0       6  53.1000           2   \n",
       "4       0.0       3  35.0      0      0       6   8.0500           1   \n",
       "\n",
       "   IsMarried  IsAlone  ...  FareBin_(83.475, 512.329]  AgeBin_(8.0, 16.0]  \\\n",
       "0          0        0  ...                          0                   0   \n",
       "1          1        0  ...                          0                   0   \n",
       "2          0        1  ...                          0                   0   \n",
       "3          1        0  ...                          0                   0   \n",
       "4          0        1  ...                          0                   0   \n",
       "\n",
       "   AgeBin_(16.0, 24.0]  AgeBin_(24.0, 32.0]  AgeBin_(32.0, 40.0]  \\\n",
       "0                    1                    0                    0   \n",
       "1                    0                    0                    1   \n",
       "2                    0                    1                    0   \n",
       "3                    0                    0                    1   \n",
       "4                    0                    0                    1   \n",
       "\n",
       "   AgeBin_(40.0, 48.0]  AgeBin_(48.0, 56.0]  AgeBin_(56.0, 64.0]  \\\n",
       "0                    0                    0                    0   \n",
       "1                    0                    0                    0   \n",
       "2                    0                    0                    0   \n",
       "3                    0                    0                    0   \n",
       "4                    0                    0                    0   \n",
       "\n",
       "   AgeBin_(64.0, 72.0]  AgeBin_(72.0, 80.0]  \n",
       "0                    0                    0  \n",
       "1                    0                    0  \n",
       "2                    0                    0  \n",
       "3                    0                    0  \n",
       "4                    0                    0  \n",
       "\n",
       "[5 rows x 916 columns]"
      ]
     },
     "execution_count": 93,
     "metadata": {},
     "output_type": "execute_result"
    }
   ],
   "source": [
    "df.head()"
   ]
  },
  {
   "cell_type": "code",
   "execution_count": 94,
   "id": "3defec4a",
   "metadata": {
    "execution": {
     "iopub.execute_input": "2021-11-05T11:45:53.489422Z",
     "iopub.status.busy": "2021-11-05T11:45:53.488737Z",
     "iopub.status.idle": "2021-11-05T11:45:53.541914Z",
     "shell.execute_reply": "2021-11-05T11:45:53.542478Z",
     "shell.execute_reply.started": "2021-11-05T11:38:28.615986Z"
    },
    "papermill": {
     "duration": 0.213819,
     "end_time": "2021-11-05T11:45:53.542661",
     "exception": false,
     "start_time": "2021-11-05T11:45:53.328842",
     "status": "completed"
    },
    "tags": []
   },
   "outputs": [
    {
     "name": "stdout",
     "output_type": "stream",
     "text": [
      "<class 'pandas.core.frame.DataFrame'>\n",
      "Int64Index: 1309 entries, 0 to 417\n",
      "Columns: 916 entries, Survived to AgeBin_(72.0, 80.0]\n",
      "dtypes: float64(3), int64(8), uint8(905)\n",
      "memory usage: 1.3 MB\n"
     ]
    }
   ],
   "source": [
    "df.info()"
   ]
  },
  {
   "cell_type": "code",
   "execution_count": 95,
   "id": "18cd8ad0",
   "metadata": {
    "execution": {
     "iopub.execute_input": "2021-11-05T11:45:53.857593Z",
     "iopub.status.busy": "2021-11-05T11:45:53.856939Z",
     "iopub.status.idle": "2021-11-05T11:45:53.871704Z",
     "shell.execute_reply": "2021-11-05T11:45:53.872223Z",
     "shell.execute_reply.started": "2021-11-05T11:38:28.674653Z"
    },
    "papermill": {
     "duration": 0.173629,
     "end_time": "2021-11-05T11:45:53.872421",
     "exception": false,
     "start_time": "2021-11-05T11:45:53.698792",
     "status": "completed"
    },
    "tags": []
   },
   "outputs": [
    {
     "data": {
      "text/plain": [
       "Survived               418\n",
       "Pclass                   0\n",
       "Age                      0\n",
       "SibSp                    0\n",
       "Parch                    0\n",
       "                      ... \n",
       "AgeBin_(40.0, 48.0]      0\n",
       "AgeBin_(48.0, 56.0]      0\n",
       "AgeBin_(56.0, 64.0]      0\n",
       "AgeBin_(64.0, 72.0]      0\n",
       "AgeBin_(72.0, 80.0]      0\n",
       "Length: 916, dtype: int64"
      ]
     },
     "execution_count": 95,
     "metadata": {},
     "output_type": "execute_result"
    }
   ],
   "source": [
    "df.isnull().sum()"
   ]
  },
  {
   "cell_type": "markdown",
   "id": "4802af2a",
   "metadata": {
    "papermill": {
     "duration": 0.155761,
     "end_time": "2021-11-05T11:45:54.184388",
     "exception": false,
     "start_time": "2021-11-05T11:45:54.028627",
     "status": "completed"
    },
    "tags": []
   },
   "source": [
    "## Split Training and Testing Data"
   ]
  },
  {
   "cell_type": "code",
   "execution_count": 96,
   "id": "5147f455",
   "metadata": {
    "execution": {
     "iopub.execute_input": "2021-11-05T11:45:54.502210Z",
     "iopub.status.busy": "2021-11-05T11:45:54.501567Z",
     "iopub.status.idle": "2021-11-05T11:45:54.516173Z",
     "shell.execute_reply": "2021-11-05T11:45:54.516796Z",
     "shell.execute_reply.started": "2021-11-05T11:38:28.694011Z"
    },
    "papermill": {
     "duration": 0.177271,
     "end_time": "2021-11-05T11:45:54.516988",
     "exception": false,
     "start_time": "2021-11-05T11:45:54.339717",
     "status": "completed"
    },
    "tags": []
   },
   "outputs": [],
   "source": [
    "train_df=df[df['Survived'].notnull()]\n",
    "test_df=df[df['Survived'].isnull()]"
   ]
  },
  {
   "cell_type": "code",
   "execution_count": 97,
   "id": "7bc6036d",
   "metadata": {
    "execution": {
     "iopub.execute_input": "2021-11-05T11:45:54.876451Z",
     "iopub.status.busy": "2021-11-05T11:45:54.875795Z",
     "iopub.status.idle": "2021-11-05T11:45:54.880655Z",
     "shell.execute_reply": "2021-11-05T11:45:54.881255Z",
     "shell.execute_reply.started": "2021-11-05T11:38:28.707556Z"
    },
    "papermill": {
     "duration": 0.177694,
     "end_time": "2021-11-05T11:45:54.881465",
     "exception": false,
     "start_time": "2021-11-05T11:45:54.703771",
     "status": "completed"
    },
    "tags": []
   },
   "outputs": [
    {
     "name": "stdout",
     "output_type": "stream",
     "text": [
      "(891, 916)\n",
      "(418, 916)\n"
     ]
    }
   ],
   "source": [
    "print(train_df.shape)\n",
    "print(test_df.shape)"
   ]
  },
  {
   "cell_type": "code",
   "execution_count": 98,
   "id": "3f579137",
   "metadata": {
    "execution": {
     "iopub.execute_input": "2021-11-05T11:45:55.202216Z",
     "iopub.status.busy": "2021-11-05T11:45:55.201577Z",
     "iopub.status.idle": "2021-11-05T11:45:55.224198Z",
     "shell.execute_reply": "2021-11-05T11:45:55.223555Z",
     "shell.execute_reply.started": "2021-11-05T11:38:28.715401Z"
    },
    "papermill": {
     "duration": 0.183533,
     "end_time": "2021-11-05T11:45:55.224404",
     "exception": false,
     "start_time": "2021-11-05T11:45:55.040871",
     "status": "completed"
    },
    "tags": []
   },
   "outputs": [
    {
     "data": {
      "text/html": [
       "<div>\n",
       "<style scoped>\n",
       "    .dataframe tbody tr th:only-of-type {\n",
       "        vertical-align: middle;\n",
       "    }\n",
       "\n",
       "    .dataframe tbody tr th {\n",
       "        vertical-align: top;\n",
       "    }\n",
       "\n",
       "    .dataframe thead th {\n",
       "        text-align: right;\n",
       "    }\n",
       "</style>\n",
       "<table border=\"1\" class=\"dataframe\">\n",
       "  <thead>\n",
       "    <tr style=\"text-align: right;\">\n",
       "      <th></th>\n",
       "      <th>Survived</th>\n",
       "      <th>Pclass</th>\n",
       "      <th>Age</th>\n",
       "      <th>SibSp</th>\n",
       "      <th>Parch</th>\n",
       "      <th>Ticket</th>\n",
       "      <th>Fare</th>\n",
       "      <th>FamilySize</th>\n",
       "      <th>IsMarried</th>\n",
       "      <th>IsAlone</th>\n",
       "      <th>...</th>\n",
       "      <th>FareBin_(83.475, 512.329]</th>\n",
       "      <th>AgeBin_(8.0, 16.0]</th>\n",
       "      <th>AgeBin_(16.0, 24.0]</th>\n",
       "      <th>AgeBin_(24.0, 32.0]</th>\n",
       "      <th>AgeBin_(32.0, 40.0]</th>\n",
       "      <th>AgeBin_(40.0, 48.0]</th>\n",
       "      <th>AgeBin_(48.0, 56.0]</th>\n",
       "      <th>AgeBin_(56.0, 64.0]</th>\n",
       "      <th>AgeBin_(64.0, 72.0]</th>\n",
       "      <th>AgeBin_(72.0, 80.0]</th>\n",
       "    </tr>\n",
       "  </thead>\n",
       "  <tbody>\n",
       "    <tr>\n",
       "      <th>0</th>\n",
       "      <td>0.0</td>\n",
       "      <td>3</td>\n",
       "      <td>22.0</td>\n",
       "      <td>1</td>\n",
       "      <td>0</td>\n",
       "      <td>9</td>\n",
       "      <td>7.2500</td>\n",
       "      <td>2</td>\n",
       "      <td>0</td>\n",
       "      <td>0</td>\n",
       "      <td>...</td>\n",
       "      <td>0</td>\n",
       "      <td>0</td>\n",
       "      <td>1</td>\n",
       "      <td>0</td>\n",
       "      <td>0</td>\n",
       "      <td>0</td>\n",
       "      <td>0</td>\n",
       "      <td>0</td>\n",
       "      <td>0</td>\n",
       "      <td>0</td>\n",
       "    </tr>\n",
       "    <tr>\n",
       "      <th>1</th>\n",
       "      <td>1.0</td>\n",
       "      <td>1</td>\n",
       "      <td>38.0</td>\n",
       "      <td>1</td>\n",
       "      <td>0</td>\n",
       "      <td>8</td>\n",
       "      <td>71.2833</td>\n",
       "      <td>2</td>\n",
       "      <td>1</td>\n",
       "      <td>0</td>\n",
       "      <td>...</td>\n",
       "      <td>0</td>\n",
       "      <td>0</td>\n",
       "      <td>0</td>\n",
       "      <td>0</td>\n",
       "      <td>1</td>\n",
       "      <td>0</td>\n",
       "      <td>0</td>\n",
       "      <td>0</td>\n",
       "      <td>0</td>\n",
       "      <td>0</td>\n",
       "    </tr>\n",
       "    <tr>\n",
       "      <th>2</th>\n",
       "      <td>1.0</td>\n",
       "      <td>3</td>\n",
       "      <td>26.0</td>\n",
       "      <td>0</td>\n",
       "      <td>0</td>\n",
       "      <td>16</td>\n",
       "      <td>7.9250</td>\n",
       "      <td>1</td>\n",
       "      <td>0</td>\n",
       "      <td>1</td>\n",
       "      <td>...</td>\n",
       "      <td>0</td>\n",
       "      <td>0</td>\n",
       "      <td>0</td>\n",
       "      <td>1</td>\n",
       "      <td>0</td>\n",
       "      <td>0</td>\n",
       "      <td>0</td>\n",
       "      <td>0</td>\n",
       "      <td>0</td>\n",
       "      <td>0</td>\n",
       "    </tr>\n",
       "    <tr>\n",
       "      <th>3</th>\n",
       "      <td>1.0</td>\n",
       "      <td>1</td>\n",
       "      <td>35.0</td>\n",
       "      <td>1</td>\n",
       "      <td>0</td>\n",
       "      <td>6</td>\n",
       "      <td>53.1000</td>\n",
       "      <td>2</td>\n",
       "      <td>1</td>\n",
       "      <td>0</td>\n",
       "      <td>...</td>\n",
       "      <td>0</td>\n",
       "      <td>0</td>\n",
       "      <td>0</td>\n",
       "      <td>0</td>\n",
       "      <td>1</td>\n",
       "      <td>0</td>\n",
       "      <td>0</td>\n",
       "      <td>0</td>\n",
       "      <td>0</td>\n",
       "      <td>0</td>\n",
       "    </tr>\n",
       "    <tr>\n",
       "      <th>4</th>\n",
       "      <td>0.0</td>\n",
       "      <td>3</td>\n",
       "      <td>35.0</td>\n",
       "      <td>0</td>\n",
       "      <td>0</td>\n",
       "      <td>6</td>\n",
       "      <td>8.0500</td>\n",
       "      <td>1</td>\n",
       "      <td>0</td>\n",
       "      <td>1</td>\n",
       "      <td>...</td>\n",
       "      <td>0</td>\n",
       "      <td>0</td>\n",
       "      <td>0</td>\n",
       "      <td>0</td>\n",
       "      <td>1</td>\n",
       "      <td>0</td>\n",
       "      <td>0</td>\n",
       "      <td>0</td>\n",
       "      <td>0</td>\n",
       "      <td>0</td>\n",
       "    </tr>\n",
       "  </tbody>\n",
       "</table>\n",
       "<p>5 rows × 916 columns</p>\n",
       "</div>"
      ],
      "text/plain": [
       "   Survived  Pclass   Age  SibSp  Parch  Ticket     Fare  FamilySize  \\\n",
       "0       0.0       3  22.0      1      0       9   7.2500           2   \n",
       "1       1.0       1  38.0      1      0       8  71.2833           2   \n",
       "2       1.0       3  26.0      0      0      16   7.9250           1   \n",
       "3       1.0       1  35.0      1      0       6  53.1000           2   \n",
       "4       0.0       3  35.0      0      0       6   8.0500           1   \n",
       "\n",
       "   IsMarried  IsAlone  ...  FareBin_(83.475, 512.329]  AgeBin_(8.0, 16.0]  \\\n",
       "0          0        0  ...                          0                   0   \n",
       "1          1        0  ...                          0                   0   \n",
       "2          0        1  ...                          0                   0   \n",
       "3          1        0  ...                          0                   0   \n",
       "4          0        1  ...                          0                   0   \n",
       "\n",
       "   AgeBin_(16.0, 24.0]  AgeBin_(24.0, 32.0]  AgeBin_(32.0, 40.0]  \\\n",
       "0                    1                    0                    0   \n",
       "1                    0                    0                    1   \n",
       "2                    0                    1                    0   \n",
       "3                    0                    0                    1   \n",
       "4                    0                    0                    1   \n",
       "\n",
       "   AgeBin_(40.0, 48.0]  AgeBin_(48.0, 56.0]  AgeBin_(56.0, 64.0]  \\\n",
       "0                    0                    0                    0   \n",
       "1                    0                    0                    0   \n",
       "2                    0                    0                    0   \n",
       "3                    0                    0                    0   \n",
       "4                    0                    0                    0   \n",
       "\n",
       "   AgeBin_(64.0, 72.0]  AgeBin_(72.0, 80.0]  \n",
       "0                    0                    0  \n",
       "1                    0                    0  \n",
       "2                    0                    0  \n",
       "3                    0                    0  \n",
       "4                    0                    0  \n",
       "\n",
       "[5 rows x 916 columns]"
      ]
     },
     "execution_count": 98,
     "metadata": {},
     "output_type": "execute_result"
    }
   ],
   "source": [
    "train_df.head()"
   ]
  },
  {
   "cell_type": "code",
   "execution_count": 99,
   "id": "38caa08b",
   "metadata": {
    "execution": {
     "iopub.execute_input": "2021-11-05T11:45:55.553265Z",
     "iopub.status.busy": "2021-11-05T11:45:55.552618Z",
     "iopub.status.idle": "2021-11-05T11:45:55.574613Z",
     "shell.execute_reply": "2021-11-05T11:45:55.575201Z",
     "shell.execute_reply.started": "2021-11-05T11:38:28.747965Z"
    },
    "papermill": {
     "duration": 0.186512,
     "end_time": "2021-11-05T11:45:55.575396",
     "exception": false,
     "start_time": "2021-11-05T11:45:55.388884",
     "status": "completed"
    },
    "tags": []
   },
   "outputs": [
    {
     "data": {
      "text/html": [
       "<div>\n",
       "<style scoped>\n",
       "    .dataframe tbody tr th:only-of-type {\n",
       "        vertical-align: middle;\n",
       "    }\n",
       "\n",
       "    .dataframe tbody tr th {\n",
       "        vertical-align: top;\n",
       "    }\n",
       "\n",
       "    .dataframe thead th {\n",
       "        text-align: right;\n",
       "    }\n",
       "</style>\n",
       "<table border=\"1\" class=\"dataframe\">\n",
       "  <thead>\n",
       "    <tr style=\"text-align: right;\">\n",
       "      <th></th>\n",
       "      <th>Survived</th>\n",
       "      <th>Pclass</th>\n",
       "      <th>Age</th>\n",
       "      <th>SibSp</th>\n",
       "      <th>Parch</th>\n",
       "      <th>Ticket</th>\n",
       "      <th>Fare</th>\n",
       "      <th>FamilySize</th>\n",
       "      <th>IsMarried</th>\n",
       "      <th>IsAlone</th>\n",
       "      <th>...</th>\n",
       "      <th>FareBin_(83.475, 512.329]</th>\n",
       "      <th>AgeBin_(8.0, 16.0]</th>\n",
       "      <th>AgeBin_(16.0, 24.0]</th>\n",
       "      <th>AgeBin_(24.0, 32.0]</th>\n",
       "      <th>AgeBin_(32.0, 40.0]</th>\n",
       "      <th>AgeBin_(40.0, 48.0]</th>\n",
       "      <th>AgeBin_(48.0, 56.0]</th>\n",
       "      <th>AgeBin_(56.0, 64.0]</th>\n",
       "      <th>AgeBin_(64.0, 72.0]</th>\n",
       "      <th>AgeBin_(72.0, 80.0]</th>\n",
       "    </tr>\n",
       "  </thead>\n",
       "  <tbody>\n",
       "    <tr>\n",
       "      <th>0</th>\n",
       "      <td>NaN</td>\n",
       "      <td>3</td>\n",
       "      <td>34.5</td>\n",
       "      <td>0</td>\n",
       "      <td>0</td>\n",
       "      <td>6</td>\n",
       "      <td>7.8292</td>\n",
       "      <td>1</td>\n",
       "      <td>0</td>\n",
       "      <td>1</td>\n",
       "      <td>...</td>\n",
       "      <td>0</td>\n",
       "      <td>0</td>\n",
       "      <td>0</td>\n",
       "      <td>0</td>\n",
       "      <td>1</td>\n",
       "      <td>0</td>\n",
       "      <td>0</td>\n",
       "      <td>0</td>\n",
       "      <td>0</td>\n",
       "      <td>0</td>\n",
       "    </tr>\n",
       "    <tr>\n",
       "      <th>1</th>\n",
       "      <td>NaN</td>\n",
       "      <td>3</td>\n",
       "      <td>47.0</td>\n",
       "      <td>1</td>\n",
       "      <td>0</td>\n",
       "      <td>6</td>\n",
       "      <td>7.0000</td>\n",
       "      <td>2</td>\n",
       "      <td>1</td>\n",
       "      <td>0</td>\n",
       "      <td>...</td>\n",
       "      <td>0</td>\n",
       "      <td>0</td>\n",
       "      <td>0</td>\n",
       "      <td>0</td>\n",
       "      <td>0</td>\n",
       "      <td>1</td>\n",
       "      <td>0</td>\n",
       "      <td>0</td>\n",
       "      <td>0</td>\n",
       "      <td>0</td>\n",
       "    </tr>\n",
       "    <tr>\n",
       "      <th>2</th>\n",
       "      <td>NaN</td>\n",
       "      <td>2</td>\n",
       "      <td>62.0</td>\n",
       "      <td>0</td>\n",
       "      <td>0</td>\n",
       "      <td>6</td>\n",
       "      <td>9.6875</td>\n",
       "      <td>1</td>\n",
       "      <td>0</td>\n",
       "      <td>1</td>\n",
       "      <td>...</td>\n",
       "      <td>0</td>\n",
       "      <td>0</td>\n",
       "      <td>0</td>\n",
       "      <td>0</td>\n",
       "      <td>0</td>\n",
       "      <td>0</td>\n",
       "      <td>0</td>\n",
       "      <td>1</td>\n",
       "      <td>0</td>\n",
       "      <td>0</td>\n",
       "    </tr>\n",
       "    <tr>\n",
       "      <th>3</th>\n",
       "      <td>NaN</td>\n",
       "      <td>3</td>\n",
       "      <td>27.0</td>\n",
       "      <td>0</td>\n",
       "      <td>0</td>\n",
       "      <td>6</td>\n",
       "      <td>8.6625</td>\n",
       "      <td>1</td>\n",
       "      <td>0</td>\n",
       "      <td>1</td>\n",
       "      <td>...</td>\n",
       "      <td>0</td>\n",
       "      <td>0</td>\n",
       "      <td>0</td>\n",
       "      <td>1</td>\n",
       "      <td>0</td>\n",
       "      <td>0</td>\n",
       "      <td>0</td>\n",
       "      <td>0</td>\n",
       "      <td>0</td>\n",
       "      <td>0</td>\n",
       "    </tr>\n",
       "    <tr>\n",
       "      <th>4</th>\n",
       "      <td>NaN</td>\n",
       "      <td>3</td>\n",
       "      <td>22.0</td>\n",
       "      <td>1</td>\n",
       "      <td>1</td>\n",
       "      <td>7</td>\n",
       "      <td>12.2875</td>\n",
       "      <td>3</td>\n",
       "      <td>1</td>\n",
       "      <td>0</td>\n",
       "      <td>...</td>\n",
       "      <td>0</td>\n",
       "      <td>0</td>\n",
       "      <td>1</td>\n",
       "      <td>0</td>\n",
       "      <td>0</td>\n",
       "      <td>0</td>\n",
       "      <td>0</td>\n",
       "      <td>0</td>\n",
       "      <td>0</td>\n",
       "      <td>0</td>\n",
       "    </tr>\n",
       "  </tbody>\n",
       "</table>\n",
       "<p>5 rows × 916 columns</p>\n",
       "</div>"
      ],
      "text/plain": [
       "   Survived  Pclass   Age  SibSp  Parch  Ticket     Fare  FamilySize  \\\n",
       "0       NaN       3  34.5      0      0       6   7.8292           1   \n",
       "1       NaN       3  47.0      1      0       6   7.0000           2   \n",
       "2       NaN       2  62.0      0      0       6   9.6875           1   \n",
       "3       NaN       3  27.0      0      0       6   8.6625           1   \n",
       "4       NaN       3  22.0      1      1       7  12.2875           3   \n",
       "\n",
       "   IsMarried  IsAlone  ...  FareBin_(83.475, 512.329]  AgeBin_(8.0, 16.0]  \\\n",
       "0          0        1  ...                          0                   0   \n",
       "1          1        0  ...                          0                   0   \n",
       "2          0        1  ...                          0                   0   \n",
       "3          0        1  ...                          0                   0   \n",
       "4          1        0  ...                          0                   0   \n",
       "\n",
       "   AgeBin_(16.0, 24.0]  AgeBin_(24.0, 32.0]  AgeBin_(32.0, 40.0]  \\\n",
       "0                    0                    0                    1   \n",
       "1                    0                    0                    0   \n",
       "2                    0                    0                    0   \n",
       "3                    0                    1                    0   \n",
       "4                    1                    0                    0   \n",
       "\n",
       "   AgeBin_(40.0, 48.0]  AgeBin_(48.0, 56.0]  AgeBin_(56.0, 64.0]  \\\n",
       "0                    0                    0                    0   \n",
       "1                    1                    0                    0   \n",
       "2                    0                    0                    1   \n",
       "3                    0                    0                    0   \n",
       "4                    0                    0                    0   \n",
       "\n",
       "   AgeBin_(64.0, 72.0]  AgeBin_(72.0, 80.0]  \n",
       "0                    0                    0  \n",
       "1                    0                    0  \n",
       "2                    0                    0  \n",
       "3                    0                    0  \n",
       "4                    0                    0  \n",
       "\n",
       "[5 rows x 916 columns]"
      ]
     },
     "execution_count": 99,
     "metadata": {},
     "output_type": "execute_result"
    }
   ],
   "source": [
    "test_df.head()"
   ]
  },
  {
   "cell_type": "code",
   "execution_count": 100,
   "id": "fa0084dc",
   "metadata": {
    "execution": {
     "iopub.execute_input": "2021-11-05T11:45:55.901136Z",
     "iopub.status.busy": "2021-11-05T11:45:55.900253Z",
     "iopub.status.idle": "2021-11-05T11:45:55.908362Z",
     "shell.execute_reply": "2021-11-05T11:45:55.909051Z",
     "shell.execute_reply.started": "2021-11-05T11:38:28.773520Z"
    },
    "papermill": {
     "duration": 0.174167,
     "end_time": "2021-11-05T11:45:55.909241",
     "exception": false,
     "start_time": "2021-11-05T11:45:55.735074",
     "status": "completed"
    },
    "tags": []
   },
   "outputs": [],
   "source": [
    "X=train_df.drop('Survived', axis=1)\n",
    "Y=train_df['Survived'].astype('int')"
   ]
  },
  {
   "cell_type": "code",
   "execution_count": 101,
   "id": "5c04ebf6",
   "metadata": {
    "execution": {
     "iopub.execute_input": "2021-11-05T11:45:56.233808Z",
     "iopub.status.busy": "2021-11-05T11:45:56.233108Z",
     "iopub.status.idle": "2021-11-05T11:45:56.257045Z",
     "shell.execute_reply": "2021-11-05T11:45:56.257569Z",
     "shell.execute_reply.started": "2021-11-05T11:38:28.783606Z"
    },
    "papermill": {
     "duration": 0.189552,
     "end_time": "2021-11-05T11:45:56.257751",
     "exception": false,
     "start_time": "2021-11-05T11:45:56.068199",
     "status": "completed"
    },
    "tags": []
   },
   "outputs": [
    {
     "data": {
      "text/html": [
       "<div>\n",
       "<style scoped>\n",
       "    .dataframe tbody tr th:only-of-type {\n",
       "        vertical-align: middle;\n",
       "    }\n",
       "\n",
       "    .dataframe tbody tr th {\n",
       "        vertical-align: top;\n",
       "    }\n",
       "\n",
       "    .dataframe thead th {\n",
       "        text-align: right;\n",
       "    }\n",
       "</style>\n",
       "<table border=\"1\" class=\"dataframe\">\n",
       "  <thead>\n",
       "    <tr style=\"text-align: right;\">\n",
       "      <th></th>\n",
       "      <th>Pclass</th>\n",
       "      <th>Age</th>\n",
       "      <th>SibSp</th>\n",
       "      <th>Parch</th>\n",
       "      <th>Ticket</th>\n",
       "      <th>Fare</th>\n",
       "      <th>FamilySize</th>\n",
       "      <th>IsMarried</th>\n",
       "      <th>IsAlone</th>\n",
       "      <th>Woman_or_Boy</th>\n",
       "      <th>...</th>\n",
       "      <th>FareBin_(83.475, 512.329]</th>\n",
       "      <th>AgeBin_(8.0, 16.0]</th>\n",
       "      <th>AgeBin_(16.0, 24.0]</th>\n",
       "      <th>AgeBin_(24.0, 32.0]</th>\n",
       "      <th>AgeBin_(32.0, 40.0]</th>\n",
       "      <th>AgeBin_(40.0, 48.0]</th>\n",
       "      <th>AgeBin_(48.0, 56.0]</th>\n",
       "      <th>AgeBin_(56.0, 64.0]</th>\n",
       "      <th>AgeBin_(64.0, 72.0]</th>\n",
       "      <th>AgeBin_(72.0, 80.0]</th>\n",
       "    </tr>\n",
       "  </thead>\n",
       "  <tbody>\n",
       "    <tr>\n",
       "      <th>0</th>\n",
       "      <td>3</td>\n",
       "      <td>34.5</td>\n",
       "      <td>0</td>\n",
       "      <td>0</td>\n",
       "      <td>6</td>\n",
       "      <td>7.8292</td>\n",
       "      <td>1</td>\n",
       "      <td>0</td>\n",
       "      <td>1</td>\n",
       "      <td>0</td>\n",
       "      <td>...</td>\n",
       "      <td>0</td>\n",
       "      <td>0</td>\n",
       "      <td>0</td>\n",
       "      <td>0</td>\n",
       "      <td>1</td>\n",
       "      <td>0</td>\n",
       "      <td>0</td>\n",
       "      <td>0</td>\n",
       "      <td>0</td>\n",
       "      <td>0</td>\n",
       "    </tr>\n",
       "    <tr>\n",
       "      <th>1</th>\n",
       "      <td>3</td>\n",
       "      <td>47.0</td>\n",
       "      <td>1</td>\n",
       "      <td>0</td>\n",
       "      <td>6</td>\n",
       "      <td>7.0000</td>\n",
       "      <td>2</td>\n",
       "      <td>1</td>\n",
       "      <td>0</td>\n",
       "      <td>1</td>\n",
       "      <td>...</td>\n",
       "      <td>0</td>\n",
       "      <td>0</td>\n",
       "      <td>0</td>\n",
       "      <td>0</td>\n",
       "      <td>0</td>\n",
       "      <td>1</td>\n",
       "      <td>0</td>\n",
       "      <td>0</td>\n",
       "      <td>0</td>\n",
       "      <td>0</td>\n",
       "    </tr>\n",
       "    <tr>\n",
       "      <th>2</th>\n",
       "      <td>2</td>\n",
       "      <td>62.0</td>\n",
       "      <td>0</td>\n",
       "      <td>0</td>\n",
       "      <td>6</td>\n",
       "      <td>9.6875</td>\n",
       "      <td>1</td>\n",
       "      <td>0</td>\n",
       "      <td>1</td>\n",
       "      <td>0</td>\n",
       "      <td>...</td>\n",
       "      <td>0</td>\n",
       "      <td>0</td>\n",
       "      <td>0</td>\n",
       "      <td>0</td>\n",
       "      <td>0</td>\n",
       "      <td>0</td>\n",
       "      <td>0</td>\n",
       "      <td>1</td>\n",
       "      <td>0</td>\n",
       "      <td>0</td>\n",
       "    </tr>\n",
       "    <tr>\n",
       "      <th>3</th>\n",
       "      <td>3</td>\n",
       "      <td>27.0</td>\n",
       "      <td>0</td>\n",
       "      <td>0</td>\n",
       "      <td>6</td>\n",
       "      <td>8.6625</td>\n",
       "      <td>1</td>\n",
       "      <td>0</td>\n",
       "      <td>1</td>\n",
       "      <td>0</td>\n",
       "      <td>...</td>\n",
       "      <td>0</td>\n",
       "      <td>0</td>\n",
       "      <td>0</td>\n",
       "      <td>1</td>\n",
       "      <td>0</td>\n",
       "      <td>0</td>\n",
       "      <td>0</td>\n",
       "      <td>0</td>\n",
       "      <td>0</td>\n",
       "      <td>0</td>\n",
       "    </tr>\n",
       "    <tr>\n",
       "      <th>4</th>\n",
       "      <td>3</td>\n",
       "      <td>22.0</td>\n",
       "      <td>1</td>\n",
       "      <td>1</td>\n",
       "      <td>7</td>\n",
       "      <td>12.2875</td>\n",
       "      <td>3</td>\n",
       "      <td>1</td>\n",
       "      <td>0</td>\n",
       "      <td>1</td>\n",
       "      <td>...</td>\n",
       "      <td>0</td>\n",
       "      <td>0</td>\n",
       "      <td>1</td>\n",
       "      <td>0</td>\n",
       "      <td>0</td>\n",
       "      <td>0</td>\n",
       "      <td>0</td>\n",
       "      <td>0</td>\n",
       "      <td>0</td>\n",
       "      <td>0</td>\n",
       "    </tr>\n",
       "  </tbody>\n",
       "</table>\n",
       "<p>5 rows × 915 columns</p>\n",
       "</div>"
      ],
      "text/plain": [
       "   Pclass   Age  SibSp  Parch  Ticket     Fare  FamilySize  IsMarried  \\\n",
       "0       3  34.5      0      0       6   7.8292           1          0   \n",
       "1       3  47.0      1      0       6   7.0000           2          1   \n",
       "2       2  62.0      0      0       6   9.6875           1          0   \n",
       "3       3  27.0      0      0       6   8.6625           1          0   \n",
       "4       3  22.0      1      1       7  12.2875           3          1   \n",
       "\n",
       "   IsAlone  Woman_or_Boy  ...  FareBin_(83.475, 512.329]  AgeBin_(8.0, 16.0]  \\\n",
       "0        1             0  ...                          0                   0   \n",
       "1        0             1  ...                          0                   0   \n",
       "2        1             0  ...                          0                   0   \n",
       "3        1             0  ...                          0                   0   \n",
       "4        0             1  ...                          0                   0   \n",
       "\n",
       "   AgeBin_(16.0, 24.0]  AgeBin_(24.0, 32.0]  AgeBin_(32.0, 40.0]  \\\n",
       "0                    0                    0                    1   \n",
       "1                    0                    0                    0   \n",
       "2                    0                    0                    0   \n",
       "3                    0                    1                    0   \n",
       "4                    1                    0                    0   \n",
       "\n",
       "   AgeBin_(40.0, 48.0]  AgeBin_(48.0, 56.0]  AgeBin_(56.0, 64.0]  \\\n",
       "0                    0                    0                    0   \n",
       "1                    1                    0                    0   \n",
       "2                    0                    0                    1   \n",
       "3                    0                    0                    0   \n",
       "4                    0                    0                    0   \n",
       "\n",
       "   AgeBin_(64.0, 72.0]  AgeBin_(72.0, 80.0]  \n",
       "0                    0                    0  \n",
       "1                    0                    0  \n",
       "2                    0                    0  \n",
       "3                    0                    0  \n",
       "4                    0                    0  \n",
       "\n",
       "[5 rows x 915 columns]"
      ]
     },
     "execution_count": 101,
     "metadata": {},
     "output_type": "execute_result"
    }
   ],
   "source": [
    "test_df.drop('Survived', axis=1, inplace=True)\n",
    "test_df.head()"
   ]
  },
  {
   "cell_type": "markdown",
   "id": "a75d5a90",
   "metadata": {
    "papermill": {
     "duration": 0.164731,
     "end_time": "2021-11-05T11:45:56.589776",
     "exception": false,
     "start_time": "2021-11-05T11:45:56.425045",
     "status": "completed"
    },
    "tags": []
   },
   "source": [
    "## Scaler"
   ]
  },
  {
   "cell_type": "code",
   "execution_count": 102,
   "id": "bf4368f9",
   "metadata": {
    "execution": {
     "iopub.execute_input": "2021-11-05T11:45:56.928832Z",
     "iopub.status.busy": "2021-11-05T11:45:56.926023Z",
     "iopub.status.idle": "2021-11-05T11:45:57.006102Z",
     "shell.execute_reply": "2021-11-05T11:45:57.006761Z",
     "shell.execute_reply.started": "2021-11-05T11:38:28.815010Z"
    },
    "papermill": {
     "duration": 0.257843,
     "end_time": "2021-11-05T11:45:57.007037",
     "exception": false,
     "start_time": "2021-11-05T11:45:56.749194",
     "status": "completed"
    },
    "tags": []
   },
   "outputs": [],
   "source": [
    "from sklearn.preprocessing import StandardScaler\n",
    "sc=StandardScaler()\n",
    "X=sc.fit_transform(X)\n",
    "test_df=sc.fit_transform(test_df)"
   ]
  },
  {
   "cell_type": "markdown",
   "id": "b892f998",
   "metadata": {
    "papermill": {
     "duration": 0.160203,
     "end_time": "2021-11-05T11:45:57.331817",
     "exception": false,
     "start_time": "2021-11-05T11:45:57.171614",
     "status": "completed"
    },
    "tags": []
   },
   "source": [
    "# Model"
   ]
  },
  {
   "cell_type": "code",
   "execution_count": 103,
   "id": "b943d2a9",
   "metadata": {
    "execution": {
     "iopub.execute_input": "2021-11-05T11:45:57.666543Z",
     "iopub.status.busy": "2021-11-05T11:45:57.665476Z",
     "iopub.status.idle": "2021-11-05T11:45:57.667639Z",
     "shell.execute_reply": "2021-11-05T11:45:57.668234Z",
     "shell.execute_reply.started": "2021-11-05T11:38:28.892028Z"
    },
    "papermill": {
     "duration": 0.17668,
     "end_time": "2021-11-05T11:45:57.668443",
     "exception": false,
     "start_time": "2021-11-05T11:45:57.491763",
     "status": "completed"
    },
    "tags": []
   },
   "outputs": [],
   "source": [
    "def train_show_results(X, Y, test_df, model, split_share = 0.3,  **kwargs):\n",
    "    \n",
    "    print(f\"Training using {model} with {kwargs}\")\n",
    "    m = model(**kwargs)\n",
    "    X_train, X_test, Y_train, Y_test = train_test_split(X, Y, test_size = split_share, stratify = Y)\n",
    "    \n",
    "    m.fit(X_train, Y_train)\n",
    "    report(m, X_test, Y_test, test_df)"
   ]
  },
  {
   "cell_type": "code",
   "execution_count": 104,
   "id": "7a1d04b1",
   "metadata": {
    "execution": {
     "iopub.execute_input": "2021-11-05T11:45:57.995242Z",
     "iopub.status.busy": "2021-11-05T11:45:57.994273Z",
     "iopub.status.idle": "2021-11-05T11:45:58.001218Z",
     "shell.execute_reply": "2021-11-05T11:45:58.000674Z",
     "shell.execute_reply.started": "2021-11-05T11:38:28.900908Z"
    },
    "papermill": {
     "duration": 0.167587,
     "end_time": "2021-11-05T11:45:58.001390",
     "exception": false,
     "start_time": "2021-11-05T11:45:57.833803",
     "status": "completed"
    },
    "tags": []
   },
   "outputs": [],
   "source": [
    "def report(model, X_test, Y_test, test_df):\n",
    "    preds = model.predict(X_test)\n",
    "    print(metrics.classification_report(Y_test, preds))\n",
    "    \n",
    "    ax = metrics.plot_roc_curve(model, X_test, Y_test)\n",
    "    plt.title(f\"ROC-AUC curve using {str(model).split('.')[-1]}\")\n",
    "    print(\"Accuracy: %s%%\" % (100*accuracy_score(Y_test, preds)))\n",
    "    plt.show()\n",
    "    return model.predict(test_df)"
   ]
  },
  {
   "cell_type": "code",
   "execution_count": 105,
   "id": "08a0cfd7",
   "metadata": {
    "execution": {
     "iopub.execute_input": "2021-11-05T11:45:58.323669Z",
     "iopub.status.busy": "2021-11-05T11:45:58.322950Z",
     "iopub.status.idle": "2021-11-05T11:45:58.327055Z",
     "shell.execute_reply": "2021-11-05T11:45:58.327666Z",
     "shell.execute_reply.started": "2021-11-05T11:43:52.954266Z"
    },
    "papermill": {
     "duration": 0.166109,
     "end_time": "2021-11-05T11:45:58.327841",
     "exception": false,
     "start_time": "2021-11-05T11:45:58.161732",
     "status": "completed"
    },
    "tags": []
   },
   "outputs": [],
   "source": [
    "def submission(preds):\n",
    "    result=pd.DataFrame()\n",
    "    result['PassengerId']=test_PassengerId\n",
    "    result['Survived']=preds\n",
    "    result.head()\n",
    "    result.to_csv('submission.csv', index=False) "
   ]
  },
  {
   "cell_type": "code",
   "execution_count": 106,
   "id": "2bf8e974",
   "metadata": {
    "execution": {
     "iopub.execute_input": "2021-11-05T11:45:58.649703Z",
     "iopub.status.busy": "2021-11-05T11:45:58.649035Z",
     "iopub.status.idle": "2021-11-05T11:45:58.987499Z",
     "shell.execute_reply": "2021-11-05T11:45:58.986313Z",
     "shell.execute_reply.started": "2021-11-05T11:38:28.925656Z"
    },
    "papermill": {
     "duration": 0.500779,
     "end_time": "2021-11-05T11:45:58.987781",
     "exception": false,
     "start_time": "2021-11-05T11:45:58.487002",
     "status": "completed"
    },
    "tags": []
   },
   "outputs": [
    {
     "name": "stdout",
     "output_type": "stream",
     "text": [
      "Training using <class 'sklearn.linear_model._logistic.LogisticRegression'> with {'penalty': 'l1', 'solver': 'liblinear'}\n",
      "              precision    recall  f1-score   support\n",
      "\n",
      "           0       0.86      0.92      0.89       165\n",
      "           1       0.86      0.77      0.81       103\n",
      "\n",
      "    accuracy                           0.86       268\n",
      "   macro avg       0.86      0.84      0.85       268\n",
      "weighted avg       0.86      0.86      0.86       268\n",
      "\n",
      "Accuracy: 86.19402985074626%\n"
     ]
    },
    {
     "data": {
      "image/png": "[encoded data removed]",
      "text/plain": [
       "<Figure size 432x288 with 1 Axes>"
      ]
     },
     "metadata": {
      "needs_background": "light"
     },
     "output_type": "display_data"
    }
   ],
   "source": [
    "train_show_results(X, Y, test_df, LogisticRegression, penalty=\"l1\", solver=\"liblinear\")"
   ]
  },
  {
   "cell_type": "code",
   "execution_count": 107,
   "id": "650d303c",
   "metadata": {
    "execution": {
     "iopub.execute_input": "2021-11-05T11:45:59.363159Z",
     "iopub.status.busy": "2021-11-05T11:45:59.362510Z",
     "iopub.status.idle": "2021-11-05T11:46:00.416621Z",
     "shell.execute_reply": "2021-11-05T11:46:00.415998Z",
     "shell.execute_reply.started": "2021-11-05T11:38:29.344676Z"
    },
    "papermill": {
     "duration": 1.21841,
     "end_time": "2021-11-05T11:46:00.416792",
     "exception": false,
     "start_time": "2021-11-05T11:45:59.198382",
     "status": "completed"
    },
    "tags": []
   },
   "outputs": [
    {
     "name": "stdout",
     "output_type": "stream",
     "text": [
      "Training using <class 'sklearn.ensemble._forest.RandomForestClassifier'> with {'max_depth': 100}\n",
      "              precision    recall  f1-score   support\n",
      "\n",
      "           0       0.86      0.88      0.87       165\n",
      "           1       0.80      0.77      0.78       103\n",
      "\n",
      "    accuracy                           0.84       268\n",
      "   macro avg       0.83      0.82      0.83       268\n",
      "weighted avg       0.83      0.84      0.84       268\n",
      "\n",
      "Accuracy: 83.5820895522388%\n"
     ]
    },
    {
     "data": {
      "image/png": "[encoded data removed]",
      "text/plain": [
       "<Figure size 432x288 with 1 Axes>"
      ]
     },
     "metadata": {
      "needs_background": "light"
     },
     "output_type": "display_data"
    }
   ],
   "source": [
    "train_show_results(X, Y, test_df, RandomForestClassifier, max_depth=100)"
   ]
  },
  {
   "cell_type": "code",
   "execution_count": 108,
   "id": "30950401",
   "metadata": {
    "execution": {
     "iopub.execute_input": "2021-11-05T11:46:00.748358Z",
     "iopub.status.busy": "2021-11-05T11:46:00.747662Z",
     "iopub.status.idle": "2021-11-05T11:46:02.226255Z",
     "shell.execute_reply": "2021-11-05T11:46:02.225714Z",
     "shell.execute_reply.started": "2021-11-05T11:38:30.065046Z"
    },
    "papermill": {
     "duration": 1.645988,
     "end_time": "2021-11-05T11:46:02.226426",
     "exception": false,
     "start_time": "2021-11-05T11:46:00.580438",
     "status": "completed"
    },
    "tags": []
   },
   "outputs": [
    {
     "name": "stdout",
     "output_type": "stream",
     "text": [
      "Training using <class 'sklearn.svm._classes.SVC'> with {'C': 50}\n",
      "              precision    recall  f1-score   support\n",
      "\n",
      "           0       0.83      0.90      0.86       165\n",
      "           1       0.81      0.70      0.75       103\n",
      "\n",
      "    accuracy                           0.82       268\n",
      "   macro avg       0.82      0.80      0.81       268\n",
      "weighted avg       0.82      0.82      0.82       268\n",
      "\n",
      "Accuracy: 82.08955223880598%\n"
     ]
    },
    {
     "data": {
      "image/png": "[encoded data removed]",
      "text/plain": [
       "<Figure size 432x288 with 1 Axes>"
      ]
     },
     "metadata": {
      "needs_background": "light"
     },
     "output_type": "display_data"
    }
   ],
   "source": [
    "train_show_results(X, Y, test_df, SVC, C=50)"
   ]
  },
  {
   "cell_type": "markdown",
   "id": "99ef018f",
   "metadata": {
    "papermill": {
     "duration": 0.166038,
     "end_time": "2021-11-05T11:46:02.555566",
     "exception": false,
     "start_time": "2021-11-05T11:46:02.389528",
     "status": "completed"
    },
    "tags": []
   },
   "source": [
    "# Model Tuning"
   ]
  },
  {
   "cell_type": "code",
   "execution_count": 109,
   "id": "c58ce7a9",
   "metadata": {
    "execution": {
     "iopub.execute_input": "2021-11-05T11:46:02.887276Z",
     "iopub.status.busy": "2021-11-05T11:46:02.886625Z",
     "iopub.status.idle": "2021-11-05T11:47:38.962272Z",
     "shell.execute_reply": "2021-11-05T11:47:38.961615Z",
     "shell.execute_reply.started": "2021-11-05T11:38:31.561698Z"
    },
    "papermill": {
     "duration": 96.244258,
     "end_time": "2021-11-05T11:47:38.962500",
     "exception": false,
     "start_time": "2021-11-05T11:46:02.718242",
     "status": "completed"
    },
    "tags": []
   },
   "outputs": [
    {
     "name": "stdout",
     "output_type": "stream",
     "text": [
      "Fitting 5 folds for each of 96 candidates, totalling 480 fits\n"
     ]
    },
    {
     "name": "stderr",
     "output_type": "stream",
     "text": [
      "[Parallel(n_jobs=-1)]: Using backend LokyBackend with 4 concurrent workers.\n",
      "[Parallel(n_jobs=-1)]: Done  42 tasks      | elapsed:    9.2s\n",
      "[Parallel(n_jobs=-1)]: Done 192 tasks      | elapsed:   34.5s\n",
      "[Parallel(n_jobs=-1)]: Done 442 tasks      | elapsed:  1.4min\n",
      "[Parallel(n_jobs=-1)]: Done 480 out of 480 | elapsed:  1.6min finished\n"
     ]
    },
    {
     "name": "stdout",
     "output_type": "stream",
     "text": [
      "              precision    recall  f1-score   support\n",
      "\n",
      "           0       0.88      0.98      0.93       549\n",
      "           1       0.97      0.78      0.86       342\n",
      "\n",
      "    accuracy                           0.90       891\n",
      "   macro avg       0.92      0.88      0.89       891\n",
      "weighted avg       0.91      0.90      0.90       891\n",
      "\n",
      "Accuracy: 90.46015712682379%\n"
     ]
    },
    {
     "data": {
      "image/png": "[encoded data removed]",
      "text/plain": [
       "<Figure size 432x288 with 1 Axes>"
      ]
     },
     "metadata": {
      "needs_background": "light"
     },
     "output_type": "display_data"
    }
   ],
   "source": [
    "random_state=1\n",
    "\n",
    "rf_param_grid = {\n",
    "    'min_samples_split': [3, 5, 10], \n",
    "    'n_estimators' : [100, 300],\n",
    "    'max_depth': [3, 5, 15, 25],\n",
    "    'max_features': [3, 5, 10, 20]\n",
    "}\n",
    "\n",
    "clf = GridSearchCV(RandomForestClassifier(), param_grid=rf_param_grid, \n",
    "                       cv = StratifiedKFold(n_splits = 5), scoring = \"accuracy\", n_jobs = -1,verbose = 1)\n",
    "clf.fit(X, Y)\n",
    "final_model=clf.best_estimator_\n",
    "final_model.fit(X, Y)\n",
    "pred_rf=report(final_model, X, Y, test_df)"
   ]
  },
  {
   "cell_type": "code",
   "execution_count": 110,
   "id": "c9da3c2a",
   "metadata": {
    "execution": {
     "iopub.execute_input": "2021-11-05T11:47:39.297230Z",
     "iopub.status.busy": "2021-11-05T11:47:39.296607Z",
     "iopub.status.idle": "2021-11-05T11:49:52.746780Z",
     "shell.execute_reply": "2021-11-05T11:49:52.745985Z",
     "shell.execute_reply.started": "2021-11-05T11:40:17.116785Z"
    },
    "papermill": {
     "duration": 133.619463,
     "end_time": "2021-11-05T11:49:52.747050",
     "exception": false,
     "start_time": "2021-11-05T11:47:39.127587",
     "status": "completed"
    },
    "tags": []
   },
   "outputs": [
    {
     "name": "stdout",
     "output_type": "stream",
     "text": [
      "Fitting 10 folds for each of 49 candidates, totalling 490 fits\n"
     ]
    },
    {
     "name": "stderr",
     "output_type": "stream",
     "text": [
      "[Parallel(n_jobs=-1)]: Using backend LokyBackend with 4 concurrent workers.\n",
      "[Parallel(n_jobs=-1)]: Done  42 tasks      | elapsed:    9.4s\n",
      "[Parallel(n_jobs=-1)]: Done 192 tasks      | elapsed:   47.2s\n",
      "[Parallel(n_jobs=-1)]: Done 442 tasks      | elapsed:  1.9min\n",
      "[Parallel(n_jobs=-1)]: Done 490 out of 490 | elapsed:  2.2min finished\n"
     ]
    },
    {
     "name": "stdout",
     "output_type": "stream",
     "text": [
      "              precision    recall  f1-score   support\n",
      "\n",
      "           0       0.98      1.00      0.99       549\n",
      "           1       0.99      0.96      0.98       342\n",
      "\n",
      "    accuracy                           0.98       891\n",
      "   macro avg       0.99      0.98      0.98       891\n",
      "weighted avg       0.98      0.98      0.98       891\n",
      "\n",
      "Accuracy: 98.4287317620651%\n"
     ]
    },
    {
     "data": {
      "image/png": "[encoded data removed]",
      "text/plain": [
       "<Figure size 432x288 with 1 Axes>"
      ]
     },
     "metadata": {
      "needs_background": "light"
     },
     "output_type": "display_data"
    }
   ],
   "source": [
    "random_state=1\n",
    "svc_param_grid = {\"kernel\" : [\"rbf\"],\n",
    "                 \"gamma\": [0.0001,0.001,0.1,1,10,50,100],\n",
    "                 \"C\": [0.0001,0.001,0.1,1,10,50,100],\n",
    "                 }\n",
    "\n",
    "clf = GridSearchCV(SVC(), param_grid=svc_param_grid, \n",
    "                       cv = StratifiedKFold(n_splits = 10), scoring = \"accuracy\", n_jobs = -1,verbose = 1)\n",
    "clf.fit(X, Y)\n",
    "final_model=clf.best_estimator_\n",
    "final_model.fit(X, Y)\n",
    "preds_svc=report(final_model, X, Y, test_df)"
   ]
  },
  {
   "cell_type": "code",
   "execution_count": 111,
   "id": "aeb8ba40",
   "metadata": {
    "execution": {
     "iopub.execute_input": "2021-11-05T11:49:53.096509Z",
     "iopub.status.busy": "2021-11-05T11:49:53.090219Z",
     "iopub.status.idle": "2021-11-05T11:49:53.103079Z",
     "shell.execute_reply": "2021-11-05T11:49:53.103732Z",
     "shell.execute_reply.started": "2021-11-05T11:44:03.096449Z"
    },
    "papermill": {
     "duration": 0.187095,
     "end_time": "2021-11-05T11:49:53.103906",
     "exception": false,
     "start_time": "2021-11-05T11:49:52.916811",
     "status": "completed"
    },
    "tags": []
   },
   "outputs": [],
   "source": [
    "#0.80622\n",
    "submission(preds_svc)"
   ]
  }
 ],
 "metadata": {
  "kernelspec": {
   "display_name": "Python 3",
   "language": "python",
   "name": "python3"
  },
  "language_info": {
   "codemirror_mode": {
    "name": "ipython",
    "version": 3
   },
   "file_extension": ".py",
   "mimetype": "text/x-python",
   "name": "python",
   "nbconvert_exporter": "python",
   "pygments_lexer": "ipython3",
   "version": "3.7.10"
  },
  "papermill": {
   "default_parameters": {},
   "duration": 315.869059,
   "end_time": "2021-11-05T11:49:54.189174",
   "environment_variables": {},
   "exception": null,
   "input_path": "__notebook__.ipynb",
   "output_path": "__notebook__.ipynb",
   "parameters": {},
   "start_time": "2021-11-05T11:44:38.320115",
   "version": "2.3.3"
  }
 },
 "nbformat": 4,
 "nbformat_minor": 5
}
